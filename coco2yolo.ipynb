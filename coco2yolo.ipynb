{
 "cells": [
  {
   "cell_type": "code",
   "execution_count": 6,
   "metadata": {},
   "outputs": [],
   "source": [
    "# Library Import\n",
    "# datasets 와 동일한 계층 폴더에서 실행하면 됨\n",
    "import os\n",
    "import json\n",
    "import shutil\n",
    "from tqdm import tqdm"
   ]
  },
  {
   "cell_type": "code",
   "execution_count": 4,
   "metadata": {},
   "outputs": [],
   "source": [
    "def convert_coco_to_yolo_format(root_dir: str, json_file: str, save_dir: str):\n",
    "# Check directory\n",
    "    try:\n",
    "        assert os.path.exists(os.path.join(root_dir, save_dir, \"images\")) == True\n",
    "        assert os.path.exists(os.path.join(root_dir, save_dir, \"labels\")) == True\n",
    "    except:\n",
    "        os.makedirs(os.path.join(root_dir, save_dir, \"images\"), exist_ok=True)\n",
    "        os.makedirs(os.path.join(root_dir, save_dir, \"labels\"), exist_ok=True)\n",
    "    finally:\n",
    "        print(\"Finish make directory\")\n",
    "\n",
    "# Load json\n",
    "    with open(os.path.join(root_dir, json_file), 'r') as f:\n",
    "        coco_json = json.load(f)\n",
    "    anoots = coco_json[\"annotations\"]\n",
    "\n",
    "    print(\"Start converting...\")\n",
    "    for image in tqdm(sorted(coco_json[\"images\"], key=lambda x: x[\"id\"])):\n",
    "        w, h, file_name, image_id = image[\"width\"], image[\"height\"], image[\"file_name\"], image[\"id\"]\n",
    "        file_name = file_name.split(\"/\")[1]\n",
    "    # filtering annotations\n",
    "        obj_candits = list(filter(lambda x: x[\"image_id\"] == image_id, anoots))\n",
    "    # Save txt format to train yolo\n",
    "        with open(os.path.join(root_dir, save_dir, \"labels\", f\"{file_name[:-4]}.txt\"), \"w\") as f:\n",
    "            for obj_candit in obj_candits:\n",
    "             # x1 y1 w h -> cx cy w h               \n",
    "                cat_id = obj_candit[\"category_id\"]\n",
    "\n",
    "                x1, y1, width, height = obj_candit[\"bbox\"]\n",
    "                scaled_cx, scaled_cy = (x1+width/2) / w, (y1+height/2) / h\n",
    "                scaled_width, scaled_height = width / w, height / h\n",
    "                f.write(\"%s %.3f %.3f %.3f %.3f\\n\" %(cat_id, scaled_cx, scaled_cy, scaled_width, scaled_height))\n",
    "            f.close()    # Copy image to new directory\n",
    "        shutil.copy(os.path.join(root_dir, \"train\", file_name), os.path.join(root_dir, save_dir, \"images\", file_name))\n",
    "    print(\"Finish converting...\")"
   ]
  },
  {
   "cell_type": "code",
   "execution_count": 5,
   "metadata": {},
   "outputs": [
    {
     "name": "stdout",
     "output_type": "stream",
     "text": [
      "Finish make directory\n",
      "Start converting...\n"
     ]
    },
    {
     "name": "stderr",
     "output_type": "stream",
     "text": [
      "100%|██████████| 4883/4883 [00:14<00:00, 327.45it/s]"
     ]
    },
    {
     "name": "stdout",
     "output_type": "stream",
     "text": [
      "Finish converting...\n"
     ]
    },
    {
     "name": "stderr",
     "output_type": "stream",
     "text": [
      "\n"
     ]
    }
   ],
   "source": [
    "convert_coco_to_yolo_format(\"dataset\", \"train.json\", \"yolo_train\")"
   ]
  },
  {
   "cell_type": "code",
   "execution_count": null,
   "metadata": {},
   "outputs": [],
   "source": []
  }
 ],
 "metadata": {
  "kernelspec": {
   "display_name": "base",
   "language": "python",
   "name": "python3"
  },
  "language_info": {
   "codemirror_mode": {
    "name": "ipython",
    "version": 3
   },
   "file_extension": ".py",
   "mimetype": "text/x-python",
   "name": "python",
   "nbconvert_exporter": "python",
   "pygments_lexer": "ipython3",
   "version": "3.10.13"
  }
 },
 "nbformat": 4,
 "nbformat_minor": 2
}
