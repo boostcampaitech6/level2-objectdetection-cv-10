{
 "cells": [
  {
   "cell_type": "markdown",
   "metadata": {},
   "source": [
    "# Object Detection - Mission 1\n",
    "#### mAP Metric\n",
    "Object detection 태스크에서 성능을 평가하는 다양한 metric이 존재합니다. 그 중 mAP를 많이 활용하는데요. sample submission 을 활용해 mAP를 계산하는 코드를 작성해봅시다.\n",
    "<br>mAP의 자세한 내용은 01강: Object Detection overview 강의를 참고합니다."
   ]
  },
  {
   "cell_type": "markdown",
   "metadata": {},
   "source": [
    "## 대회 데이터셋 구성\n",
    "Custom 데이터를 구현하여 대회 데이터셋에 mAP를 계산해봅시다. <br>\n",
    "데이터셋의 자세한 개요는 [대회 플랫폼](https://next.stages.ai/competitions/)의 데이터 설명을 참고합니다.\n",
    "> Copyright: CC BY 2.0\n",
    "\n",
    "### dataset\n",
    "    ├── train.json\n",
    "    ├── test.json\n",
    "    ├── train\n",
    "    └── test"
   ]
  },
  {
   "cell_type": "code",
   "execution_count": 5,
   "metadata": {
    "id": "2f5bc891",
    "scrolled": true
   },
   "outputs": [
    {
     "name": "stdout",
     "output_type": "stream",
     "text": [
      "Collecting map_boxes==1.0.5\n",
      "  Downloading map_boxes-1.0.5-py3-none-any.whl (5.1 kB)\n",
      "Requirement already satisfied: numpy in /opt/conda/lib/python3.10/site-packages (from map_boxes==1.0.5) (1.22.4)\n",
      "Requirement already satisfied: pandas in /opt/conda/lib/python3.10/site-packages (from map_boxes==1.0.5) (1.3.5)\n",
      "Requirement already satisfied: python-dateutil>=2.7.3 in /opt/conda/lib/python3.10/site-packages (from pandas->map_boxes==1.0.5) (2.8.2)\n",
      "Requirement already satisfied: pytz>=2017.3 in /opt/conda/lib/python3.10/site-packages (from pandas->map_boxes==1.0.5) (2023.3.post1)\n",
      "Requirement already satisfied: six>=1.5 in /opt/conda/lib/python3.10/site-packages (from python-dateutil>=2.7.3->pandas->map_boxes==1.0.5) (1.16.0)\n",
      "Installing collected packages: map_boxes\n",
      "Successfully installed map_boxes-1.0.5\n",
      "\u001b[33mWARNING: Running pip as the 'root' user can result in broken permissions and conflicting behaviour with the system package manager. It is recommended to use a virtual environment instead: https://pip.pypa.io/warnings/venv\u001b[0m\u001b[33m\n",
      "\u001b[0m"
     ]
    }
   ],
   "source": [
    "# !pip install map_boxes==1.0.5\n",
    "# !pip install numpy==1.19.0\n",
    "# !pip install tqdm==4.65.0\n",
    "# !pip install pycocotools==2.0.6"
   ]
  },
  {
   "cell_type": "code",
   "execution_count": 6,
   "metadata": {
    "id": "8377b5e0"
   },
   "outputs": [
    {
     "name": "stderr",
     "output_type": "stream",
     "text": [
      "/opt/conda/lib/python3.10/site-packages/Cython/Compiler/Main.py:381: FutureWarning: Cython directive 'language_level' not set, using '3str' for now (Py3). This has changed from earlier releases! File: /opt/conda/lib/python3.10/site-packages/map_boxes/compute_overlap.pyx\n",
      "  tree = Parsing.p_module(s, pxd, full_module_name)\n",
      "In file included from /opt/conda/lib/python3.10/site-packages/numpy/core/include/numpy/ndarraytypes.h:1960,\n",
      "                 from /opt/conda/lib/python3.10/site-packages/numpy/core/include/numpy/ndarrayobject.h:12,\n",
      "                 from /opt/conda/lib/python3.10/site-packages/numpy/core/include/numpy/arrayobject.h:5,\n",
      "                 from /data/ephemeral/home/.pyxbld/temp.linux-x86_64-3.10/opt/conda/lib/python3.10/site-packages/map_boxes/compute_overlap.c:1205:\n",
      "/opt/conda/lib/python3.10/site-packages/numpy/core/include/numpy/npy_1_7_deprecated_api.h:17:2: warning: #warning \"Using deprecated NumPy API, disable it with \" \"#define NPY_NO_DEPRECATED_API NPY_1_7_API_VERSION\" [-Wcpp]\n",
      "   17 | #warning \"Using deprecated NumPy API, disable it with \" \\\n",
      "      |  ^~~~~~~\n"
     ]
    }
   ],
   "source": [
    "from map_boxes import mean_average_precision_for_boxes\n",
    "import pandas as pd\n",
    "import numpy as np\n",
    "import json\n",
    "from tqdm import tqdm\n",
    "from pycocotools.coco import COCO"
   ]
  },
  {
   "cell_type": "code",
   "execution_count": 7,
   "metadata": {
    "id": "bb2a5373"
   },
   "outputs": [],
   "source": [
    "'''\n",
    "    GT_JSON: valid set json file path\n",
    "    현재 예시에서는 train.json을 임의로 valid set으로 사용\n",
    "    PRED_CSV: 위의 valid set을 inference한 submission file\n",
    "'''\n",
    "GT_JSON = '../../dataset/train.json'\n",
    "PRED_CSV = '../../sample_submission/train_sample.csv'\n",
    "LABEL_NAME = [\"General trash\", \"Paper\", \"Paper pack\", \"Metal\", \n",
    "              \"Glass\", \"Plastic\", \"Styrofoam\", \"Plastic bag\", \"Battery\", \"Clothing\"]\n",
    "    \n",
    "# load ground truth\n",
    "with open(GT_JSON, 'r') as outfile:\n",
    "    test_anno = (json.load(outfile))\n",
    "\n",
    "# load prediction\n",
    "pred_df = pd.read_csv(PRED_CSV)"
   ]
  },
  {
   "cell_type": "code",
   "execution_count": 20,
   "id": "80ea33c8",
   "metadata": {},
   "outputs": [
    {
     "data": {
      "text/plain": [
       "['0',\n",
       " '0.7978816628456116',\n",
       " '183.583740234375',\n",
       " '204.7623748779297',\n",
       " '757.228759765625',\n",
       " '663.2476196289062',\n",
       " '0',\n",
       " '0.30007776618003845',\n",
       " '294.1588134765625',\n",
       " '428.72027587890625',\n",
       " '712.8113403320312',\n",
       " '662.5757446289062',\n",
       " '9',\n",
       " '0.27576687932014465',\n",
       " '187.20274353027344',\n",
       " '199.62417602539062',\n",
       " '785.662109375',\n",
       " '664.3910522460938',\n",
       " '0',\n",
       " '0.13876120746135712',\n",
       " '360.568359375',\n",
       " '198.63479614257812',\n",
       " '678.2484741210938',\n",
       " '474.7105712890625',\n",
       " '1',\n",
       " '0.09028089046478271',\n",
       " '222.17236328125',\n",
       " '184.7045135498047',\n",
       " '727.7378540039062',\n",
       " '673.251708984375',\n",
       " '9',\n",
       " '0.07502871006727219',\n",
       " '363.07427978515625',\n",
       " '200.3661651611328',\n",
       " '688.6143798828125',\n",
       " '481.45367431640625',\n",
       " '0',\n",
       " '0.07456113398075104',\n",
       " '203.72471618652344',\n",
       " '370.8855285644531',\n",
       " '483.5150146484375',\n",
       " '544.1288452148438']"
      ]
     },
     "execution_count": 20,
     "metadata": {},
     "output_type": "execute_result"
    }
   ],
   "source": [
    "pred_df.iloc[0, 0].split()"
   ]
  },
  {
   "cell_type": "code",
   "execution_count": null,
   "metadata": {
    "id": "52abebcc"
   },
   "outputs": [],
   "source": [
    "'''\n",
    "[\n",
    "    [file_name label_index confidence_score x_min x_max y_min y_max], \n",
    "    [file_name label_index confidence_score x_min x_max y_min y_max],\n",
    "    ,,,\n",
    "    [file_name label_index confidence_score x_min x_max y_min y_max]\n",
    "]\n",
    "\n",
    "이는 아래의 mean_average_precision_for_boxes 함수에 들어갈 양식입니다.\n",
    "new_pred가 위와 같은 format을 갖도록, submission.csv를 가공해봅시다.\n",
    "'''\n",
    "    \n",
    "new_pred = []\n",
    "\n",
    "file_names = pred_df['image_id'].values.tolist()\n",
    "bboxes = pred_df['PredictionString'].values.tolist()\n",
    "    \n",
    "'''\n",
    "TODO create new_pred\n",
    "\n",
    "'''\n",
    "    "
   ]
  },
  {
   "cell_type": "code",
   "execution_count": null,
   "metadata": {
    "id": "f5fa6ff0"
   },
   "outputs": [],
   "source": [
    "'''\n",
    "[\n",
    "    [file_name 1, label_index, x_min, x_max, y_min, y_max], \n",
    "    [file_name 2, label_index, x_min, x_max, y_min, y_max],\n",
    "    ,,,\n",
    "    [file_name , label_index, x_min, x_max, y_min, y_max]\n",
    "]\n",
    "\n",
    "이는 아래의 mean_average_precision_for_boxes 함수에 들어갈 양식입니다.\n",
    "gt가 위와 같은 format을 갖도록, COCO API를 활용하여 가공해봅시다.\n",
    "참고: https://github.com/cocodataset/cocoapi\n",
    "'''\n",
    "    \n",
    "gt = []\n",
    "    \n",
    "   \n",
    "'''\n",
    "coco.getImgIds(): return image id list\n",
    "    \n",
    "coco.loadImgs(image_id): return image_info\n",
    "    \n",
    "image_info['file_name']: return file name\n",
    "   \n",
    "coco.getAnnIds(imgIds=image_info['id']): return annotation id\n",
    "    \n",
    "coco.loadAnns(ann_ids): return annotation information list (annotation_info_list)\n",
    "    \n",
    "annotation_info_list[i]['bbox']: return i'th annotation [x_min, y_min, w, h]\n",
    "    \n",
    "annotation_info_list[i]['category_id']: return i'th annotation category\n",
    "    \n",
    "'''\n",
    "coco = COCO(GT_JSON)\n",
    "\n",
    "'''\n",
    "TODO create gt\n",
    "'''"
   ]
  },
  {
   "cell_type": "code",
   "execution_count": null,
   "metadata": {
    "id": "8707b613"
   },
   "outputs": [],
   "source": [
    "'''\n",
    "calculate mAP\n",
    "'''\n",
    "\n",
    "mean_ap, average_precisions = mean_average_precision_for_boxes(gt, new_pred, iou_threshold=0.5)\n",
    "\n",
    "print(mean_ap)"
   ]
  },
  {
   "cell_type": "code",
   "execution_count": null,
   "metadata": {
    "id": "7e9874e6"
   },
   "outputs": [],
   "source": [
    "'''\n",
    "이번 미션에서는 train.json을 이용했지만, 실제 컴피티션에서는 validation set에 대한 모델의 성능을 측정, 트래킹하는 것이 중요합니다.\n",
    "validation.json을 만들어, mAP를 계산, 모델의 성능을 측정해봅시다.\n",
    "\n",
    "또한, 심화 미션은 라이브러리를 이용하지 않고, mean_average_precision_for_boxes 함수를 구현하는 것입니다.\n",
    "도전해볼까요?\n",
    "'''"
   ]
  },
  {
   "cell_type": "markdown",
   "metadata": {
    "id": "4be96a54"
   },
   "source": [
    "###**콘텐츠 라이선스**\n",
    "\n",
    "<font color='red'><b>**WARNING**</b></font> : **본 교육 콘텐츠의 지식재산권은 재단법인 네이버커넥트에 귀속됩니다. 본 콘텐츠를 어떠한 경로로든 외부로 유출 및 수정하는 행위를 엄격히 금합니다.** 다만, 비영리적 교육 및 연구활동에 한정되어 사용할 수 있으나 재단의 허락을 받아야 합니다. 이를 위반하는 경우, 관련 법률에 따라 책임을 질 수 있습니다.\n"
   ]
  }
 ],
 "metadata": {
  "colab": {
   "provenance": []
  },
  "kernelspec": {
   "display_name": "Python 3",
   "language": "python",
   "name": "python3"
  },
  "language_info": {
   "codemirror_mode": {
    "name": "ipython",
    "version": 3
   },
   "file_extension": ".py",
   "mimetype": "text/x-python",
   "name": "python",
   "nbconvert_exporter": "python",
   "pygments_lexer": "ipython3",
   "version": "3.10.13"
  },
  "vscode": {
   "interpreter": {
    "hash": "31f2aee4e71d21fbe5cf8b01ff0e069b9275f58929596ceb00d14d90e3e16cd6"
   }
  }
 },
 "nbformat": 4,
 "nbformat_minor": 5
}
