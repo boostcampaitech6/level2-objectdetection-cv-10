{
 "cells": [
  {
   "cell_type": "code",
   "execution_count": 1,
   "id": "3fd75793",
   "metadata": {},
   "outputs": [
    {
     "name": "stderr",
     "output_type": "stream",
     "text": [
      "/opt/conda/lib/python3.10/site-packages/tqdm/auto.py:21: TqdmWarning: IProgress not found. Please update jupyter and ipywidgets. See https://ipywidgets.readthedocs.io/en/stable/user_install.html\n",
      "  from .autonotebook import tqdm as notebook_tqdm\n"
     ]
    }
   ],
   "source": [
    "import mmcv\n",
    "from mmcv import Config\n",
    "from mmdet.datasets import (build_dataloader, build_dataset,\n",
    "                            replace_ImageToTensor)\n",
    "from mmdet.models import build_detector\n",
    "from mmdet.apis import single_gpu_test\n",
    "from mmcv.runner import load_checkpoint\n",
    "import os\n",
    "from mmcv.parallel import MMDataParallel\n",
    "import pandas as pd\n",
    "from pandas import DataFrame\n",
    "from pycocotools.coco import COCO\n",
    "import numpy as np"
   ]
  },
  {
   "cell_type": "code",
   "execution_count": 32,
   "id": "edda58ea",
   "metadata": {},
   "outputs": [],
   "source": [
    "classes = (\"General trash\", \"Paper\", \"Paper pack\", \"Metal\", \"Glass\", \n",
    "           \"Plastic\", \"Styrofoam\", \"Plastic bag\", \"Battery\", \"Clothing\")\n",
    "\n",
    "# config file 들고오기\n",
    "# cfg = Config.fromfile('./configs/faster_rcnn/faster_rcnn_r50_fpn_1x_coco.py')\n",
    "cfg = Config.fromfile('/data/ephemeral/home/level2-objectdetection-cv-10-1/baseline/mmdetection/configs/retinanet/retinanet_r18_fpn_1x_coco.py')\n",
    "\n",
    "root='../../dataset/'\n",
    "\n",
    "# epoch = 'latest'\n",
    "epoch = 'epoch_3'\n",
    "\n",
    "# dataset config 수정\n",
    "cfg.data.test.classes = classes\n",
    "cfg.data.test.img_prefix = root\n",
    "cfg.data.test.ann_file = root + 'test.json'\n",
    "cfg.test_pipeline[1]['img_scale'] = (512,512) # Resize\n",
    "cfg.data.test.test_mode = True\n",
    "\n",
    "cfg.data.samples_per_gpu = 4\n",
    "\n",
    "cfg.seed=2021\n",
    "cfg.gpu_ids = [1]\n",
    "# cfg.work_dir = './work_dirs/retina'\n",
    "cfg.work_dir = '/data/ephemeral/home/level2-objectdetection-cv-10-1/develop/JJH/work_dirs/retina'\n",
    "\n",
    "cfg.model.bbox_head.num_classes = 10\n",
    "\n",
    "cfg.optimizer_config.grad_clip = dict(max_norm=35, norm_type=2)\n",
    "cfg.model.train_cfg = None"
   ]
  },
  {
   "cell_type": "code",
   "execution_count": 33,
   "id": "b086a8cf",
   "metadata": {},
   "outputs": [
    {
     "name": "stdout",
     "output_type": "stream",
     "text": [
      "loading annotations into memory...\n",
      "Done (t=0.01s)\n",
      "creating index...\n",
      "index created!\n"
     ]
    }
   ],
   "source": [
    "# build dataset & dataloader\n",
    "dataset = build_dataset(cfg.data.test)\n",
    "data_loader = build_dataloader(\n",
    "        dataset,\n",
    "        samples_per_gpu=1,\n",
    "        workers_per_gpu=cfg.data.workers_per_gpu,\n",
    "        dist=False,\n",
    "        shuffle=False)"
   ]
  },
  {
   "cell_type": "code",
   "execution_count": 34,
   "id": "8641f6d1",
   "metadata": {},
   "outputs": [
    {
     "data": {
      "text/plain": [
       "{'type': 'RetinaNet',\n",
       " 'backbone': {'type': 'ResNet',\n",
       "  'depth': 18,\n",
       "  'num_stages': 4,\n",
       "  'out_indices': (0, 1, 2, 3),\n",
       "  'frozen_stages': 1,\n",
       "  'norm_cfg': {'type': 'BN', 'requires_grad': True},\n",
       "  'norm_eval': True,\n",
       "  'style': 'pytorch',\n",
       "  'init_cfg': {'type': 'Pretrained', 'checkpoint': 'torchvision://resnet18'}},\n",
       " 'neck': {'type': 'FPN',\n",
       "  'in_channels': [64, 128, 256, 512],\n",
       "  'out_channels': 256,\n",
       "  'start_level': 1,\n",
       "  'add_extra_convs': 'on_input',\n",
       "  'num_outs': 5},\n",
       " 'bbox_head': {'type': 'RetinaHead',\n",
       "  'num_classes': 10,\n",
       "  'in_channels': 256,\n",
       "  'stacked_convs': 4,\n",
       "  'feat_channels': 256,\n",
       "  'anchor_generator': {'type': 'AnchorGenerator',\n",
       "   'octave_base_scale': 4,\n",
       "   'scales_per_octave': 3,\n",
       "   'ratios': [0.5, 1.0, 2.0],\n",
       "   'strides': [8, 16, 32, 64, 128]},\n",
       "  'bbox_coder': {'type': 'DeltaXYWHBBoxCoder',\n",
       "   'target_means': [0.0, 0.0, 0.0, 0.0],\n",
       "   'target_stds': [1.0, 1.0, 1.0, 1.0]},\n",
       "  'loss_cls': {'type': 'FocalLoss',\n",
       "   'use_sigmoid': True,\n",
       "   'gamma': 2.0,\n",
       "   'alpha': 0.25,\n",
       "   'loss_weight': 1.0},\n",
       "  'loss_bbox': {'type': 'L1Loss', 'loss_weight': 1.0}},\n",
       " 'train_cfg': None,\n",
       " 'test_cfg': {'nms_pre': 1000,\n",
       "  'min_bbox_size': 0,\n",
       "  'score_thr': 0.05,\n",
       "  'nms': {'type': 'nms', 'iou_threshold': 0.5},\n",
       "  'max_per_img': 100}}"
      ]
     },
     "execution_count": 34,
     "metadata": {},
     "output_type": "execute_result"
    }
   ],
   "source": [
    "cfg.model"
   ]
  },
  {
   "cell_type": "code",
   "execution_count": 35,
   "id": "83b3eae6",
   "metadata": {},
   "outputs": [],
   "source": [
    "# checkpoint path\n",
    "checkpoint_path = os.path.join(cfg.work_dir, f'{epoch}.pth')\n",
    "\n",
    "model = build_detector(cfg.model, test_cfg=cfg.get('test_cfg')) # build detector"
   ]
  },
  {
   "cell_type": "code",
   "execution_count": 36,
   "id": "fef4dd1c",
   "metadata": {},
   "outputs": [
    {
     "name": "stdout",
     "output_type": "stream",
     "text": [
      "load checkpoint from local path: /data/ephemeral/home/level2-objectdetection-cv-10-1/develop/JJH/work_dirs/retina/epoch_3.pth\n"
     ]
    }
   ],
   "source": [
    "checkpoint = load_checkpoint(model, checkpoint_path, map_location='cpu') # ckpt load\n",
    "\n",
    "model.CLASSES = dataset.CLASSES\n",
    "model = MMDataParallel(model.cuda(), device_ids=[0])"
   ]
  },
  {
   "cell_type": "code",
   "execution_count": 37,
   "id": "c9f5c2bb",
   "metadata": {},
   "outputs": [
    {
     "name": "stdout",
     "output_type": "stream",
     "text": [
      "[>>>>>>>>>>>>>>>>>>>>>>>>>>] 4871/4871, 14.8 task/s, elapsed: 328s, ETA:     0s"
     ]
    }
   ],
   "source": [
    "output = single_gpu_test(model, data_loader, show_score_thr=0.05) # output 계산"
   ]
  },
  {
   "cell_type": "code",
   "execution_count": 39,
   "id": "5672a0ff",
   "metadata": {},
   "outputs": [
    {
     "name": "stdout",
     "output_type": "stream",
     "text": [
      "loading annotations into memory...\n",
      "Done (t=0.01s)\n",
      "creating index...\n",
      "index created!\n"
     ]
    },
    {
     "data": {
      "text/html": [
       "<div>\n",
       "<style scoped>\n",
       "    .dataframe tbody tr th:only-of-type {\n",
       "        vertical-align: middle;\n",
       "    }\n",
       "\n",
       "    .dataframe tbody tr th {\n",
       "        vertical-align: top;\n",
       "    }\n",
       "\n",
       "    .dataframe thead th {\n",
       "        text-align: right;\n",
       "    }\n",
       "</style>\n",
       "<table border=\"1\" class=\"dataframe\">\n",
       "  <thead>\n",
       "    <tr style=\"text-align: right;\">\n",
       "      <th></th>\n",
       "      <th>PredictionString</th>\n",
       "      <th>image_id</th>\n",
       "    </tr>\n",
       "  </thead>\n",
       "  <tbody>\n",
       "    <tr>\n",
       "      <th>0</th>\n",
       "      <td>0 0.44325337 604.59955 451.63742 939.85175 101...</td>\n",
       "      <td>test/0000.jpg</td>\n",
       "    </tr>\n",
       "    <tr>\n",
       "      <th>1</th>\n",
       "      <td>0 0.2806192 353.98532 239.77055 743.1802 704.1...</td>\n",
       "      <td>test/0001.jpg</td>\n",
       "    </tr>\n",
       "    <tr>\n",
       "      <th>2</th>\n",
       "      <td>0 0.29428938 715.26636 233.76627 913.04834 332...</td>\n",
       "      <td>test/0002.jpg</td>\n",
       "    </tr>\n",
       "    <tr>\n",
       "      <th>3</th>\n",
       "      <td>0 0.23858114 81.75551 170.43297 945.3908 962.6...</td>\n",
       "      <td>test/0003.jpg</td>\n",
       "    </tr>\n",
       "    <tr>\n",
       "      <th>4</th>\n",
       "      <td>0 0.25294328 351.66983 374.91187 853.53845 749...</td>\n",
       "      <td>test/0004.jpg</td>\n",
       "    </tr>\n",
       "  </tbody>\n",
       "</table>\n",
       "</div>"
      ],
      "text/plain": [
       "                                    PredictionString       image_id\n",
       "0  0 0.44325337 604.59955 451.63742 939.85175 101...  test/0000.jpg\n",
       "1  0 0.2806192 353.98532 239.77055 743.1802 704.1...  test/0001.jpg\n",
       "2  0 0.29428938 715.26636 233.76627 913.04834 332...  test/0002.jpg\n",
       "3  0 0.23858114 81.75551 170.43297 945.3908 962.6...  test/0003.jpg\n",
       "4  0 0.25294328 351.66983 374.91187 853.53845 749...  test/0004.jpg"
      ]
     },
     "execution_count": 39,
     "metadata": {},
     "output_type": "execute_result"
    }
   ],
   "source": [
    "# submission 양식에 맞게 output 후처리\n",
    "prediction_strings = []\n",
    "file_names = []\n",
    "coco = COCO(cfg.data.test.ann_file)\n",
    "img_ids = coco.getImgIds()\n",
    "\n",
    "class_num = 10\n",
    "for i, out in enumerate(output):\n",
    "    prediction_string = ''\n",
    "    image_info = coco.loadImgs(coco.getImgIds(imgIds=i))[0]\n",
    "    for j in range(class_num):\n",
    "        for o in out[j]:\n",
    "            prediction_string += str(j) + ' ' + str(o[4]) + ' ' + str(o[0]) + ' ' + str(o[1]) + ' ' + str(\n",
    "                o[2]) + ' ' + str(o[3]) + ' '\n",
    "        \n",
    "    prediction_strings.append(prediction_string)\n",
    "    file_names.append(image_info['file_name'])\n",
    "\n",
    "\n",
    "submission = pd.DataFrame()\n",
    "submission['PredictionString'] = prediction_strings\n",
    "submission['image_id'] = file_names\n",
    "submission.to_csv(os.path.join(cfg.work_dir, f'submission_{epoch}.csv'), index=None)\n",
    "submission.head()"
   ]
  },
  {
   "cell_type": "code",
   "execution_count": null,
   "id": "4b045ce1",
   "metadata": {},
   "outputs": [],
   "source": []
  },
  {
   "cell_type": "code",
   "execution_count": null,
   "id": "02f31d8e",
   "metadata": {},
   "outputs": [],
   "source": []
  }
 ],
 "metadata": {
  "kernelspec": {
   "display_name": "Python 3 (ipykernel)",
   "language": "python",
   "name": "python3"
  },
  "language_info": {
   "codemirror_mode": {
    "name": "ipython",
    "version": 3
   },
   "file_extension": ".py",
   "mimetype": "text/x-python",
   "name": "python",
   "nbconvert_exporter": "python",
   "pygments_lexer": "ipython3",
   "version": "3.10.13"
  }
 },
 "nbformat": 4,
 "nbformat_minor": 5
}
