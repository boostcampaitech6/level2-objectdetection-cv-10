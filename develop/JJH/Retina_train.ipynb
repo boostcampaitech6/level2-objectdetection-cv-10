{
 "cells": [
  {
   "cell_type": "code",
   "execution_count": 9,
   "metadata": {},
   "outputs": [],
   "source": [
    "# 모듈 import\n",
    "\n",
    "from mmcv import Config\n",
    "from mmdet.datasets import build_dataset\n",
    "from mmdet.models import build_detector\n",
    "from mmdet.apis import train_detector\n",
    "from mmdet.datasets import (build_dataloader, build_dataset,\n",
    "                            replace_ImageToTensor)\n",
    "from mmdet.utils import get_device\n",
    "import wandb"
   ]
  },
  {
   "cell_type": "code",
   "execution_count": 11,
   "metadata": {},
   "outputs": [
    {
     "data": {
      "text/html": [
       "Finishing last run (ID:sd0ke2iy) before initializing another..."
      ],
      "text/plain": [
       "<IPython.core.display.HTML object>"
      ]
     },
     "metadata": {},
     "output_type": "display_data"
    },
    {
     "name": "stderr",
     "output_type": "stream",
     "text": [
      "wandb: WARNING Source type is set to 'repo' but some required information is missing from the environment. A job will not be created from this run. See https://docs.wandb.ai/guides/launch/create-job\n"
     ]
    },
    {
     "data": {
      "text/html": [
       " View run <strong style=\"color:#cdcd00\">stellar-sunset-12</strong> at: <a href='https://wandb.ai/level2-cv-10-detection/jjh_test/runs/sd0ke2iy' target=\"_blank\">https://wandb.ai/level2-cv-10-detection/jjh_test/runs/sd0ke2iy</a><br/>Synced 5 W&B file(s), 0 media file(s), 0 artifact file(s) and 0 other file(s)"
      ],
      "text/plain": [
       "<IPython.core.display.HTML object>"
      ]
     },
     "metadata": {},
     "output_type": "display_data"
    },
    {
     "data": {
      "text/html": [
       "Find logs at: <code>./wandb/run-20240111_135504-sd0ke2iy/logs</code>"
      ],
      "text/plain": [
       "<IPython.core.display.HTML object>"
      ]
     },
     "metadata": {},
     "output_type": "display_data"
    },
    {
     "data": {
      "text/html": [
       "Successfully finished last run (ID:sd0ke2iy). Initializing new run:<br/>"
      ],
      "text/plain": [
       "<IPython.core.display.HTML object>"
      ]
     },
     "metadata": {},
     "output_type": "display_data"
    },
    {
     "data": {
      "text/html": [
       "wandb version 0.16.2 is available!  To upgrade, please run:\n",
       " $ pip install wandb --upgrade"
      ],
      "text/plain": [
       "<IPython.core.display.HTML object>"
      ]
     },
     "metadata": {},
     "output_type": "display_data"
    },
    {
     "data": {
      "text/html": [
       "Tracking run with wandb version 0.16.1"
      ],
      "text/plain": [
       "<IPython.core.display.HTML object>"
      ]
     },
     "metadata": {},
     "output_type": "display_data"
    },
    {
     "data": {
      "text/html": [
       "Run data is saved locally in <code>/data/ephemeral/home/level2-objectdetection-cv-10-1/develop/JJH/wandb/run-20240111_135615-0qxj3tt6</code>"
      ],
      "text/plain": [
       "<IPython.core.display.HTML object>"
      ]
     },
     "metadata": {},
     "output_type": "display_data"
    },
    {
     "data": {
      "text/html": [
       "Syncing run <strong><a href='https://wandb.ai/level2-cv-10-detection/jjh_test/runs/0qxj3tt6' target=\"_blank\">Retina_0</a></strong> to <a href='https://wandb.ai/level2-cv-10-detection/jjh_test' target=\"_blank\">Weights & Biases</a> (<a href='https://wandb.me/run' target=\"_blank\">docs</a>)<br/>"
      ],
      "text/plain": [
       "<IPython.core.display.HTML object>"
      ]
     },
     "metadata": {},
     "output_type": "display_data"
    },
    {
     "data": {
      "text/html": [
       " View project at <a href='https://wandb.ai/level2-cv-10-detection/jjh_test' target=\"_blank\">https://wandb.ai/level2-cv-10-detection/jjh_test</a>"
      ],
      "text/plain": [
       "<IPython.core.display.HTML object>"
      ]
     },
     "metadata": {},
     "output_type": "display_data"
    },
    {
     "data": {
      "text/html": [
       " View run at <a href='https://wandb.ai/level2-cv-10-detection/jjh_test/runs/0qxj3tt6' target=\"_blank\">https://wandb.ai/level2-cv-10-detection/jjh_test/runs/0qxj3tt6</a>"
      ],
      "text/plain": [
       "<IPython.core.display.HTML object>"
      ]
     },
     "metadata": {},
     "output_type": "display_data"
    },
    {
     "data": {
      "text/html": [
       "<button onClick=\"this.nextSibling.style.display='block';this.style.display='none';\">Display W&B run</button><iframe src='https://wandb.ai/level2-cv-10-detection/jjh_test/runs/0qxj3tt6?jupyter=true' style='border:none;width:100%;height:420px;display:none;'></iframe>"
      ],
      "text/plain": [
       "<wandb.sdk.wandb_run.Run at 0x7fc4345b8700>"
      ]
     },
     "execution_count": 11,
     "metadata": {},
     "output_type": "execute_result"
    }
   ],
   "source": [
    "wandb.init(project=\"jjh_test\", \n",
    "entity = \"level2-cv-10-detection\",\n",
    "name=\"Retina_0\")"
   ]
  },
  {
   "cell_type": "code",
   "execution_count": 12,
   "metadata": {},
   "outputs": [],
   "source": [
    "classes = (\"General trash\", \"Paper\", \"Paper pack\", \"Metal\", \"Glass\", \n",
    "           \"Plastic\", \"Styrofoam\", \"Plastic bag\", \"Battery\", \"Clothing\")\n",
    "\n",
    "# config file 들고오기\n",
    "cfg = Config.fromfile('/data/ephemeral/home/level2-objectdetection-cv-10-1/baseline/mmdetection/configs/retinanet/retinanet_r18_fpn_1x_coco.py')\n",
    "# cfg = Config.fromfile('./configs/faster_rcnn/faster_rcnn_r50_fpn_1x_coco.py')\n",
    "\n",
    "\n",
    "root='../../dataset/'\n",
    "\n",
    "# dataset config 수정\n",
    "cfg.data.train.classes = classes\n",
    "cfg.data.train.img_prefix = root\n",
    "cfg.data.train.ann_file = root + 'train.json' # train json 정보\n",
    "# cfg.train_pipeline[3]['policies'][0][0]['img_scale'] = (512,512) # Resize\n",
    "\n",
    "cfg.data.test.classes = classes\n",
    "cfg.data.test.img_prefix = root\n",
    "cfg.data.test.ann_file = root + 'test.json' # test json 정보\n",
    "cfg.test_pipeline[1]['img_scale'] = (512,512) # Resize\n",
    "\n",
    "cfg.data.samples_per_gpu = 4\n",
    "\n",
    "cfg.seed = 2022\n",
    "cfg.gpu_ids = [0]\n",
    "cfg.work_dir = './work_dirs/retina'\n",
    "\n",
    "# cfg.model.roi_head.bbox_head.num_classes = 10\n",
    "cfg.model.bbox_head.num_classes = 10\n",
    "\n",
    "\n",
    "cfg.optimizer_config.grad_clip = dict(max_norm=35, norm_type=2)\n",
    "cfg.checkpoint_config = dict(max_keep_ckpts=3, interval=1)\n",
    "cfg.device = get_device()\n",
    "\n",
    "cfg.log_config.hooks = [\n",
    "    dict(type='TextLoggerHook'),\n",
    "    dict(type='MMDetWandbHook',\n",
    "         init_kwargs={'project': 'MMDetection-tutorial'},\n",
    "         interval=10,\n",
    "         log_checkpoint=True,\n",
    "         log_checkpoint_metadata=True,\n",
    "         num_eval_images=100)]\n"
   ]
  },
  {
   "cell_type": "code",
   "execution_count": 13,
   "metadata": {},
   "outputs": [
    {
     "name": "stdout",
     "output_type": "stream",
     "text": [
      "loading annotations into memory...\n",
      "Done (t=0.24s)\n",
      "creating index...\n",
      "index created!\n"
     ]
    }
   ],
   "source": [
    "# build_dataset\n",
    "datasets = [build_dataset(cfg.data.train)]"
   ]
  },
  {
   "cell_type": "code",
   "execution_count": 5,
   "metadata": {},
   "outputs": [
    {
     "data": {
      "text/plain": [
       "\n",
       "CocoDataset Train dataset with number of images 4883, and instance counts: \n",
       "+-------------------+-------+---------------+-------+-----------------+-------+-------------+-------+--------------+-------+\n",
       "| category          | count | category      | count | category        | count | category    | count | category     | count |\n",
       "+-------------------+-------+---------------+-------+-----------------+-------+-------------+-------+--------------+-------+\n",
       "| 0 [General trash] | 3965  | 1 [Paper]     | 6352  | 2 [Paper pack]  | 897   | 3 [Metal]   | 936   | 4 [Glass]    | 982   |\n",
       "| 5 [Plastic]       | 2943  | 6 [Styrofoam] | 1263  | 7 [Plastic bag] | 5178  | 8 [Battery] | 159   | 9 [Clothing] | 468   |\n",
       "+-------------------+-------+---------------+-------+-----------------+-------+-------------+-------+--------------+-------+"
      ]
     },
     "execution_count": 5,
     "metadata": {},
     "output_type": "execute_result"
    }
   ],
   "source": [
    "# dataset 확인\n",
    "datasets[0]"
   ]
  },
  {
   "cell_type": "code",
   "execution_count": 14,
   "metadata": {},
   "outputs": [
    {
     "name": "stderr",
     "output_type": "stream",
     "text": [
      "2024-01-11 14:00:33,718 - mmcv - INFO - initialize ResNet with init_cfg {'type': 'Pretrained', 'checkpoint': 'torchvision://resnet18'}\n",
      "2024-01-11 14:00:33,719 - mmcv - INFO - load model from: torchvision://resnet18\n",
      "2024-01-11 14:00:33,720 - mmcv - INFO - load checkpoint from torchvision path: torchvision://resnet18\n",
      "2024-01-11 14:00:33,769 - mmcv - WARNING - The model and loaded state dict do not match exactly\n",
      "\n",
      "unexpected key in source state_dict: fc.weight, fc.bias\n",
      "\n",
      "2024-01-11 14:00:33,776 - mmcv - INFO - initialize FPN with init_cfg {'type': 'Xavier', 'layer': 'Conv2d', 'distribution': 'uniform'}\n",
      "2024-01-11 14:00:33,804 - mmcv - INFO - initialize RetinaHead with init_cfg {'type': 'Normal', 'layer': 'Conv2d', 'std': 0.01, 'override': {'type': 'Normal', 'name': 'retina_cls', 'std': 0.01, 'bias_prob': 0.01}}\n",
      "2024-01-11 14:00:33,845 - mmcv - INFO - \n",
      "backbone.conv1.weight - torch.Size([64, 3, 7, 7]): \n",
      "PretrainedInit: load from torchvision://resnet18 \n",
      " \n",
      "2024-01-11 14:00:33,846 - mmcv - INFO - \n",
      "backbone.bn1.weight - torch.Size([64]): \n",
      "PretrainedInit: load from torchvision://resnet18 \n",
      " \n",
      "2024-01-11 14:00:33,847 - mmcv - INFO - \n",
      "backbone.bn1.bias - torch.Size([64]): \n",
      "PretrainedInit: load from torchvision://resnet18 \n",
      " \n",
      "2024-01-11 14:00:33,847 - mmcv - INFO - \n",
      "backbone.layer1.0.conv1.weight - torch.Size([64, 64, 3, 3]): \n",
      "PretrainedInit: load from torchvision://resnet18 \n",
      " \n",
      "2024-01-11 14:00:33,848 - mmcv - INFO - \n",
      "backbone.layer1.0.bn1.weight - torch.Size([64]): \n",
      "PretrainedInit: load from torchvision://resnet18 \n",
      " \n",
      "2024-01-11 14:00:33,849 - mmcv - INFO - \n",
      "backbone.layer1.0.bn1.bias - torch.Size([64]): \n",
      "PretrainedInit: load from torchvision://resnet18 \n",
      " \n",
      "2024-01-11 14:00:33,850 - mmcv - INFO - \n",
      "backbone.layer1.0.conv2.weight - torch.Size([64, 64, 3, 3]): \n",
      "PretrainedInit: load from torchvision://resnet18 \n",
      " \n",
      "2024-01-11 14:00:33,851 - mmcv - INFO - \n",
      "backbone.layer1.0.bn2.weight - torch.Size([64]): \n",
      "PretrainedInit: load from torchvision://resnet18 \n",
      " \n",
      "2024-01-11 14:00:33,851 - mmcv - INFO - \n",
      "backbone.layer1.0.bn2.bias - torch.Size([64]): \n",
      "PretrainedInit: load from torchvision://resnet18 \n",
      " \n",
      "2024-01-11 14:00:33,853 - mmcv - INFO - \n",
      "backbone.layer1.1.conv1.weight - torch.Size([64, 64, 3, 3]): \n",
      "PretrainedInit: load from torchvision://resnet18 \n",
      " \n",
      "2024-01-11 14:00:33,853 - mmcv - INFO - \n",
      "backbone.layer1.1.bn1.weight - torch.Size([64]): \n",
      "PretrainedInit: load from torchvision://resnet18 \n",
      " \n",
      "2024-01-11 14:00:33,854 - mmcv - INFO - \n",
      "backbone.layer1.1.bn1.bias - torch.Size([64]): \n",
      "PretrainedInit: load from torchvision://resnet18 \n",
      " \n",
      "2024-01-11 14:00:33,855 - mmcv - INFO - \n",
      "backbone.layer1.1.conv2.weight - torch.Size([64, 64, 3, 3]): \n",
      "PretrainedInit: load from torchvision://resnet18 \n",
      " \n",
      "2024-01-11 14:00:33,856 - mmcv - INFO - \n",
      "backbone.layer1.1.bn2.weight - torch.Size([64]): \n",
      "PretrainedInit: load from torchvision://resnet18 \n",
      " \n",
      "2024-01-11 14:00:33,857 - mmcv - INFO - \n",
      "backbone.layer1.1.bn2.bias - torch.Size([64]): \n",
      "PretrainedInit: load from torchvision://resnet18 \n",
      " \n",
      "2024-01-11 14:00:33,858 - mmcv - INFO - \n",
      "backbone.layer2.0.conv1.weight - torch.Size([128, 64, 3, 3]): \n",
      "PretrainedInit: load from torchvision://resnet18 \n",
      " \n",
      "2024-01-11 14:00:33,858 - mmcv - INFO - \n",
      "backbone.layer2.0.bn1.weight - torch.Size([128]): \n",
      "PretrainedInit: load from torchvision://resnet18 \n",
      " \n",
      "2024-01-11 14:00:33,859 - mmcv - INFO - \n",
      "backbone.layer2.0.bn1.bias - torch.Size([128]): \n",
      "PretrainedInit: load from torchvision://resnet18 \n",
      " \n",
      "2024-01-11 14:00:33,862 - mmcv - INFO - \n",
      "backbone.layer2.0.conv2.weight - torch.Size([128, 128, 3, 3]): \n",
      "PretrainedInit: load from torchvision://resnet18 \n",
      " \n",
      "2024-01-11 14:00:33,862 - mmcv - INFO - \n",
      "backbone.layer2.0.bn2.weight - torch.Size([128]): \n",
      "PretrainedInit: load from torchvision://resnet18 \n",
      " \n",
      "2024-01-11 14:00:33,864 - mmcv - INFO - \n",
      "backbone.layer2.0.bn2.bias - torch.Size([128]): \n",
      "PretrainedInit: load from torchvision://resnet18 \n",
      " \n",
      "2024-01-11 14:00:33,864 - mmcv - INFO - \n",
      "backbone.layer2.0.downsample.0.weight - torch.Size([128, 64, 1, 1]): \n",
      "PretrainedInit: load from torchvision://resnet18 \n",
      " \n",
      "2024-01-11 14:00:33,865 - mmcv - INFO - \n",
      "backbone.layer2.0.downsample.1.weight - torch.Size([128]): \n",
      "PretrainedInit: load from torchvision://resnet18 \n",
      " \n",
      "2024-01-11 14:00:33,866 - mmcv - INFO - \n",
      "backbone.layer2.0.downsample.1.bias - torch.Size([128]): \n",
      "PretrainedInit: load from torchvision://resnet18 \n",
      " \n",
      "2024-01-11 14:00:33,867 - mmcv - INFO - \n",
      "backbone.layer2.1.conv1.weight - torch.Size([128, 128, 3, 3]): \n",
      "PretrainedInit: load from torchvision://resnet18 \n",
      " \n",
      "2024-01-11 14:00:33,868 - mmcv - INFO - \n",
      "backbone.layer2.1.bn1.weight - torch.Size([128]): \n",
      "PretrainedInit: load from torchvision://resnet18 \n",
      " \n",
      "2024-01-11 14:00:33,869 - mmcv - INFO - \n",
      "backbone.layer2.1.bn1.bias - torch.Size([128]): \n",
      "PretrainedInit: load from torchvision://resnet18 \n",
      " \n",
      "2024-01-11 14:00:33,870 - mmcv - INFO - \n",
      "backbone.layer2.1.conv2.weight - torch.Size([128, 128, 3, 3]): \n",
      "PretrainedInit: load from torchvision://resnet18 \n",
      " \n",
      "2024-01-11 14:00:33,871 - mmcv - INFO - \n",
      "backbone.layer2.1.bn2.weight - torch.Size([128]): \n",
      "PretrainedInit: load from torchvision://resnet18 \n",
      " \n",
      "2024-01-11 14:00:33,872 - mmcv - INFO - \n",
      "backbone.layer2.1.bn2.bias - torch.Size([128]): \n",
      "PretrainedInit: load from torchvision://resnet18 \n",
      " \n",
      "2024-01-11 14:00:33,872 - mmcv - INFO - \n",
      "backbone.layer3.0.conv1.weight - torch.Size([256, 128, 3, 3]): \n",
      "PretrainedInit: load from torchvision://resnet18 \n",
      " \n",
      "2024-01-11 14:00:33,873 - mmcv - INFO - \n",
      "backbone.layer3.0.bn1.weight - torch.Size([256]): \n",
      "PretrainedInit: load from torchvision://resnet18 \n",
      " \n",
      "2024-01-11 14:00:33,874 - mmcv - INFO - \n",
      "backbone.layer3.0.bn1.bias - torch.Size([256]): \n",
      "PretrainedInit: load from torchvision://resnet18 \n",
      " \n",
      "2024-01-11 14:00:33,875 - mmcv - INFO - \n",
      "backbone.layer3.0.conv2.weight - torch.Size([256, 256, 3, 3]): \n",
      "PretrainedInit: load from torchvision://resnet18 \n",
      " \n",
      "2024-01-11 14:00:33,876 - mmcv - INFO - \n",
      "backbone.layer3.0.bn2.weight - torch.Size([256]): \n",
      "PretrainedInit: load from torchvision://resnet18 \n",
      " \n",
      "2024-01-11 14:00:33,880 - mmcv - INFO - \n",
      "backbone.layer3.0.bn2.bias - torch.Size([256]): \n",
      "PretrainedInit: load from torchvision://resnet18 \n",
      " \n",
      "2024-01-11 14:00:33,881 - mmcv - INFO - \n",
      "backbone.layer3.0.downsample.0.weight - torch.Size([256, 128, 1, 1]): \n",
      "PretrainedInit: load from torchvision://resnet18 \n",
      " \n",
      "2024-01-11 14:00:33,883 - mmcv - INFO - \n",
      "backbone.layer3.0.downsample.1.weight - torch.Size([256]): \n",
      "PretrainedInit: load from torchvision://resnet18 \n",
      " \n",
      "2024-01-11 14:00:33,884 - mmcv - INFO - \n",
      "backbone.layer3.0.downsample.1.bias - torch.Size([256]): \n",
      "PretrainedInit: load from torchvision://resnet18 \n",
      " \n",
      "2024-01-11 14:00:33,886 - mmcv - INFO - \n",
      "backbone.layer3.1.conv1.weight - torch.Size([256, 256, 3, 3]): \n",
      "PretrainedInit: load from torchvision://resnet18 \n",
      " \n",
      "2024-01-11 14:00:33,887 - mmcv - INFO - \n",
      "backbone.layer3.1.bn1.weight - torch.Size([256]): \n",
      "PretrainedInit: load from torchvision://resnet18 \n",
      " \n",
      "2024-01-11 14:00:33,888 - mmcv - INFO - \n",
      "backbone.layer3.1.bn1.bias - torch.Size([256]): \n",
      "PretrainedInit: load from torchvision://resnet18 \n",
      " \n",
      "2024-01-11 14:00:33,889 - mmcv - INFO - \n",
      "backbone.layer3.1.conv2.weight - torch.Size([256, 256, 3, 3]): \n",
      "PretrainedInit: load from torchvision://resnet18 \n",
      " \n",
      "2024-01-11 14:00:33,890 - mmcv - INFO - \n",
      "backbone.layer3.1.bn2.weight - torch.Size([256]): \n",
      "PretrainedInit: load from torchvision://resnet18 \n",
      " \n",
      "2024-01-11 14:00:33,891 - mmcv - INFO - \n",
      "backbone.layer3.1.bn2.bias - torch.Size([256]): \n",
      "PretrainedInit: load from torchvision://resnet18 \n",
      " \n",
      "2024-01-11 14:00:33,892 - mmcv - INFO - \n",
      "backbone.layer4.0.conv1.weight - torch.Size([512, 256, 3, 3]): \n",
      "PretrainedInit: load from torchvision://resnet18 \n",
      " \n",
      "2024-01-11 14:00:33,893 - mmcv - INFO - \n",
      "backbone.layer4.0.bn1.weight - torch.Size([512]): \n",
      "PretrainedInit: load from torchvision://resnet18 \n",
      " \n",
      "2024-01-11 14:00:33,893 - mmcv - INFO - \n",
      "backbone.layer4.0.bn1.bias - torch.Size([512]): \n",
      "PretrainedInit: load from torchvision://resnet18 \n",
      " \n",
      "2024-01-11 14:00:33,894 - mmcv - INFO - \n",
      "backbone.layer4.0.conv2.weight - torch.Size([512, 512, 3, 3]): \n",
      "PretrainedInit: load from torchvision://resnet18 \n",
      " \n",
      "2024-01-11 14:00:33,895 - mmcv - INFO - \n",
      "backbone.layer4.0.bn2.weight - torch.Size([512]): \n",
      "PretrainedInit: load from torchvision://resnet18 \n",
      " \n",
      "2024-01-11 14:00:33,895 - mmcv - INFO - \n",
      "backbone.layer4.0.bn2.bias - torch.Size([512]): \n",
      "PretrainedInit: load from torchvision://resnet18 \n",
      " \n",
      "2024-01-11 14:00:33,896 - mmcv - INFO - \n",
      "backbone.layer4.0.downsample.0.weight - torch.Size([512, 256, 1, 1]): \n",
      "PretrainedInit: load from torchvision://resnet18 \n",
      " \n",
      "2024-01-11 14:00:33,897 - mmcv - INFO - \n",
      "backbone.layer4.0.downsample.1.weight - torch.Size([512]): \n",
      "PretrainedInit: load from torchvision://resnet18 \n",
      " \n",
      "2024-01-11 14:00:33,898 - mmcv - INFO - \n",
      "backbone.layer4.0.downsample.1.bias - torch.Size([512]): \n",
      "PretrainedInit: load from torchvision://resnet18 \n",
      " \n",
      "2024-01-11 14:00:33,899 - mmcv - INFO - \n",
      "backbone.layer4.1.conv1.weight - torch.Size([512, 512, 3, 3]): \n",
      "PretrainedInit: load from torchvision://resnet18 \n",
      " \n",
      "2024-01-11 14:00:33,900 - mmcv - INFO - \n",
      "backbone.layer4.1.bn1.weight - torch.Size([512]): \n",
      "PretrainedInit: load from torchvision://resnet18 \n",
      " \n",
      "2024-01-11 14:00:33,900 - mmcv - INFO - \n",
      "backbone.layer4.1.bn1.bias - torch.Size([512]): \n",
      "PretrainedInit: load from torchvision://resnet18 \n",
      " \n",
      "2024-01-11 14:00:33,901 - mmcv - INFO - \n",
      "backbone.layer4.1.conv2.weight - torch.Size([512, 512, 3, 3]): \n",
      "PretrainedInit: load from torchvision://resnet18 \n",
      " \n",
      "2024-01-11 14:00:33,902 - mmcv - INFO - \n",
      "backbone.layer4.1.bn2.weight - torch.Size([512]): \n",
      "PretrainedInit: load from torchvision://resnet18 \n",
      " \n",
      "2024-01-11 14:00:33,902 - mmcv - INFO - \n",
      "backbone.layer4.1.bn2.bias - torch.Size([512]): \n",
      "PretrainedInit: load from torchvision://resnet18 \n",
      " \n",
      "2024-01-11 14:00:33,903 - mmcv - INFO - \n",
      "neck.lateral_convs.0.conv.weight - torch.Size([256, 128, 1, 1]): \n",
      "XavierInit: gain=1, distribution=uniform, bias=0 \n",
      " \n",
      "2024-01-11 14:00:33,904 - mmcv - INFO - \n",
      "neck.lateral_convs.0.conv.bias - torch.Size([256]): \n",
      "The value is the same before and after calling `init_weights` of RetinaNet  \n",
      " \n",
      "2024-01-11 14:00:33,905 - mmcv - INFO - \n",
      "neck.lateral_convs.1.conv.weight - torch.Size([256, 256, 1, 1]): \n",
      "XavierInit: gain=1, distribution=uniform, bias=0 \n",
      " \n",
      "2024-01-11 14:00:33,905 - mmcv - INFO - \n",
      "neck.lateral_convs.1.conv.bias - torch.Size([256]): \n",
      "The value is the same before and after calling `init_weights` of RetinaNet  \n",
      " \n",
      "2024-01-11 14:00:33,906 - mmcv - INFO - \n",
      "neck.lateral_convs.2.conv.weight - torch.Size([256, 512, 1, 1]): \n",
      "XavierInit: gain=1, distribution=uniform, bias=0 \n",
      " \n",
      "2024-01-11 14:00:33,907 - mmcv - INFO - \n",
      "neck.lateral_convs.2.conv.bias - torch.Size([256]): \n",
      "The value is the same before and after calling `init_weights` of RetinaNet  \n",
      " \n",
      "2024-01-11 14:00:33,907 - mmcv - INFO - \n",
      "neck.fpn_convs.0.conv.weight - torch.Size([256, 256, 3, 3]): \n",
      "XavierInit: gain=1, distribution=uniform, bias=0 \n",
      " \n",
      "2024-01-11 14:00:33,908 - mmcv - INFO - \n",
      "neck.fpn_convs.0.conv.bias - torch.Size([256]): \n",
      "The value is the same before and after calling `init_weights` of RetinaNet  \n",
      " \n",
      "2024-01-11 14:00:33,909 - mmcv - INFO - \n",
      "neck.fpn_convs.1.conv.weight - torch.Size([256, 256, 3, 3]): \n",
      "XavierInit: gain=1, distribution=uniform, bias=0 \n",
      " \n",
      "2024-01-11 14:00:33,909 - mmcv - INFO - \n",
      "neck.fpn_convs.1.conv.bias - torch.Size([256]): \n",
      "The value is the same before and after calling `init_weights` of RetinaNet  \n",
      " \n",
      "2024-01-11 14:00:33,910 - mmcv - INFO - \n",
      "neck.fpn_convs.2.conv.weight - torch.Size([256, 256, 3, 3]): \n",
      "XavierInit: gain=1, distribution=uniform, bias=0 \n",
      " \n",
      "2024-01-11 14:00:33,911 - mmcv - INFO - \n",
      "neck.fpn_convs.2.conv.bias - torch.Size([256]): \n",
      "The value is the same before and after calling `init_weights` of RetinaNet  \n",
      " \n",
      "2024-01-11 14:00:33,911 - mmcv - INFO - \n",
      "neck.fpn_convs.3.conv.weight - torch.Size([256, 512, 3, 3]): \n",
      "XavierInit: gain=1, distribution=uniform, bias=0 \n",
      " \n",
      "2024-01-11 14:00:33,912 - mmcv - INFO - \n",
      "neck.fpn_convs.3.conv.bias - torch.Size([256]): \n",
      "The value is the same before and after calling `init_weights` of RetinaNet  \n",
      " \n",
      "2024-01-11 14:00:33,912 - mmcv - INFO - \n",
      "neck.fpn_convs.4.conv.weight - torch.Size([256, 256, 3, 3]): \n",
      "XavierInit: gain=1, distribution=uniform, bias=0 \n",
      " \n",
      "2024-01-11 14:00:33,913 - mmcv - INFO - \n",
      "neck.fpn_convs.4.conv.bias - torch.Size([256]): \n",
      "The value is the same before and after calling `init_weights` of RetinaNet  \n",
      " \n",
      "2024-01-11 14:00:33,914 - mmcv - INFO - \n",
      "bbox_head.cls_convs.0.conv.weight - torch.Size([256, 256, 3, 3]): \n",
      "NormalInit: mean=0, std=0.01, bias=0 \n",
      " \n",
      "2024-01-11 14:00:33,915 - mmcv - INFO - \n",
      "bbox_head.cls_convs.0.conv.bias - torch.Size([256]): \n",
      "The value is the same before and after calling `init_weights` of RetinaNet  \n",
      " \n",
      "2024-01-11 14:00:33,915 - mmcv - INFO - \n",
      "bbox_head.cls_convs.1.conv.weight - torch.Size([256, 256, 3, 3]): \n",
      "NormalInit: mean=0, std=0.01, bias=0 \n",
      " \n",
      "2024-01-11 14:00:33,916 - mmcv - INFO - \n",
      "bbox_head.cls_convs.1.conv.bias - torch.Size([256]): \n",
      "The value is the same before and after calling `init_weights` of RetinaNet  \n",
      " \n",
      "2024-01-11 14:00:33,917 - mmcv - INFO - \n",
      "bbox_head.cls_convs.2.conv.weight - torch.Size([256, 256, 3, 3]): \n",
      "NormalInit: mean=0, std=0.01, bias=0 \n",
      " \n",
      "2024-01-11 14:00:33,918 - mmcv - INFO - \n",
      "bbox_head.cls_convs.2.conv.bias - torch.Size([256]): \n",
      "The value is the same before and after calling `init_weights` of RetinaNet  \n",
      " \n",
      "2024-01-11 14:00:33,919 - mmcv - INFO - \n",
      "bbox_head.cls_convs.3.conv.weight - torch.Size([256, 256, 3, 3]): \n",
      "NormalInit: mean=0, std=0.01, bias=0 \n",
      " \n",
      "2024-01-11 14:00:33,921 - mmcv - INFO - \n",
      "bbox_head.cls_convs.3.conv.bias - torch.Size([256]): \n",
      "The value is the same before and after calling `init_weights` of RetinaNet  \n",
      " \n",
      "2024-01-11 14:00:33,922 - mmcv - INFO - \n",
      "bbox_head.reg_convs.0.conv.weight - torch.Size([256, 256, 3, 3]): \n",
      "NormalInit: mean=0, std=0.01, bias=0 \n",
      " \n",
      "2024-01-11 14:00:33,923 - mmcv - INFO - \n",
      "bbox_head.reg_convs.0.conv.bias - torch.Size([256]): \n",
      "The value is the same before and after calling `init_weights` of RetinaNet  \n",
      " \n",
      "2024-01-11 14:00:33,924 - mmcv - INFO - \n",
      "bbox_head.reg_convs.1.conv.weight - torch.Size([256, 256, 3, 3]): \n",
      "NormalInit: mean=0, std=0.01, bias=0 \n",
      " \n",
      "2024-01-11 14:00:33,925 - mmcv - INFO - \n",
      "bbox_head.reg_convs.1.conv.bias - torch.Size([256]): \n",
      "The value is the same before and after calling `init_weights` of RetinaNet  \n",
      " \n",
      "2024-01-11 14:00:33,925 - mmcv - INFO - \n",
      "bbox_head.reg_convs.2.conv.weight - torch.Size([256, 256, 3, 3]): \n",
      "NormalInit: mean=0, std=0.01, bias=0 \n",
      " \n",
      "2024-01-11 14:00:33,931 - mmcv - INFO - \n",
      "bbox_head.reg_convs.2.conv.bias - torch.Size([256]): \n",
      "The value is the same before and after calling `init_weights` of RetinaNet  \n",
      " \n",
      "2024-01-11 14:00:33,933 - mmcv - INFO - \n",
      "bbox_head.reg_convs.3.conv.weight - torch.Size([256, 256, 3, 3]): \n",
      "NormalInit: mean=0, std=0.01, bias=0 \n",
      " \n",
      "2024-01-11 14:00:33,934 - mmcv - INFO - \n",
      "bbox_head.reg_convs.3.conv.bias - torch.Size([256]): \n",
      "The value is the same before and after calling `init_weights` of RetinaNet  \n",
      " \n",
      "2024-01-11 14:00:33,935 - mmcv - INFO - \n",
      "bbox_head.retina_cls.weight - torch.Size([90, 256, 3, 3]): \n",
      "NormalInit: mean=0, std=0.01, bias=-4.59511985013459 \n",
      " \n",
      "2024-01-11 14:00:33,936 - mmcv - INFO - \n",
      "bbox_head.retina_cls.bias - torch.Size([90]): \n",
      "NormalInit: mean=0, std=0.01, bias=-4.59511985013459 \n",
      " \n",
      "2024-01-11 14:00:33,936 - mmcv - INFO - \n",
      "bbox_head.retina_reg.weight - torch.Size([36, 256, 3, 3]): \n",
      "NormalInit: mean=0, std=0.01, bias=0 \n",
      " \n",
      "2024-01-11 14:00:33,937 - mmcv - INFO - \n",
      "bbox_head.retina_reg.bias - torch.Size([36]): \n",
      "NormalInit: mean=0, std=0.01, bias=0 \n",
      " \n"
     ]
    }
   ],
   "source": [
    "# 모델 build 및 pretrained network 불러오기\n",
    "model = build_detector(cfg.model)\n",
    "model.init_weights()"
   ]
  },
  {
   "cell_type": "code",
   "execution_count": 15,
   "metadata": {},
   "outputs": [
    {
     "name": "stderr",
     "output_type": "stream",
     "text": [
      "2024-01-11 14:00:36,479 - mmdet - INFO - Automatic scaling of learning rate (LR) has been disabled.\n",
      "2024-01-11 14:00:36,481 - mmdet - INFO - Start running, host: root@instance-5484, work_dir: /data/ephemeral/home/level2-objectdetection-cv-10-1/develop/JJH/work_dirs/retina\n",
      "2024-01-11 14:00:36,482 - mmdet - INFO - Hooks will be executed in the following order:\n",
      "before_run:\n",
      "(VERY_HIGH   ) StepLrUpdaterHook                  \n",
      "(NORMAL      ) CheckpointHook                     \n",
      "(VERY_LOW    ) TextLoggerHook                     \n",
      "(VERY_LOW    ) MMDetWandbHook                     \n",
      " -------------------- \n",
      "before_train_epoch:\n",
      "(VERY_HIGH   ) StepLrUpdaterHook                  \n",
      "(NORMAL      ) NumClassCheckHook                  \n",
      "(LOW         ) IterTimerHook                      \n",
      "(VERY_LOW    ) TextLoggerHook                     \n",
      "(VERY_LOW    ) MMDetWandbHook                     \n",
      " -------------------- \n",
      "before_train_iter:\n",
      "(VERY_HIGH   ) StepLrUpdaterHook                  \n",
      "(LOW         ) IterTimerHook                      \n",
      " -------------------- \n",
      "after_train_iter:\n",
      "(ABOVE_NORMAL) OptimizerHook                      \n",
      "(NORMAL      ) CheckpointHook                     \n",
      "(LOW         ) IterTimerHook                      \n",
      "(VERY_LOW    ) TextLoggerHook                     \n",
      "(VERY_LOW    ) MMDetWandbHook                     \n",
      " -------------------- \n",
      "after_train_epoch:\n",
      "(NORMAL      ) CheckpointHook                     \n",
      "(VERY_LOW    ) TextLoggerHook                     \n",
      "(VERY_LOW    ) MMDetWandbHook                     \n",
      " -------------------- \n",
      "before_val_epoch:\n",
      "(NORMAL      ) NumClassCheckHook                  \n",
      "(LOW         ) IterTimerHook                      \n",
      "(VERY_LOW    ) TextLoggerHook                     \n",
      "(VERY_LOW    ) MMDetWandbHook                     \n",
      " -------------------- \n",
      "before_val_iter:\n",
      "(LOW         ) IterTimerHook                      \n",
      " -------------------- \n",
      "after_val_iter:\n",
      "(LOW         ) IterTimerHook                      \n",
      " -------------------- \n",
      "after_val_epoch:\n",
      "(VERY_LOW    ) TextLoggerHook                     \n",
      "(VERY_LOW    ) MMDetWandbHook                     \n",
      " -------------------- \n",
      "after_run:\n",
      "(VERY_LOW    ) TextLoggerHook                     \n",
      "(VERY_LOW    ) MMDetWandbHook                     \n",
      " -------------------- \n",
      "2024-01-11 14:00:36,483 - mmdet - INFO - workflow: [('train', 1)], max: 12 epochs\n",
      "2024-01-11 14:00:36,484 - mmdet - INFO - Checkpoints will be saved to /data/ephemeral/home/level2-objectdetection-cv-10-1/develop/JJH/work_dirs/retina by HardDiskBackend.\n"
     ]
    },
    {
     "data": {
      "text/html": [
       "Finishing last run (ID:0qxj3tt6) before initializing another..."
      ],
      "text/plain": [
       "<IPython.core.display.HTML object>"
      ]
     },
     "metadata": {},
     "output_type": "display_data"
    },
    {
     "name": "stderr",
     "output_type": "stream",
     "text": [
      "wandb: WARNING Source type is set to 'repo' but some required information is missing from the environment. A job will not be created from this run. See https://docs.wandb.ai/guides/launch/create-job\n"
     ]
    },
    {
     "data": {
      "text/html": [
       " View run <strong style=\"color:#cdcd00\">Retina_0</strong> at: <a href='https://wandb.ai/level2-cv-10-detection/jjh_test/runs/0qxj3tt6' target=\"_blank\">https://wandb.ai/level2-cv-10-detection/jjh_test/runs/0qxj3tt6</a><br/>Synced 6 W&B file(s), 0 media file(s), 0 artifact file(s) and 0 other file(s)"
      ],
      "text/plain": [
       "<IPython.core.display.HTML object>"
      ]
     },
     "metadata": {},
     "output_type": "display_data"
    },
    {
     "data": {
      "text/html": [
       "Find logs at: <code>./wandb/run-20240111_135615-0qxj3tt6/logs</code>"
      ],
      "text/plain": [
       "<IPython.core.display.HTML object>"
      ]
     },
     "metadata": {},
     "output_type": "display_data"
    },
    {
     "data": {
      "text/html": [
       "Successfully finished last run (ID:0qxj3tt6). Initializing new run:<br/>"
      ],
      "text/plain": [
       "<IPython.core.display.HTML object>"
      ]
     },
     "metadata": {},
     "output_type": "display_data"
    },
    {
     "data": {
      "text/html": [
       "Tracking run with wandb version 0.16.1"
      ],
      "text/plain": [
       "<IPython.core.display.HTML object>"
      ]
     },
     "metadata": {},
     "output_type": "display_data"
    },
    {
     "data": {
      "text/html": [
       "Run data is saved locally in <code>/data/ephemeral/home/level2-objectdetection-cv-10-1/develop/JJH/wandb/run-20240111_140036-17ppnddv</code>"
      ],
      "text/plain": [
       "<IPython.core.display.HTML object>"
      ]
     },
     "metadata": {},
     "output_type": "display_data"
    },
    {
     "data": {
      "text/html": [
       "Syncing run <strong><a href='https://wandb.ai/level2-cv-10-detection/MMDetection-tutorial/runs/17ppnddv' target=\"_blank\">young-flower-1</a></strong> to <a href='https://wandb.ai/level2-cv-10-detection/MMDetection-tutorial' target=\"_blank\">Weights & Biases</a> (<a href='https://wandb.me/run' target=\"_blank\">docs</a>)<br/>"
      ],
      "text/plain": [
       "<IPython.core.display.HTML object>"
      ]
     },
     "metadata": {},
     "output_type": "display_data"
    },
    {
     "data": {
      "text/html": [
       " View project at <a href='https://wandb.ai/level2-cv-10-detection/MMDetection-tutorial' target=\"_blank\">https://wandb.ai/level2-cv-10-detection/MMDetection-tutorial</a>"
      ],
      "text/plain": [
       "<IPython.core.display.HTML object>"
      ]
     },
     "metadata": {},
     "output_type": "display_data"
    },
    {
     "data": {
      "text/html": [
       " View run at <a href='https://wandb.ai/level2-cv-10-detection/MMDetection-tutorial/runs/17ppnddv' target=\"_blank\">https://wandb.ai/level2-cv-10-detection/MMDetection-tutorial/runs/17ppnddv</a>"
      ],
      "text/plain": [
       "<IPython.core.display.HTML object>"
      ]
     },
     "metadata": {},
     "output_type": "display_data"
    },
    {
     "name": "stderr",
     "output_type": "stream",
     "text": [
      "2024-01-11 14:01:06,048 - mmdet - WARNING - No meta information found in the runner. \n",
      "2024-01-11 14:01:06,049 - mmdet - WARNING - To log evaluation or checkpoint metadata in MMDetWandbHook, `EvalHook` or `DistEvalHook` in mmdet is required, please check whether the validation is enabled.\n",
      "2024-01-11 14:01:16,325 - mmdet - INFO - Epoch [1][50/1221]\tlr: 9.890e-04, eta: 0:49:59, time: 0.205, data_time: 0.055, memory: 1501, loss_cls: 1.1388, loss_bbox: 0.6738, loss: 1.8127, grad_norm: 0.5796\n",
      "2024-01-11 14:01:24,278 - mmdet - INFO - Epoch [1][100/1221]\tlr: 1.988e-03, eta: 0:44:12, time: 0.159, data_time: 0.009, memory: 1501, loss_cls: 1.1380, loss_bbox: 0.6552, loss: 1.7931, grad_norm: 0.7343\n",
      "2024-01-11 14:01:32,275 - mmdet - INFO - Epoch [1][150/1221]\tlr: 2.987e-03, eta: 0:42:15, time: 0.160, data_time: 0.008, memory: 1501, loss_cls: 1.1313, loss_bbox: 0.6388, loss: 1.7700, grad_norm: 1.0743\n",
      "2024-01-11 14:01:40,232 - mmdet - INFO - Epoch [1][200/1221]\tlr: 3.986e-03, eta: 0:41:09, time: 0.159, data_time: 0.008, memory: 1501, loss_cls: 1.0883, loss_bbox: 0.6340, loss: 1.7223, grad_norm: 1.9470\n",
      "2024-01-11 14:01:48,249 - mmdet - INFO - Epoch [1][250/1221]\tlr: 4.985e-03, eta: 0:40:30, time: 0.160, data_time: 0.008, memory: 1501, loss_cls: 1.0989, loss_bbox: 0.6294, loss: 1.7283, grad_norm: 1.9187\n",
      "2024-01-11 14:01:56,157 - mmdet - INFO - Epoch [1][300/1221]\tlr: 5.984e-03, eta: 0:39:56, time: 0.158, data_time: 0.009, memory: 1501, loss_cls: 1.1247, loss_bbox: 0.6278, loss: 1.7524, grad_norm: 0.7138\n",
      "2024-01-11 14:02:04,223 - mmdet - INFO - Epoch [1][350/1221]\tlr: 6.983e-03, eta: 0:39:36, time: 0.161, data_time: 0.009, memory: 1501, loss_cls: 1.1052, loss_bbox: 0.6335, loss: 1.7387, grad_norm: 1.6245\n",
      "2024-01-11 14:02:12,255 - mmdet - INFO - Epoch [1][400/1221]\tlr: 7.982e-03, eta: 0:39:18, time: 0.161, data_time: 0.009, memory: 1501, loss_cls: 1.1076, loss_bbox: 0.6263, loss: 1.7338, grad_norm: 0.9122\n",
      "2024-01-11 14:02:20,199 - mmdet - INFO - Epoch [1][450/1221]\tlr: 8.981e-03, eta: 0:39:00, time: 0.159, data_time: 0.008, memory: 1501, loss_cls: 1.0840, loss_bbox: 0.6441, loss: 1.7281, grad_norm: 2.5179\n",
      "2024-01-11 14:02:28,106 - mmdet - INFO - Epoch [1][500/1221]\tlr: 9.980e-03, eta: 0:38:42, time: 0.158, data_time: 0.009, memory: 1501, loss_cls: 1.0674, loss_bbox: 0.6490, loss: 1.7164, grad_norm: 1.0388\n",
      "2024-01-11 14:02:36,045 - mmdet - INFO - Epoch [1][550/1221]\tlr: 1.000e-02, eta: 0:38:27, time: 0.159, data_time: 0.009, memory: 1501, loss_cls: 1.0731, loss_bbox: 0.6434, loss: 1.7165, grad_norm: 6.3959\n",
      "2024-01-11 14:02:44,026 - mmdet - INFO - Epoch [1][600/1221]\tlr: 1.000e-02, eta: 0:38:14, time: 0.160, data_time: 0.009, memory: 1501, loss_cls: 0.9702, loss_bbox: 0.6519, loss: 1.6221, grad_norm: 2.5061\n",
      "2024-01-11 14:02:51,959 - mmdet - INFO - Epoch [1][650/1221]\tlr: 1.000e-02, eta: 0:38:01, time: 0.159, data_time: 0.009, memory: 1501, loss_cls: 0.8950, loss_bbox: 0.6350, loss: 1.5299, grad_norm: 1.8617\n",
      "2024-01-11 14:02:59,909 - mmdet - INFO - Epoch [1][700/1221]\tlr: 1.000e-02, eta: 0:37:49, time: 0.159, data_time: 0.009, memory: 1501, loss_cls: 0.8593, loss_bbox: 0.6336, loss: 1.4929, grad_norm: 1.1464\n",
      "2024-01-11 14:03:07,851 - mmdet - INFO - Epoch [1][750/1221]\tlr: 1.000e-02, eta: 0:37:37, time: 0.159, data_time: 0.009, memory: 1501, loss_cls: 0.8142, loss_bbox: 0.6380, loss: 1.4522, grad_norm: 1.3157\n",
      "2024-01-11 14:03:15,791 - mmdet - INFO - Epoch [1][800/1221]\tlr: 1.000e-02, eta: 0:37:26, time: 0.159, data_time: 0.009, memory: 1501, loss_cls: 0.8155, loss_bbox: 0.6431, loss: 1.4586, grad_norm: 1.4891\n",
      "2024-01-11 14:03:23,784 - mmdet - INFO - Epoch [1][850/1221]\tlr: 1.000e-02, eta: 0:37:16, time: 0.160, data_time: 0.009, memory: 1501, loss_cls: 0.7586, loss_bbox: 0.6291, loss: 1.3876, grad_norm: 1.8570\n",
      "2024-01-11 14:03:31,750 - mmdet - INFO - Epoch [1][900/1221]\tlr: 1.000e-02, eta: 0:37:06, time: 0.159, data_time: 0.009, memory: 1501, loss_cls: 0.7735, loss_bbox: 0.6311, loss: 1.4046, grad_norm: 2.2747\n",
      "2024-01-11 14:03:39,614 - mmdet - INFO - Epoch [1][950/1221]\tlr: 1.000e-02, eta: 0:36:54, time: 0.157, data_time: 0.009, memory: 1501, loss_cls: 0.8375, loss_bbox: 0.5989, loss: 1.4364, grad_norm: 4.9376\n",
      "2024-01-11 14:03:47,519 - mmdet - INFO - Epoch [1][1000/1221]\tlr: 1.000e-02, eta: 0:36:44, time: 0.158, data_time: 0.009, memory: 1501, loss_cls: 0.7810, loss_bbox: 0.6063, loss: 1.3873, grad_norm: 1.9961\n",
      "2024-01-11 14:03:55,447 - mmdet - INFO - Epoch [1][1050/1221]\tlr: 1.000e-02, eta: 0:36:34, time: 0.159, data_time: 0.009, memory: 1501, loss_cls: 0.7319, loss_bbox: 0.5831, loss: 1.3150, grad_norm: 1.9580\n",
      "2024-01-11 14:04:03,354 - mmdet - INFO - Epoch [1][1100/1221]\tlr: 1.000e-02, eta: 0:36:24, time: 0.158, data_time: 0.009, memory: 1501, loss_cls: 0.7097, loss_bbox: 0.5740, loss: 1.2838, grad_norm: 2.2271\n",
      "2024-01-11 14:04:11,295 - mmdet - INFO - Epoch [1][1150/1221]\tlr: 1.000e-02, eta: 0:36:14, time: 0.159, data_time: 0.009, memory: 1501, loss_cls: 0.7004, loss_bbox: 0.5591, loss: 1.2595, grad_norm: 1.8535\n",
      "2024-01-11 14:04:19,202 - mmdet - INFO - Epoch [1][1200/1221]\tlr: 1.000e-02, eta: 0:36:05, time: 0.158, data_time: 0.009, memory: 1501, loss_cls: 0.6576, loss_bbox: 0.5633, loss: 1.2209, grad_norm: 2.0925\n",
      "2024-01-11 14:04:22,570 - mmdet - INFO - Saving checkpoint at 1 epochs\n",
      "2024-01-11 14:04:39,784 - mmdet - INFO - Epoch [2][50/1221]\tlr: 1.000e-02, eta: 0:35:41, time: 0.205, data_time: 0.055, memory: 1501, loss_cls: 0.6580, loss_bbox: 0.5388, loss: 1.1968, grad_norm: 2.2319\n",
      "2024-01-11 14:04:47,779 - mmdet - INFO - Epoch [2][100/1221]\tlr: 1.000e-02, eta: 0:35:33, time: 0.160, data_time: 0.009, memory: 1501, loss_cls: 0.6455, loss_bbox: 0.5215, loss: 1.1671, grad_norm: 2.2012\n",
      "2024-01-11 14:04:55,763 - mmdet - INFO - Epoch [2][150/1221]\tlr: 1.000e-02, eta: 0:35:25, time: 0.160, data_time: 0.009, memory: 1501, loss_cls: 0.6494, loss_bbox: 0.5064, loss: 1.1558, grad_norm: 2.1278\n",
      "2024-01-11 14:05:03,746 - mmdet - INFO - Epoch [2][200/1221]\tlr: 1.000e-02, eta: 0:35:17, time: 0.160, data_time: 0.009, memory: 1501, loss_cls: 0.6465, loss_bbox: 0.5093, loss: 1.1559, grad_norm: 2.2799\n",
      "2024-01-11 14:05:11,727 - mmdet - INFO - Epoch [2][250/1221]\tlr: 1.000e-02, eta: 0:35:08, time: 0.160, data_time: 0.009, memory: 1501, loss_cls: 0.6309, loss_bbox: 0.4996, loss: 1.1305, grad_norm: 2.0569\n",
      "2024-01-11 14:05:19,688 - mmdet - INFO - Epoch [2][300/1221]\tlr: 1.000e-02, eta: 0:35:00, time: 0.159, data_time: 0.009, memory: 1501, loss_cls: 0.6525, loss_bbox: 0.5068, loss: 1.1592, grad_norm: 2.1571\n",
      "2024-01-11 14:05:27,671 - mmdet - INFO - Epoch [2][350/1221]\tlr: 1.000e-02, eta: 0:34:52, time: 0.160, data_time: 0.009, memory: 1501, loss_cls: 0.6218, loss_bbox: 0.5011, loss: 1.1229, grad_norm: 1.9623\n",
      "2024-01-11 14:05:35,619 - mmdet - INFO - Epoch [2][400/1221]\tlr: 1.000e-02, eta: 0:34:44, time: 0.159, data_time: 0.009, memory: 1501, loss_cls: 0.6107, loss_bbox: 0.4565, loss: 1.0672, grad_norm: 2.3690\n",
      "2024-01-11 14:05:43,586 - mmdet - INFO - Epoch [2][450/1221]\tlr: 1.000e-02, eta: 0:34:35, time: 0.159, data_time: 0.009, memory: 1501, loss_cls: 0.6071, loss_bbox: 0.4681, loss: 1.0752, grad_norm: 2.1568\n",
      "2024-01-11 14:05:51,562 - mmdet - INFO - Epoch [2][500/1221]\tlr: 1.000e-02, eta: 0:34:27, time: 0.160, data_time: 0.009, memory: 1501, loss_cls: 0.6600, loss_bbox: 0.4845, loss: 1.1445, grad_norm: 2.2586\n",
      "2024-01-11 14:05:59,624 - mmdet - INFO - Epoch [2][550/1221]\tlr: 1.000e-02, eta: 0:34:20, time: 0.161, data_time: 0.009, memory: 1501, loss_cls: 0.6033, loss_bbox: 0.4564, loss: 1.0596, grad_norm: 2.1878\n",
      "2024-01-11 14:06:07,632 - mmdet - INFO - Epoch [2][600/1221]\tlr: 1.000e-02, eta: 0:34:12, time: 0.160, data_time: 0.009, memory: 1501, loss_cls: 0.6212, loss_bbox: 0.4659, loss: 1.0871, grad_norm: 2.0780\n",
      "2024-01-11 14:06:15,624 - mmdet - INFO - Epoch [2][650/1221]\tlr: 1.000e-02, eta: 0:34:04, time: 0.160, data_time: 0.010, memory: 1501, loss_cls: 0.6043, loss_bbox: 0.4454, loss: 1.0497, grad_norm: 2.2490\n",
      "2024-01-11 14:06:23,674 - mmdet - INFO - Epoch [2][700/1221]\tlr: 1.000e-02, eta: 0:33:56, time: 0.161, data_time: 0.009, memory: 1501, loss_cls: 0.5758, loss_bbox: 0.4192, loss: 0.9950, grad_norm: 2.0780\n",
      "2024-01-11 14:06:31,677 - mmdet - INFO - Epoch [2][750/1221]\tlr: 1.000e-02, eta: 0:33:48, time: 0.160, data_time: 0.009, memory: 1501, loss_cls: 0.5881, loss_bbox: 0.4342, loss: 1.0222, grad_norm: 2.2350\n",
      "2024-01-11 14:06:39,645 - mmdet - INFO - Epoch [2][800/1221]\tlr: 1.000e-02, eta: 0:33:40, time: 0.159, data_time: 0.009, memory: 1501, loss_cls: 0.5980, loss_bbox: 0.4361, loss: 1.0341, grad_norm: 2.1969\n",
      "2024-01-11 14:06:47,598 - mmdet - INFO - Epoch [2][850/1221]\tlr: 1.000e-02, eta: 0:33:32, time: 0.159, data_time: 0.009, memory: 1501, loss_cls: 0.5833, loss_bbox: 0.4344, loss: 1.0177, grad_norm: 2.1719\n",
      "2024-01-11 14:06:55,654 - mmdet - INFO - Epoch [2][900/1221]\tlr: 1.000e-02, eta: 0:33:24, time: 0.161, data_time: 0.009, memory: 1501, loss_cls: 0.6012, loss_bbox: 0.4250, loss: 1.0263, grad_norm: 2.1553\n",
      "2024-01-11 14:07:03,693 - mmdet - INFO - Epoch [2][950/1221]\tlr: 1.000e-02, eta: 0:33:16, time: 0.161, data_time: 0.009, memory: 1501, loss_cls: 0.6376, loss_bbox: 0.4261, loss: 1.0637, grad_norm: 2.3504\n",
      "2024-01-11 14:07:11,691 - mmdet - INFO - Epoch [2][1000/1221]\tlr: 1.000e-02, eta: 0:33:08, time: 0.160, data_time: 0.009, memory: 1501, loss_cls: 0.5928, loss_bbox: 0.4211, loss: 1.0140, grad_norm: 2.0917\n",
      "2024-01-11 14:07:19,691 - mmdet - INFO - Epoch [2][1050/1221]\tlr: 1.000e-02, eta: 0:33:00, time: 0.160, data_time: 0.009, memory: 1501, loss_cls: 0.5968, loss_bbox: 0.4013, loss: 0.9981, grad_norm: 2.1838\n",
      "2024-01-11 14:07:27,704 - mmdet - INFO - Epoch [2][1100/1221]\tlr: 1.000e-02, eta: 0:32:52, time: 0.160, data_time: 0.009, memory: 1501, loss_cls: 0.5732, loss_bbox: 0.4165, loss: 0.9897, grad_norm: 2.0468\n",
      "2024-01-11 14:07:35,688 - mmdet - INFO - Epoch [2][1150/1221]\tlr: 1.000e-02, eta: 0:32:44, time: 0.160, data_time: 0.009, memory: 1501, loss_cls: 0.5622, loss_bbox: 0.4132, loss: 0.9754, grad_norm: 1.9185\n",
      "2024-01-11 14:07:43,631 - mmdet - INFO - Epoch [2][1200/1221]\tlr: 1.000e-02, eta: 0:32:36, time: 0.159, data_time: 0.009, memory: 1501, loss_cls: 0.5640, loss_bbox: 0.4056, loss: 0.9696, grad_norm: 2.1083\n",
      "2024-01-11 14:07:46,999 - mmdet - INFO - Saving checkpoint at 2 epochs\n",
      "2024-01-11 14:07:59,296 - mmdet - INFO - Epoch [3][50/1221]\tlr: 1.000e-02, eta: 0:32:19, time: 0.206, data_time: 0.055, memory: 1501, loss_cls: 0.5559, loss_bbox: 0.3988, loss: 0.9547, grad_norm: 2.0127\n",
      "2024-01-11 14:08:07,270 - mmdet - INFO - Epoch [3][100/1221]\tlr: 1.000e-02, eta: 0:32:11, time: 0.159, data_time: 0.009, memory: 1501, loss_cls: 0.5710, loss_bbox: 0.4067, loss: 0.9776, grad_norm: 2.5510\n",
      "2024-01-11 14:08:15,283 - mmdet - INFO - Epoch [3][150/1221]\tlr: 1.000e-02, eta: 0:32:04, time: 0.160, data_time: 0.009, memory: 1501, loss_cls: 0.5469, loss_bbox: 0.4020, loss: 0.9489, grad_norm: 2.0393\n",
      "2024-01-11 14:08:23,250 - mmdet - INFO - Epoch [3][200/1221]\tlr: 1.000e-02, eta: 0:31:56, time: 0.159, data_time: 0.009, memory: 1501, loss_cls: 0.5521, loss_bbox: 0.4063, loss: 0.9584, grad_norm: 1.9536\n",
      "2024-01-11 14:08:31,214 - mmdet - INFO - Epoch [3][250/1221]\tlr: 1.000e-02, eta: 0:31:47, time: 0.159, data_time: 0.009, memory: 1501, loss_cls: 0.5441, loss_bbox: 0.3939, loss: 0.9380, grad_norm: 2.1077\n",
      "2024-01-11 14:08:39,208 - mmdet - INFO - Epoch [3][300/1221]\tlr: 1.000e-02, eta: 0:31:40, time: 0.160, data_time: 0.009, memory: 1501, loss_cls: 0.5747, loss_bbox: 0.4123, loss: 0.9870, grad_norm: 2.3486\n",
      "2024-01-11 14:08:47,152 - mmdet - INFO - Epoch [3][350/1221]\tlr: 1.000e-02, eta: 0:31:31, time: 0.159, data_time: 0.009, memory: 1501, loss_cls: 0.5640, loss_bbox: 0.4014, loss: 0.9655, grad_norm: 1.9555\n",
      "2024-01-11 14:08:55,055 - mmdet - INFO - Epoch [3][400/1221]\tlr: 1.000e-02, eta: 0:31:23, time: 0.158, data_time: 0.008, memory: 1501, loss_cls: 0.5365, loss_bbox: 0.3799, loss: 0.9164, grad_norm: 2.0052\n",
      "2024-01-11 14:09:03,062 - mmdet - INFO - Epoch [3][450/1221]\tlr: 1.000e-02, eta: 0:31:15, time: 0.160, data_time: 0.009, memory: 1501, loss_cls: 0.5150, loss_bbox: 0.3608, loss: 0.8757, grad_norm: 2.2699\n",
      "2024-01-11 14:09:11,052 - mmdet - INFO - Epoch [3][500/1221]\tlr: 1.000e-02, eta: 0:31:07, time: 0.160, data_time: 0.009, memory: 1501, loss_cls: 0.5894, loss_bbox: 0.3893, loss: 0.9787, grad_norm: 2.3051\n",
      "2024-01-11 14:09:18,968 - mmdet - INFO - Epoch [3][550/1221]\tlr: 1.000e-02, eta: 0:30:59, time: 0.158, data_time: 0.009, memory: 1501, loss_cls: 0.5350, loss_bbox: 0.3775, loss: 0.9125, grad_norm: 2.0019\n",
      "2024-01-11 14:09:26,860 - mmdet - INFO - Epoch [3][600/1221]\tlr: 1.000e-02, eta: 0:30:51, time: 0.158, data_time: 0.009, memory: 1501, loss_cls: 0.5585, loss_bbox: 0.3777, loss: 0.9362, grad_norm: 2.2786\n",
      "2024-01-11 14:09:34,887 - mmdet - INFO - Epoch [3][650/1221]\tlr: 1.000e-02, eta: 0:30:43, time: 0.161, data_time: 0.009, memory: 1501, loss_cls: 0.5261, loss_bbox: 0.3822, loss: 0.9083, grad_norm: 2.0910\n",
      "2024-01-11 14:09:42,867 - mmdet - INFO - Epoch [3][700/1221]\tlr: 1.000e-02, eta: 0:30:35, time: 0.160, data_time: 0.009, memory: 1501, loss_cls: 0.5252, loss_bbox: 0.3672, loss: 0.8923, grad_norm: 2.3497\n",
      "2024-01-11 14:09:50,821 - mmdet - INFO - Epoch [3][750/1221]\tlr: 1.000e-02, eta: 0:30:27, time: 0.159, data_time: 0.009, memory: 1501, loss_cls: 0.5475, loss_bbox: 0.3864, loss: 0.9339, grad_norm: 2.2544\n",
      "2024-01-11 14:09:58,706 - mmdet - INFO - Epoch [3][800/1221]\tlr: 1.000e-02, eta: 0:30:19, time: 0.158, data_time: 0.009, memory: 1501, loss_cls: 0.5300, loss_bbox: 0.3527, loss: 0.8826, grad_norm: 2.2593\n",
      "2024-01-11 14:10:06,673 - mmdet - INFO - Epoch [3][850/1221]\tlr: 1.000e-02, eta: 0:30:11, time: 0.159, data_time: 0.009, memory: 1501, loss_cls: 0.5234, loss_bbox: 0.3597, loss: 0.8831, grad_norm: 2.2255\n",
      "2024-01-11 14:10:14,630 - mmdet - INFO - Epoch [3][900/1221]\tlr: 1.000e-02, eta: 0:30:03, time: 0.159, data_time: 0.009, memory: 1501, loss_cls: 0.5675, loss_bbox: 0.3840, loss: 0.9514, grad_norm: 2.2044\n",
      "2024-01-11 14:10:22,563 - mmdet - INFO - Epoch [3][950/1221]\tlr: 1.000e-02, eta: 0:29:55, time: 0.159, data_time: 0.009, memory: 1501, loss_cls: 0.5188, loss_bbox: 0.3632, loss: 0.8819, grad_norm: 2.2568\n",
      "2024-01-11 14:10:30,565 - mmdet - INFO - Epoch [3][1000/1221]\tlr: 1.000e-02, eta: 0:29:47, time: 0.160, data_time: 0.010, memory: 1501, loss_cls: 0.5575, loss_bbox: 0.3669, loss: 0.9243, grad_norm: 2.3001\n",
      "2024-01-11 14:10:38,599 - mmdet - INFO - Epoch [3][1050/1221]\tlr: 1.000e-02, eta: 0:29:39, time: 0.161, data_time: 0.009, memory: 1501, loss_cls: 0.5298, loss_bbox: 0.3758, loss: 0.9056, grad_norm: 2.0344\n",
      "2024-01-11 14:10:46,638 - mmdet - INFO - Epoch [3][1100/1221]\tlr: 1.000e-02, eta: 0:29:31, time: 0.161, data_time: 0.009, memory: 1501, loss_cls: 0.5340, loss_bbox: 0.3513, loss: 0.8853, grad_norm: 2.3855\n",
      "2024-01-11 14:10:55,220 - mmdet - INFO - Epoch [3][1150/1221]\tlr: 1.000e-02, eta: 0:29:25, time: 0.172, data_time: 0.012, memory: 1501, loss_cls: 0.5266, loss_bbox: 0.3796, loss: 0.9062, grad_norm: 2.1102\n",
      "2024-01-11 14:11:03,800 - mmdet - INFO - Epoch [3][1200/1221]\tlr: 1.000e-02, eta: 0:29:19, time: 0.172, data_time: 0.013, memory: 1501, loss_cls: 0.5244, loss_bbox: 0.3776, loss: 0.9019, grad_norm: 2.2014\n",
      "2024-01-11 14:11:07,370 - mmdet - INFO - Saving checkpoint at 3 epochs\n",
      "2024-01-11 14:11:19,681 - mmdet - INFO - Epoch [4][50/1221]\tlr: 1.000e-02, eta: 0:29:05, time: 0.205, data_time: 0.054, memory: 1501, loss_cls: 0.5173, loss_bbox: 0.3507, loss: 0.8679, grad_norm: 2.1147\n",
      "2024-01-11 14:11:27,644 - mmdet - INFO - Epoch [4][100/1221]\tlr: 1.000e-02, eta: 0:28:56, time: 0.159, data_time: 0.009, memory: 1501, loss_cls: 0.4928, loss_bbox: 0.3593, loss: 0.8522, grad_norm: 2.0135\n",
      "2024-01-11 14:11:35,626 - mmdet - INFO - Epoch [4][150/1221]\tlr: 1.000e-02, eta: 0:28:49, time: 0.160, data_time: 0.010, memory: 1501, loss_cls: 0.5106, loss_bbox: 0.3401, loss: 0.8507, grad_norm: 2.3140\n",
      "2024-01-11 14:11:43,668 - mmdet - INFO - Epoch [4][200/1221]\tlr: 1.000e-02, eta: 0:28:41, time: 0.161, data_time: 0.010, memory: 1501, loss_cls: 0.5257, loss_bbox: 0.3497, loss: 0.8753, grad_norm: 2.2281\n",
      "2024-01-11 14:11:51,588 - mmdet - INFO - Epoch [4][250/1221]\tlr: 1.000e-02, eta: 0:28:33, time: 0.158, data_time: 0.009, memory: 1501, loss_cls: 0.5116, loss_bbox: 0.3574, loss: 0.8689, grad_norm: 2.1214\n",
      "2024-01-11 14:11:59,508 - mmdet - INFO - Epoch [4][300/1221]\tlr: 1.000e-02, eta: 0:28:24, time: 0.158, data_time: 0.008, memory: 1501, loss_cls: 0.5281, loss_bbox: 0.3664, loss: 0.8945, grad_norm: 2.2953\n",
      "2024-01-11 14:12:07,417 - mmdet - INFO - Epoch [4][350/1221]\tlr: 1.000e-02, eta: 0:28:16, time: 0.158, data_time: 0.009, memory: 1501, loss_cls: 0.5118, loss_bbox: 0.3525, loss: 0.8643, grad_norm: 2.2223\n",
      "2024-01-11 14:12:15,429 - mmdet - INFO - Epoch [4][400/1221]\tlr: 1.000e-02, eta: 0:28:08, time: 0.160, data_time: 0.010, memory: 1501, loss_cls: 0.5009, loss_bbox: 0.3549, loss: 0.8558, grad_norm: 1.9256\n",
      "2024-01-11 14:12:23,463 - mmdet - INFO - Epoch [4][450/1221]\tlr: 1.000e-02, eta: 0:28:01, time: 0.161, data_time: 0.010, memory: 1501, loss_cls: 0.5108, loss_bbox: 0.3470, loss: 0.8579, grad_norm: 2.2493\n",
      "2024-01-11 14:12:31,542 - mmdet - INFO - Epoch [4][500/1221]\tlr: 1.000e-02, eta: 0:27:53, time: 0.162, data_time: 0.010, memory: 1501, loss_cls: 0.5227, loss_bbox: 0.3661, loss: 0.8889, grad_norm: 2.1685\n",
      "2024-01-11 14:12:39,533 - mmdet - INFO - Epoch [4][550/1221]\tlr: 1.000e-02, eta: 0:27:45, time: 0.160, data_time: 0.009, memory: 1501, loss_cls: 0.5154, loss_bbox: 0.3447, loss: 0.8602, grad_norm: 2.1001\n",
      "2024-01-11 14:12:47,633 - mmdet - INFO - Epoch [4][600/1221]\tlr: 1.000e-02, eta: 0:27:37, time: 0.162, data_time: 0.010, memory: 1501, loss_cls: 0.4802, loss_bbox: 0.3206, loss: 0.8008, grad_norm: 2.1153\n",
      "2024-01-11 14:12:55,700 - mmdet - INFO - Epoch [4][650/1221]\tlr: 1.000e-02, eta: 0:27:30, time: 0.161, data_time: 0.010, memory: 1501, loss_cls: 0.4959, loss_bbox: 0.3405, loss: 0.8364, grad_norm: 2.1652\n",
      "2024-01-11 14:13:03,706 - mmdet - INFO - Epoch [4][700/1221]\tlr: 1.000e-02, eta: 0:27:22, time: 0.160, data_time: 0.009, memory: 1501, loss_cls: 0.4784, loss_bbox: 0.3221, loss: 0.8005, grad_norm: 2.1238\n",
      "2024-01-11 14:13:11,657 - mmdet - INFO - Epoch [4][750/1221]\tlr: 1.000e-02, eta: 0:27:14, time: 0.159, data_time: 0.009, memory: 1501, loss_cls: 0.5161, loss_bbox: 0.3645, loss: 0.8806, grad_norm: 2.3317\n",
      "2024-01-11 14:13:19,611 - mmdet - INFO - Epoch [4][800/1221]\tlr: 1.000e-02, eta: 0:27:06, time: 0.159, data_time: 0.009, memory: 1501, loss_cls: 0.5015, loss_bbox: 0.3622, loss: 0.8638, grad_norm: 2.0241\n",
      "2024-01-11 14:13:27,772 - mmdet - INFO - Epoch [4][850/1221]\tlr: 1.000e-02, eta: 0:26:58, time: 0.163, data_time: 0.009, memory: 1501, loss_cls: 0.5061, loss_bbox: 0.3611, loss: 0.8671, grad_norm: 2.3796\n",
      "2024-01-11 14:13:40,335 - mmdet - INFO - Epoch [4][900/1221]\tlr: 1.000e-02, eta: 0:27:00, time: 0.251, data_time: 0.008, memory: 1501, loss_cls: 0.5250, loss_bbox: 0.3610, loss: 0.8861, grad_norm: 2.3376\n",
      "2024-01-11 14:13:55,771 - mmdet - INFO - Epoch [4][950/1221]\tlr: 1.000e-02, eta: 0:27:08, time: 0.309, data_time: 0.008, memory: 1501, loss_cls: 0.5045, loss_bbox: 0.3506, loss: 0.8550, grad_norm: 2.0824\n",
      "2024-01-11 14:14:11,218 - mmdet - INFO - Epoch [4][1000/1221]\tlr: 1.000e-02, eta: 0:27:16, time: 0.309, data_time: 0.009, memory: 1501, loss_cls: 0.5018, loss_bbox: 0.3625, loss: 0.8642, grad_norm: 2.3153\n",
      "2024-01-11 14:14:26,661 - mmdet - INFO - Epoch [4][1050/1221]\tlr: 1.000e-02, eta: 0:27:23, time: 0.309, data_time: 0.009, memory: 1501, loss_cls: 0.5057, loss_bbox: 0.3379, loss: 0.8436, grad_norm: 2.4368\n",
      "2024-01-11 14:14:42,139 - mmdet - INFO - Epoch [4][1100/1221]\tlr: 1.000e-02, eta: 0:27:30, time: 0.310, data_time: 0.009, memory: 1501, loss_cls: 0.5177, loss_bbox: 0.3539, loss: 0.8716, grad_norm: 2.0099\n",
      "2024-01-11 14:14:57,623 - mmdet - INFO - Epoch [4][1150/1221]\tlr: 1.000e-02, eta: 0:27:36, time: 0.310, data_time: 0.009, memory: 1501, loss_cls: 0.4935, loss_bbox: 0.3228, loss: 0.8163, grad_norm: 2.1011\n",
      "2024-01-11 14:15:13,104 - mmdet - INFO - Epoch [4][1200/1221]\tlr: 1.000e-02, eta: 0:27:42, time: 0.310, data_time: 0.009, memory: 1501, loss_cls: 0.4879, loss_bbox: 0.3331, loss: 0.8210, grad_norm: 2.2291\n",
      "2024-01-11 14:15:19,636 - mmdet - INFO - Saving checkpoint at 4 epochs\n",
      "2024-01-11 14:15:39,555 - mmdet - INFO - Epoch [5][50/1221]\tlr: 1.000e-02, eta: 0:27:41, time: 0.358, data_time: 0.055, memory: 1501, loss_cls: 0.4793, loss_bbox: 0.3410, loss: 0.8203, grad_norm: 2.2091\n",
      "2024-01-11 14:15:55,011 - mmdet - INFO - Epoch [5][100/1221]\tlr: 1.000e-02, eta: 0:27:46, time: 0.309, data_time: 0.009, memory: 1501, loss_cls: 0.4730, loss_bbox: 0.3289, loss: 0.8019, grad_norm: 2.1132\n",
      "2024-01-11 14:16:10,477 - mmdet - INFO - Epoch [5][150/1221]\tlr: 1.000e-02, eta: 0:27:50, time: 0.309, data_time: 0.009, memory: 1501, loss_cls: 0.4689, loss_bbox: 0.3324, loss: 0.8013, grad_norm: 1.9572\n",
      "2024-01-11 14:16:25,956 - mmdet - INFO - Epoch [5][200/1221]\tlr: 1.000e-02, eta: 0:27:55, time: 0.310, data_time: 0.009, memory: 1501, loss_cls: 0.5087, loss_bbox: 0.3467, loss: 0.8554, grad_norm: 2.1921\n",
      "2024-01-11 14:16:41,425 - mmdet - INFO - Epoch [5][250/1221]\tlr: 1.000e-02, eta: 0:27:58, time: 0.309, data_time: 0.009, memory: 1501, loss_cls: 0.5750, loss_bbox: 0.3550, loss: 0.9300, grad_norm: 2.7065\n",
      "2024-01-11 14:16:56,886 - mmdet - INFO - Epoch [5][300/1221]\tlr: 1.000e-02, eta: 0:28:02, time: 0.309, data_time: 0.009, memory: 1501, loss_cls: 0.5014, loss_bbox: 0.3616, loss: 0.8629, grad_norm: 2.2013\n",
      "2024-01-11 14:17:12,343 - mmdet - INFO - Epoch [5][350/1221]\tlr: 1.000e-02, eta: 0:28:04, time: 0.309, data_time: 0.009, memory: 1501, loss_cls: 0.5018, loss_bbox: 0.3368, loss: 0.8386, grad_norm: 2.3534\n",
      "2024-01-11 14:17:27,785 - mmdet - INFO - Epoch [5][400/1221]\tlr: 1.000e-02, eta: 0:28:07, time: 0.309, data_time: 0.009, memory: 1501, loss_cls: 0.4670, loss_bbox: 0.3251, loss: 0.7921, grad_norm: 2.1998\n",
      "2024-01-11 14:17:43,255 - mmdet - INFO - Epoch [5][450/1221]\tlr: 1.000e-02, eta: 0:28:09, time: 0.309, data_time: 0.009, memory: 1501, loss_cls: 0.4820, loss_bbox: 0.3389, loss: 0.8209, grad_norm: 2.1445\n",
      "2024-01-11 14:17:58,724 - mmdet - INFO - Epoch [5][500/1221]\tlr: 1.000e-02, eta: 0:28:11, time: 0.309, data_time: 0.009, memory: 1501, loss_cls: 0.4738, loss_bbox: 0.3317, loss: 0.8055, grad_norm: 2.0936\n",
      "2024-01-11 14:18:14,191 - mmdet - INFO - Epoch [5][550/1221]\tlr: 1.000e-02, eta: 0:28:13, time: 0.309, data_time: 0.009, memory: 1501, loss_cls: 0.4740, loss_bbox: 0.3518, loss: 0.8258, grad_norm: 2.1492\n",
      "2024-01-11 14:18:29,658 - mmdet - INFO - Epoch [5][600/1221]\tlr: 1.000e-02, eta: 0:28:14, time: 0.309, data_time: 0.009, memory: 1501, loss_cls: 0.4732, loss_bbox: 0.3391, loss: 0.8122, grad_norm: 2.0378\n",
      "2024-01-11 14:18:45,143 - mmdet - INFO - Epoch [5][650/1221]\tlr: 1.000e-02, eta: 0:28:15, time: 0.310, data_time: 0.009, memory: 1501, loss_cls: 0.4618, loss_bbox: 0.3054, loss: 0.7672, grad_norm: 2.4043\n",
      "2024-01-11 14:19:00,649 - mmdet - INFO - Epoch [5][700/1221]\tlr: 1.000e-02, eta: 0:28:16, time: 0.310, data_time: 0.010, memory: 1501, loss_cls: 0.4518, loss_bbox: 0.3345, loss: 0.7862, grad_norm: 2.3230\n",
      "2024-01-11 14:19:16,091 - mmdet - INFO - Epoch [5][750/1221]\tlr: 1.000e-02, eta: 0:28:16, time: 0.309, data_time: 0.010, memory: 1501, loss_cls: 0.4534, loss_bbox: 0.3069, loss: 0.7603, grad_norm: 2.1437\n",
      "2024-01-11 14:19:31,539 - mmdet - INFO - Epoch [5][800/1221]\tlr: 1.000e-02, eta: 0:28:17, time: 0.309, data_time: 0.010, memory: 1501, loss_cls: 0.4733, loss_bbox: 0.3170, loss: 0.7903, grad_norm: 2.2564\n",
      "2024-01-11 14:19:45,857 - mmdet - INFO - Epoch [5][850/1221]\tlr: 1.000e-02, eta: 0:28:15, time: 0.286, data_time: 0.009, memory: 1501, loss_cls: 0.4776, loss_bbox: 0.3381, loss: 0.8157, grad_norm: 2.1266\n",
      "2024-01-11 14:19:53,782 - mmdet - INFO - Epoch [5][900/1221]\tlr: 1.000e-02, eta: 0:28:03, time: 0.159, data_time: 0.009, memory: 1501, loss_cls: 0.4582, loss_bbox: 0.3209, loss: 0.7791, grad_norm: 2.3280\n",
      "2024-01-11 14:20:09,008 - mmdet - INFO - Epoch [5][950/1221]\tlr: 1.000e-02, eta: 0:28:02, time: 0.304, data_time: 0.009, memory: 1501, loss_cls: 0.4978, loss_bbox: 0.3300, loss: 0.8278, grad_norm: 2.4312\n",
      "2024-01-11 14:20:24,472 - mmdet - INFO - Epoch [5][1000/1221]\tlr: 1.000e-02, eta: 0:28:01, time: 0.309, data_time: 0.009, memory: 1501, loss_cls: 0.4654, loss_bbox: 0.3345, loss: 0.8000, grad_norm: 2.1106\n",
      "2024-01-11 14:20:39,964 - mmdet - INFO - Epoch [5][1050/1221]\tlr: 1.000e-02, eta: 0:28:00, time: 0.310, data_time: 0.009, memory: 1501, loss_cls: 0.4593, loss_bbox: 0.3289, loss: 0.7881, grad_norm: 2.1457\n",
      "2024-01-11 14:20:55,446 - mmdet - INFO - Epoch [5][1100/1221]\tlr: 1.000e-02, eta: 0:27:59, time: 0.310, data_time: 0.009, memory: 1501, loss_cls: 0.4972, loss_bbox: 0.3356, loss: 0.8328, grad_norm: 2.3167\n",
      "2024-01-11 14:21:10,901 - mmdet - INFO - Epoch [5][1150/1221]\tlr: 1.000e-02, eta: 0:27:58, time: 0.309, data_time: 0.009, memory: 1501, loss_cls: 0.4771, loss_bbox: 0.3268, loss: 0.8039, grad_norm: 2.2506\n",
      "2024-01-11 14:21:26,387 - mmdet - INFO - Epoch [5][1200/1221]\tlr: 1.000e-02, eta: 0:27:56, time: 0.310, data_time: 0.009, memory: 1501, loss_cls: 0.4740, loss_bbox: 0.3230, loss: 0.7970, grad_norm: 2.1384\n",
      "2024-01-11 14:21:32,917 - mmdet - INFO - Saving checkpoint at 5 epochs\n",
      "2024-01-11 14:21:52,895 - mmdet - INFO - Epoch [6][50/1221]\tlr: 1.000e-02, eta: 0:27:47, time: 0.356, data_time: 0.056, memory: 1501, loss_cls: 0.4394, loss_bbox: 0.2951, loss: 0.7345, grad_norm: 2.2435\n",
      "2024-01-11 14:22:08,359 - mmdet - INFO - Epoch [6][100/1221]\tlr: 1.000e-02, eta: 0:27:45, time: 0.309, data_time: 0.009, memory: 1501, loss_cls: 0.4488, loss_bbox: 0.2968, loss: 0.7457, grad_norm: 2.2092\n",
      "2024-01-11 14:22:23,833 - mmdet - INFO - Epoch [6][150/1221]\tlr: 1.000e-02, eta: 0:27:43, time: 0.309, data_time: 0.009, memory: 1501, loss_cls: 0.4653, loss_bbox: 0.3325, loss: 0.7978, grad_norm: 2.2047\n",
      "2024-01-11 14:22:39,308 - mmdet - INFO - Epoch [6][200/1221]\tlr: 1.000e-02, eta: 0:27:40, time: 0.310, data_time: 0.009, memory: 1501, loss_cls: 0.4787, loss_bbox: 0.3154, loss: 0.7941, grad_norm: 2.3613\n",
      "2024-01-11 14:22:54,737 - mmdet - INFO - Epoch [6][250/1221]\tlr: 1.000e-02, eta: 0:27:38, time: 0.309, data_time: 0.009, memory: 1501, loss_cls: 0.4456, loss_bbox: 0.3027, loss: 0.7482, grad_norm: 2.2019\n",
      "2024-01-11 14:23:10,182 - mmdet - INFO - Epoch [6][300/1221]\tlr: 1.000e-02, eta: 0:27:35, time: 0.309, data_time: 0.009, memory: 1501, loss_cls: 0.4934, loss_bbox: 0.3139, loss: 0.8073, grad_norm: 2.4137\n",
      "2024-01-11 14:23:25,708 - mmdet - INFO - Epoch [6][350/1221]\tlr: 1.000e-02, eta: 0:27:32, time: 0.311, data_time: 0.009, memory: 1501, loss_cls: 0.4629, loss_bbox: 0.3217, loss: 0.7847, grad_norm: 2.2259\n",
      "2024-01-11 14:23:41,199 - mmdet - INFO - Epoch [6][400/1221]\tlr: 1.000e-02, eta: 0:27:28, time: 0.310, data_time: 0.009, memory: 1501, loss_cls: 0.4352, loss_bbox: 0.3159, loss: 0.7512, grad_norm: 2.2630\n",
      "2024-01-11 14:23:56,620 - mmdet - INFO - Epoch [6][450/1221]\tlr: 1.000e-02, eta: 0:27:25, time: 0.308, data_time: 0.009, memory: 1501, loss_cls: 0.4391, loss_bbox: 0.3141, loss: 0.7532, grad_norm: 2.1611\n",
      "2024-01-11 14:24:12,102 - mmdet - INFO - Epoch [6][500/1221]\tlr: 1.000e-02, eta: 0:27:21, time: 0.310, data_time: 0.009, memory: 1501, loss_cls: 0.4349, loss_bbox: 0.3270, loss: 0.7619, grad_norm: 2.0410\n",
      "2024-01-11 14:24:27,583 - mmdet - INFO - Epoch [6][550/1221]\tlr: 1.000e-02, eta: 0:27:17, time: 0.310, data_time: 0.009, memory: 1501, loss_cls: 0.4493, loss_bbox: 0.3207, loss: 0.7699, grad_norm: 2.3753\n",
      "2024-01-11 14:24:43,054 - mmdet - INFO - Epoch [6][600/1221]\tlr: 1.000e-02, eta: 0:27:13, time: 0.309, data_time: 0.009, memory: 1501, loss_cls: 0.4876, loss_bbox: 0.3188, loss: 0.8064, grad_norm: 2.3625\n",
      "2024-01-11 14:24:58,537 - mmdet - INFO - Epoch [6][650/1221]\tlr: 1.000e-02, eta: 0:27:09, time: 0.310, data_time: 0.009, memory: 1501, loss_cls: 0.4522, loss_bbox: 0.3322, loss: 0.7845, grad_norm: 2.0173\n",
      "2024-01-11 14:25:14,042 - mmdet - INFO - Epoch [6][700/1221]\tlr: 1.000e-02, eta: 0:27:05, time: 0.310, data_time: 0.010, memory: 1501, loss_cls: 0.4595, loss_bbox: 0.3065, loss: 0.7659, grad_norm: 2.1770\n",
      "2024-01-11 14:25:29,512 - mmdet - INFO - Epoch [6][750/1221]\tlr: 1.000e-02, eta: 0:27:00, time: 0.309, data_time: 0.009, memory: 1501, loss_cls: 0.4514, loss_bbox: 0.3151, loss: 0.7666, grad_norm: 2.1519\n",
      "2024-01-11 14:25:44,958 - mmdet - INFO - Epoch [6][800/1221]\tlr: 1.000e-02, eta: 0:26:55, time: 0.309, data_time: 0.010, memory: 1501, loss_cls: 0.4380, loss_bbox: 0.2967, loss: 0.7346, grad_norm: 2.1183\n",
      "2024-01-11 14:26:00,447 - mmdet - INFO - Epoch [6][850/1221]\tlr: 1.000e-02, eta: 0:26:51, time: 0.310, data_time: 0.010, memory: 1501, loss_cls: 0.4679, loss_bbox: 0.3229, loss: 0.7908, grad_norm: 2.1779\n",
      "2024-01-11 14:26:11,987 - mmdet - INFO - Epoch [6][900/1221]\tlr: 1.000e-02, eta: 0:26:41, time: 0.231, data_time: 0.010, memory: 1501, loss_cls: 0.4393, loss_bbox: 0.2926, loss: 0.7319, grad_norm: 2.1467\n",
      "2024-01-11 14:26:27,419 - mmdet - INFO - Epoch [6][950/1221]\tlr: 1.000e-02, eta: 0:26:36, time: 0.309, data_time: 0.009, memory: 1501, loss_cls: 0.4459, loss_bbox: 0.3126, loss: 0.7585, grad_norm: 2.2673\n",
      "2024-01-11 14:26:42,895 - mmdet - INFO - Epoch [6][1000/1221]\tlr: 1.000e-02, eta: 0:26:31, time: 0.310, data_time: 0.010, memory: 1501, loss_cls: 0.4313, loss_bbox: 0.3290, loss: 0.7603, grad_norm: 2.3675\n",
      "2024-01-11 14:26:58,376 - mmdet - INFO - Epoch [6][1050/1221]\tlr: 1.000e-02, eta: 0:26:26, time: 0.310, data_time: 0.009, memory: 1501, loss_cls: 0.4673, loss_bbox: 0.3234, loss: 0.7907, grad_norm: 2.2304\n",
      "2024-01-11 14:27:13,848 - mmdet - INFO - Epoch [6][1100/1221]\tlr: 1.000e-02, eta: 0:26:20, time: 0.309, data_time: 0.009, memory: 1501, loss_cls: 0.4529, loss_bbox: 0.3220, loss: 0.7750, grad_norm: 2.1024\n",
      "2024-01-11 14:27:29,294 - mmdet - INFO - Epoch [6][1150/1221]\tlr: 1.000e-02, eta: 0:26:14, time: 0.309, data_time: 0.009, memory: 1501, loss_cls: 0.4708, loss_bbox: 0.3046, loss: 0.7754, grad_norm: 2.4005\n",
      "2024-01-11 14:27:44,745 - mmdet - INFO - Epoch [6][1200/1221]\tlr: 1.000e-02, eta: 0:26:09, time: 0.309, data_time: 0.009, memory: 1501, loss_cls: 0.4349, loss_bbox: 0.2986, loss: 0.7335, grad_norm: 2.1924\n",
      "2024-01-11 14:27:51,313 - mmdet - INFO - Saving checkpoint at 6 epochs\n",
      "2024-01-11 14:28:11,184 - mmdet - INFO - Epoch [7][50/1221]\tlr: 1.000e-02, eta: 0:25:56, time: 0.356, data_time: 0.056, memory: 1501, loss_cls: 0.4418, loss_bbox: 0.2902, loss: 0.7321, grad_norm: 2.2695\n",
      "2024-01-11 14:28:26,678 - mmdet - INFO - Epoch [7][100/1221]\tlr: 1.000e-02, eta: 0:25:50, time: 0.310, data_time: 0.009, memory: 1501, loss_cls: 0.4298, loss_bbox: 0.2996, loss: 0.7294, grad_norm: 2.1415\n",
      "2024-01-11 14:28:42,164 - mmdet - INFO - Epoch [7][150/1221]\tlr: 1.000e-02, eta: 0:25:44, time: 0.310, data_time: 0.009, memory: 1501, loss_cls: 0.4161, loss_bbox: 0.3131, loss: 0.7292, grad_norm: 2.2128\n",
      "2024-01-11 14:28:57,639 - mmdet - INFO - Epoch [7][200/1221]\tlr: 1.000e-02, eta: 0:25:38, time: 0.310, data_time: 0.009, memory: 1501, loss_cls: 0.4266, loss_bbox: 0.3045, loss: 0.7311, grad_norm: 2.2012\n",
      "2024-01-11 14:29:13,101 - mmdet - INFO - Epoch [7][250/1221]\tlr: 1.000e-02, eta: 0:25:31, time: 0.309, data_time: 0.009, memory: 1501, loss_cls: 0.4693, loss_bbox: 0.3026, loss: 0.7719, grad_norm: 2.4299\n",
      "2024-01-11 14:29:28,542 - mmdet - INFO - Epoch [7][300/1221]\tlr: 1.000e-02, eta: 0:25:25, time: 0.309, data_time: 0.009, memory: 1501, loss_cls: 0.4867, loss_bbox: 0.3147, loss: 0.8014, grad_norm: 2.3087\n",
      "2024-01-11 14:29:43,992 - mmdet - INFO - Epoch [7][350/1221]\tlr: 1.000e-02, eta: 0:25:18, time: 0.309, data_time: 0.009, memory: 1501, loss_cls: 0.4234, loss_bbox: 0.2907, loss: 0.7142, grad_norm: 2.1433\n",
      "2024-01-11 14:29:59,444 - mmdet - INFO - Epoch [7][400/1221]\tlr: 1.000e-02, eta: 0:25:11, time: 0.309, data_time: 0.009, memory: 1501, loss_cls: 0.4322, loss_bbox: 0.2954, loss: 0.7276, grad_norm: 2.3363\n",
      "2024-01-11 14:30:14,910 - mmdet - INFO - Epoch [7][450/1221]\tlr: 1.000e-02, eta: 0:25:04, time: 0.309, data_time: 0.009, memory: 1501, loss_cls: 0.4437, loss_bbox: 0.3059, loss: 0.7496, grad_norm: 2.1226\n",
      "2024-01-11 14:30:30,347 - mmdet - INFO - Epoch [7][500/1221]\tlr: 1.000e-02, eta: 0:24:57, time: 0.309, data_time: 0.009, memory: 1501, loss_cls: 0.4194, loss_bbox: 0.2890, loss: 0.7084, grad_norm: 2.3424\n",
      "2024-01-11 14:30:45,828 - mmdet - INFO - Epoch [7][550/1221]\tlr: 1.000e-02, eta: 0:24:50, time: 0.310, data_time: 0.009, memory: 1501, loss_cls: 0.4239, loss_bbox: 0.2633, loss: 0.6873, grad_norm: 2.3682\n",
      "2024-01-11 14:31:01,315 - mmdet - INFO - Epoch [7][600/1221]\tlr: 1.000e-02, eta: 0:24:43, time: 0.310, data_time: 0.010, memory: 1501, loss_cls: 0.4313, loss_bbox: 0.3057, loss: 0.7370, grad_norm: 2.2544\n",
      "2024-01-11 14:31:16,835 - mmdet - INFO - Epoch [7][650/1221]\tlr: 1.000e-02, eta: 0:24:36, time: 0.310, data_time: 0.010, memory: 1501, loss_cls: 0.4419, loss_bbox: 0.3014, loss: 0.7433, grad_norm: 2.3096\n",
      "2024-01-11 14:31:32,314 - mmdet - INFO - Epoch [7][700/1221]\tlr: 1.000e-02, eta: 0:24:28, time: 0.310, data_time: 0.010, memory: 1501, loss_cls: 0.4637, loss_bbox: 0.3137, loss: 0.7774, grad_norm: 2.4111\n",
      "2024-01-11 14:31:47,806 - mmdet - INFO - Epoch [7][750/1221]\tlr: 1.000e-02, eta: 0:24:21, time: 0.310, data_time: 0.010, memory: 1501, loss_cls: 0.4249, loss_bbox: 0.3143, loss: 0.7393, grad_norm: 2.2312\n",
      "2024-01-11 14:32:03,323 - mmdet - INFO - Epoch [7][800/1221]\tlr: 1.000e-02, eta: 0:24:13, time: 0.310, data_time: 0.009, memory: 1501, loss_cls: 0.4278, loss_bbox: 0.3233, loss: 0.7512, grad_norm: 2.1167\n",
      "2024-01-11 14:32:18,784 - mmdet - INFO - Epoch [7][850/1221]\tlr: 1.000e-02, eta: 0:24:05, time: 0.309, data_time: 0.010, memory: 1501, loss_cls: 0.4373, loss_bbox: 0.2943, loss: 0.7317, grad_norm: 2.2591\n",
      "2024-01-11 14:32:30,169 - mmdet - INFO - Epoch [7][900/1221]\tlr: 1.000e-02, eta: 0:23:54, time: 0.228, data_time: 0.010, memory: 1501, loss_cls: 0.4350, loss_bbox: 0.2982, loss: 0.7332, grad_norm: 2.1014\n",
      "2024-01-11 14:32:45,515 - mmdet - INFO - Epoch [7][950/1221]\tlr: 1.000e-02, eta: 0:23:46, time: 0.307, data_time: 0.009, memory: 1501, loss_cls: 0.4331, loss_bbox: 0.3033, loss: 0.7364, grad_norm: 2.2820\n",
      "2024-01-11 14:33:00,985 - mmdet - INFO - Epoch [7][1000/1221]\tlr: 1.000e-02, eta: 0:23:39, time: 0.309, data_time: 0.009, memory: 1501, loss_cls: 0.4440, loss_bbox: 0.3116, loss: 0.7557, grad_norm: 2.3054\n",
      "2024-01-11 14:33:16,446 - mmdet - INFO - Epoch [7][1050/1221]\tlr: 1.000e-02, eta: 0:23:31, time: 0.309, data_time: 0.009, memory: 1501, loss_cls: 0.4267, loss_bbox: 0.2965, loss: 0.7232, grad_norm: 2.2228\n",
      "2024-01-11 14:33:31,914 - mmdet - INFO - Epoch [7][1100/1221]\tlr: 1.000e-02, eta: 0:23:22, time: 0.309, data_time: 0.010, memory: 1501, loss_cls: 0.4211, loss_bbox: 0.2990, loss: 0.7201, grad_norm: 2.3059\n",
      "2024-01-11 14:33:47,403 - mmdet - INFO - Epoch [7][1150/1221]\tlr: 1.000e-02, eta: 0:23:14, time: 0.310, data_time: 0.009, memory: 1501, loss_cls: 0.4202, loss_bbox: 0.2948, loss: 0.7150, grad_norm: 2.2587\n",
      "2024-01-11 14:34:02,853 - mmdet - INFO - Epoch [7][1200/1221]\tlr: 1.000e-02, eta: 0:23:06, time: 0.309, data_time: 0.009, memory: 1501, loss_cls: 0.4211, loss_bbox: 0.2812, loss: 0.7022, grad_norm: 2.2006\n",
      "2024-01-11 14:34:09,396 - mmdet - INFO - Saving checkpoint at 7 epochs\n",
      "2024-01-11 14:34:29,296 - mmdet - INFO - Epoch [8][50/1221]\tlr: 1.000e-02, eta: 0:22:51, time: 0.356, data_time: 0.056, memory: 1501, loss_cls: 0.4197, loss_bbox: 0.2962, loss: 0.7159, grad_norm: 2.1668\n",
      "2024-01-11 14:34:44,774 - mmdet - INFO - Epoch [8][100/1221]\tlr: 1.000e-02, eta: 0:22:43, time: 0.310, data_time: 0.009, memory: 1501, loss_cls: 0.4144, loss_bbox: 0.2830, loss: 0.6973, grad_norm: 2.2785\n",
      "2024-01-11 14:35:00,230 - mmdet - INFO - Epoch [8][150/1221]\tlr: 1.000e-02, eta: 0:22:34, time: 0.309, data_time: 0.009, memory: 1501, loss_cls: 0.4113, loss_bbox: 0.2849, loss: 0.6962, grad_norm: 2.2205\n",
      "2024-01-11 14:35:15,725 - mmdet - INFO - Epoch [8][200/1221]\tlr: 1.000e-02, eta: 0:22:25, time: 0.310, data_time: 0.009, memory: 1501, loss_cls: 0.4164, loss_bbox: 0.2897, loss: 0.7061, grad_norm: 2.1746\n",
      "2024-01-11 14:35:31,204 - mmdet - INFO - Epoch [8][250/1221]\tlr: 1.000e-02, eta: 0:22:17, time: 0.310, data_time: 0.009, memory: 1501, loss_cls: 0.3964, loss_bbox: 0.2806, loss: 0.6770, grad_norm: 2.2538\n",
      "2024-01-11 14:35:46,659 - mmdet - INFO - Epoch [8][300/1221]\tlr: 1.000e-02, eta: 0:22:08, time: 0.309, data_time: 0.009, memory: 1501, loss_cls: 0.4196, loss_bbox: 0.2695, loss: 0.6891, grad_norm: 2.3214\n",
      "2024-01-11 14:36:02,157 - mmdet - INFO - Epoch [8][350/1221]\tlr: 1.000e-02, eta: 0:21:59, time: 0.310, data_time: 0.009, memory: 1501, loss_cls: 0.4293, loss_bbox: 0.2987, loss: 0.7280, grad_norm: 2.3293\n",
      "2024-01-11 14:36:17,627 - mmdet - INFO - Epoch [8][400/1221]\tlr: 1.000e-02, eta: 0:21:50, time: 0.309, data_time: 0.010, memory: 1501, loss_cls: 0.4277, loss_bbox: 0.2800, loss: 0.7077, grad_norm: 2.3367\n",
      "2024-01-11 14:36:33,087 - mmdet - INFO - Epoch [8][450/1221]\tlr: 1.000e-02, eta: 0:21:41, time: 0.309, data_time: 0.009, memory: 1501, loss_cls: 0.4446, loss_bbox: 0.3003, loss: 0.7449, grad_norm: 2.3536\n",
      "2024-01-11 14:36:48,564 - mmdet - INFO - Epoch [8][500/1221]\tlr: 1.000e-02, eta: 0:21:32, time: 0.310, data_time: 0.010, memory: 1501, loss_cls: 0.4000, loss_bbox: 0.2953, loss: 0.6954, grad_norm: 2.1995\n",
      "2024-01-11 14:37:04,006 - mmdet - INFO - Epoch [8][550/1221]\tlr: 1.000e-02, eta: 0:21:23, time: 0.309, data_time: 0.009, memory: 1501, loss_cls: 0.4157, loss_bbox: 0.3035, loss: 0.7193, grad_norm: 2.2267\n",
      "2024-01-11 14:37:19,478 - mmdet - INFO - Epoch [8][600/1221]\tlr: 1.000e-02, eta: 0:21:14, time: 0.309, data_time: 0.009, memory: 1502, loss_cls: 0.4526, loss_bbox: 0.2893, loss: 0.7420, grad_norm: 2.4971\n",
      "2024-01-11 14:37:34,944 - mmdet - INFO - Epoch [8][650/1221]\tlr: 1.000e-02, eta: 0:21:05, time: 0.309, data_time: 0.009, memory: 1502, loss_cls: 0.4489, loss_bbox: 0.3100, loss: 0.7589, grad_norm: 2.2268\n",
      "2024-01-11 14:37:50,394 - mmdet - INFO - Epoch [8][700/1221]\tlr: 1.000e-02, eta: 0:20:55, time: 0.309, data_time: 0.009, memory: 1502, loss_cls: 0.4141, loss_bbox: 0.2840, loss: 0.6981, grad_norm: 2.2667\n",
      "2024-01-11 14:38:05,864 - mmdet - INFO - Epoch [8][750/1221]\tlr: 1.000e-02, eta: 0:20:46, time: 0.309, data_time: 0.009, memory: 1502, loss_cls: 0.4129, loss_bbox: 0.2777, loss: 0.6907, grad_norm: 2.2669\n",
      "2024-01-11 14:38:21,339 - mmdet - INFO - Epoch [8][800/1221]\tlr: 1.000e-02, eta: 0:20:36, time: 0.309, data_time: 0.010, memory: 1502, loss_cls: 0.4142, loss_bbox: 0.2671, loss: 0.6813, grad_norm: 2.3566\n",
      "2024-01-11 14:38:36,782 - mmdet - INFO - Epoch [8][850/1221]\tlr: 1.000e-02, eta: 0:20:27, time: 0.309, data_time: 0.010, memory: 1502, loss_cls: 0.4109, loss_bbox: 0.2651, loss: 0.6760, grad_norm: 2.3408\n",
      "2024-01-11 14:38:48,150 - mmdet - INFO - Epoch [8][900/1221]\tlr: 1.000e-02, eta: 0:20:15, time: 0.227, data_time: 0.010, memory: 1502, loss_cls: 0.4056, loss_bbox: 0.3008, loss: 0.7063, grad_norm: 2.0058\n",
      "2024-01-11 14:39:03,558 - mmdet - INFO - Epoch [8][950/1221]\tlr: 1.000e-02, eta: 0:20:05, time: 0.308, data_time: 0.009, memory: 1502, loss_cls: 0.4216, loss_bbox: 0.2995, loss: 0.7211, grad_norm: 2.3086\n",
      "2024-01-11 14:39:19,024 - mmdet - INFO - Epoch [8][1000/1221]\tlr: 1.000e-02, eta: 0:19:56, time: 0.309, data_time: 0.009, memory: 1502, loss_cls: 0.4169, loss_bbox: 0.3045, loss: 0.7214, grad_norm: 2.3751\n",
      "2024-01-11 14:39:34,480 - mmdet - INFO - Epoch [8][1050/1221]\tlr: 1.000e-02, eta: 0:19:46, time: 0.309, data_time: 0.009, memory: 1502, loss_cls: 0.4277, loss_bbox: 0.2962, loss: 0.7239, grad_norm: 2.4349\n",
      "2024-01-11 14:39:49,911 - mmdet - INFO - Epoch [8][1100/1221]\tlr: 1.000e-02, eta: 0:19:36, time: 0.309, data_time: 0.009, memory: 1502, loss_cls: 0.4132, loss_bbox: 0.2866, loss: 0.6999, grad_norm: 2.3353\n",
      "2024-01-11 14:40:05,370 - mmdet - INFO - Epoch [8][1150/1221]\tlr: 1.000e-02, eta: 0:19:26, time: 0.309, data_time: 0.009, memory: 1502, loss_cls: 0.4173, loss_bbox: 0.3021, loss: 0.7195, grad_norm: 2.4081\n",
      "2024-01-11 14:40:20,865 - mmdet - INFO - Epoch [8][1200/1221]\tlr: 1.000e-02, eta: 0:19:16, time: 0.310, data_time: 0.009, memory: 1502, loss_cls: 0.4209, loss_bbox: 0.2879, loss: 0.7088, grad_norm: 2.3119\n",
      "2024-01-11 14:40:27,415 - mmdet - INFO - Saving checkpoint at 8 epochs\n",
      "2024-01-11 14:40:47,524 - mmdet - INFO - Epoch [9][50/1221]\tlr: 1.000e-03, eta: 0:19:00, time: 0.357, data_time: 0.056, memory: 1502, loss_cls: 0.3996, loss_bbox: 0.2598, loss: 0.6595, grad_norm: 1.9813\n",
      "2024-01-11 14:41:02,992 - mmdet - INFO - Epoch [9][100/1221]\tlr: 1.000e-03, eta: 0:18:50, time: 0.309, data_time: 0.009, memory: 1502, loss_cls: 0.3712, loss_bbox: 0.2452, loss: 0.6163, grad_norm: 2.0271\n",
      "2024-01-11 14:41:18,410 - mmdet - INFO - Epoch [9][150/1221]\tlr: 1.000e-03, eta: 0:18:40, time: 0.308, data_time: 0.009, memory: 1502, loss_cls: 0.3705, loss_bbox: 0.2422, loss: 0.6128, grad_norm: 1.9912\n",
      "2024-01-11 14:41:33,877 - mmdet - INFO - Epoch [9][200/1221]\tlr: 1.000e-03, eta: 0:18:30, time: 0.309, data_time: 0.009, memory: 1502, loss_cls: 0.3870, loss_bbox: 0.2669, loss: 0.6539, grad_norm: 2.0089\n",
      "2024-01-11 14:41:49,306 - mmdet - INFO - Epoch [9][250/1221]\tlr: 1.000e-03, eta: 0:18:20, time: 0.309, data_time: 0.009, memory: 1502, loss_cls: 0.3479, loss_bbox: 0.2325, loss: 0.5804, grad_norm: 1.9552\n",
      "2024-01-11 14:42:04,725 - mmdet - INFO - Epoch [9][300/1221]\tlr: 1.000e-03, eta: 0:18:09, time: 0.308, data_time: 0.009, memory: 1502, loss_cls: 0.3402, loss_bbox: 0.2390, loss: 0.5792, grad_norm: 1.9190\n",
      "2024-01-11 14:42:20,143 - mmdet - INFO - Epoch [9][350/1221]\tlr: 1.000e-03, eta: 0:17:59, time: 0.308, data_time: 0.009, memory: 1502, loss_cls: 0.3639, loss_bbox: 0.2557, loss: 0.6196, grad_norm: 1.9648\n",
      "2024-01-11 14:42:35,607 - mmdet - INFO - Epoch [9][400/1221]\tlr: 1.000e-03, eta: 0:17:49, time: 0.309, data_time: 0.009, memory: 1502, loss_cls: 0.3659, loss_bbox: 0.2480, loss: 0.6138, grad_norm: 2.0444\n",
      "2024-01-11 14:42:51,111 - mmdet - INFO - Epoch [9][450/1221]\tlr: 1.000e-03, eta: 0:17:38, time: 0.310, data_time: 0.009, memory: 1502, loss_cls: 0.3717, loss_bbox: 0.2920, loss: 0.6637, grad_norm: 1.9831\n",
      "2024-01-11 14:43:06,598 - mmdet - INFO - Epoch [9][500/1221]\tlr: 1.000e-03, eta: 0:17:28, time: 0.310, data_time: 0.009, memory: 1502, loss_cls: 0.3680, loss_bbox: 0.2652, loss: 0.6333, grad_norm: 1.9108\n",
      "2024-01-11 14:43:22,062 - mmdet - INFO - Epoch [9][550/1221]\tlr: 1.000e-03, eta: 0:17:18, time: 0.309, data_time: 0.009, memory: 1502, loss_cls: 0.3415, loss_bbox: 0.2286, loss: 0.5700, grad_norm: 1.9223\n",
      "2024-01-11 14:43:37,515 - mmdet - INFO - Epoch [9][600/1221]\tlr: 1.000e-03, eta: 0:17:07, time: 0.309, data_time: 0.010, memory: 1502, loss_cls: 0.3458, loss_bbox: 0.2442, loss: 0.5901, grad_norm: 2.0809\n",
      "2024-01-11 14:43:52,978 - mmdet - INFO - Epoch [9][650/1221]\tlr: 1.000e-03, eta: 0:16:56, time: 0.309, data_time: 0.009, memory: 1502, loss_cls: 0.3812, loss_bbox: 0.2529, loss: 0.6341, grad_norm: 2.0858\n",
      "2024-01-11 14:44:08,448 - mmdet - INFO - Epoch [9][700/1221]\tlr: 1.000e-03, eta: 0:16:46, time: 0.309, data_time: 0.009, memory: 1502, loss_cls: 0.3631, loss_bbox: 0.2583, loss: 0.6214, grad_norm: 2.1980\n",
      "2024-01-11 14:44:23,893 - mmdet - INFO - Epoch [9][750/1221]\tlr: 1.000e-03, eta: 0:16:35, time: 0.309, data_time: 0.009, memory: 1502, loss_cls: 0.3537, loss_bbox: 0.2439, loss: 0.5976, grad_norm: 2.1620\n",
      "2024-01-11 14:44:39,351 - mmdet - INFO - Epoch [9][800/1221]\tlr: 1.000e-03, eta: 0:16:24, time: 0.309, data_time: 0.009, memory: 1502, loss_cls: 0.3403, loss_bbox: 0.2242, loss: 0.5646, grad_norm: 2.0403\n",
      "2024-01-11 14:44:54,808 - mmdet - INFO - Epoch [9][850/1221]\tlr: 1.000e-03, eta: 0:16:14, time: 0.309, data_time: 0.009, memory: 1502, loss_cls: 0.3570, loss_bbox: 0.2439, loss: 0.6009, grad_norm: 2.0059\n",
      "2024-01-11 14:45:06,266 - mmdet - INFO - Epoch [9][900/1221]\tlr: 1.000e-03, eta: 0:16:01, time: 0.229, data_time: 0.009, memory: 1502, loss_cls: 0.3619, loss_bbox: 0.2308, loss: 0.5927, grad_norm: 2.0216\n",
      "2024-01-11 14:45:21,753 - mmdet - INFO - Epoch [9][950/1221]\tlr: 1.000e-03, eta: 0:15:51, time: 0.310, data_time: 0.009, memory: 1502, loss_cls: 0.3602, loss_bbox: 0.2485, loss: 0.6086, grad_norm: 2.1517\n",
      "2024-01-11 14:45:37,232 - mmdet - INFO - Epoch [9][1000/1221]\tlr: 1.000e-03, eta: 0:15:40, time: 0.310, data_time: 0.010, memory: 1502, loss_cls: 0.3501, loss_bbox: 0.2552, loss: 0.6053, grad_norm: 2.0282\n",
      "2024-01-11 14:45:52,729 - mmdet - INFO - Epoch [9][1050/1221]\tlr: 1.000e-03, eta: 0:15:29, time: 0.310, data_time: 0.009, memory: 1502, loss_cls: 0.3335, loss_bbox: 0.2321, loss: 0.5656, grad_norm: 2.0055\n",
      "2024-01-11 14:46:08,182 - mmdet - INFO - Epoch [9][1100/1221]\tlr: 1.000e-03, eta: 0:15:18, time: 0.309, data_time: 0.009, memory: 1502, loss_cls: 0.3569, loss_bbox: 0.2440, loss: 0.6009, grad_norm: 2.0401\n",
      "2024-01-11 14:46:23,646 - mmdet - INFO - Epoch [9][1150/1221]\tlr: 1.000e-03, eta: 0:15:07, time: 0.309, data_time: 0.009, memory: 1502, loss_cls: 0.3457, loss_bbox: 0.2210, loss: 0.5666, grad_norm: 2.1063\n",
      "2024-01-11 14:46:39,108 - mmdet - INFO - Epoch [9][1200/1221]\tlr: 1.000e-03, eta: 0:14:56, time: 0.309, data_time: 0.009, memory: 1502, loss_cls: 0.3605, loss_bbox: 0.2602, loss: 0.6206, grad_norm: 2.0159\n",
      "2024-01-11 14:46:45,660 - mmdet - INFO - Saving checkpoint at 9 epochs\n",
      "2024-01-11 14:47:05,563 - mmdet - INFO - Epoch [10][50/1221]\tlr: 1.000e-03, eta: 0:14:39, time: 0.356, data_time: 0.055, memory: 1502, loss_cls: 0.3389, loss_bbox: 0.2321, loss: 0.5711, grad_norm: 2.0835\n",
      "2024-01-11 14:47:21,039 - mmdet - INFO - Epoch [10][100/1221]\tlr: 1.000e-03, eta: 0:14:28, time: 0.310, data_time: 0.009, memory: 1502, loss_cls: 0.3690, loss_bbox: 0.2523, loss: 0.6213, grad_norm: 2.2344\n",
      "2024-01-11 14:47:36,505 - mmdet - INFO - Epoch [10][150/1221]\tlr: 1.000e-03, eta: 0:14:16, time: 0.309, data_time: 0.009, memory: 1502, loss_cls: 0.3419, loss_bbox: 0.2424, loss: 0.5843, grad_norm: 2.1264\n",
      "2024-01-11 14:47:51,973 - mmdet - INFO - Epoch [10][200/1221]\tlr: 1.000e-03, eta: 0:14:05, time: 0.309, data_time: 0.009, memory: 1502, loss_cls: 0.3687, loss_bbox: 0.2464, loss: 0.6151, grad_norm: 2.1263\n",
      "2024-01-11 14:48:07,430 - mmdet - INFO - Epoch [10][250/1221]\tlr: 1.000e-03, eta: 0:13:54, time: 0.309, data_time: 0.009, memory: 1502, loss_cls: 0.3475, loss_bbox: 0.2351, loss: 0.5827, grad_norm: 2.2982\n",
      "2024-01-11 14:48:22,884 - mmdet - INFO - Epoch [10][300/1221]\tlr: 1.000e-03, eta: 0:13:43, time: 0.309, data_time: 0.009, memory: 1502, loss_cls: 0.3534, loss_bbox: 0.2384, loss: 0.5918, grad_norm: 2.0481\n",
      "2024-01-11 14:48:38,341 - mmdet - INFO - Epoch [10][350/1221]\tlr: 1.000e-03, eta: 0:13:31, time: 0.309, data_time: 0.009, memory: 1502, loss_cls: 0.3671, loss_bbox: 0.2350, loss: 0.6020, grad_norm: 2.1468\n",
      "2024-01-11 14:48:53,843 - mmdet - INFO - Epoch [10][400/1221]\tlr: 1.000e-03, eta: 0:13:20, time: 0.310, data_time: 0.010, memory: 1502, loss_cls: 0.3694, loss_bbox: 0.2367, loss: 0.6061, grad_norm: 2.1568\n",
      "2024-01-11 14:49:09,327 - mmdet - INFO - Epoch [10][450/1221]\tlr: 1.000e-03, eta: 0:13:09, time: 0.310, data_time: 0.009, memory: 1502, loss_cls: 0.3514, loss_bbox: 0.2469, loss: 0.5983, grad_norm: 2.1200\n",
      "2024-01-11 14:49:24,820 - mmdet - INFO - Epoch [10][500/1221]\tlr: 1.000e-03, eta: 0:12:57, time: 0.310, data_time: 0.009, memory: 1502, loss_cls: 0.3346, loss_bbox: 0.2308, loss: 0.5654, grad_norm: 2.1244\n",
      "2024-01-11 14:49:40,310 - mmdet - INFO - Epoch [10][550/1221]\tlr: 1.000e-03, eta: 0:12:46, time: 0.310, data_time: 0.010, memory: 1502, loss_cls: 0.3394, loss_bbox: 0.2349, loss: 0.5743, grad_norm: 2.0707\n",
      "2024-01-11 14:49:55,782 - mmdet - INFO - Epoch [10][600/1221]\tlr: 1.000e-03, eta: 0:12:34, time: 0.309, data_time: 0.009, memory: 1502, loss_cls: 0.3570, loss_bbox: 0.2486, loss: 0.6055, grad_norm: 2.1042\n",
      "2024-01-11 14:50:11,257 - mmdet - INFO - Epoch [10][650/1221]\tlr: 1.000e-03, eta: 0:12:23, time: 0.309, data_time: 0.009, memory: 1502, loss_cls: 0.3707, loss_bbox: 0.2534, loss: 0.6241, grad_norm: 2.2409\n",
      "2024-01-11 14:50:26,722 - mmdet - INFO - Epoch [10][700/1221]\tlr: 1.000e-03, eta: 0:12:11, time: 0.309, data_time: 0.009, memory: 1502, loss_cls: 0.3340, loss_bbox: 0.2266, loss: 0.5606, grad_norm: 2.1159\n",
      "2024-01-11 14:50:42,182 - mmdet - INFO - Epoch [10][750/1221]\tlr: 1.000e-03, eta: 0:12:00, time: 0.309, data_time: 0.010, memory: 1502, loss_cls: 0.3530, loss_bbox: 0.2396, loss: 0.5925, grad_norm: 2.2200\n",
      "2024-01-11 14:50:57,664 - mmdet - INFO - Epoch [10][800/1221]\tlr: 1.000e-03, eta: 0:11:48, time: 0.310, data_time: 0.009, memory: 1502, loss_cls: 0.3473, loss_bbox: 0.2375, loss: 0.5849, grad_norm: 2.1719\n",
      "2024-01-11 14:51:13,119 - mmdet - INFO - Epoch [10][850/1221]\tlr: 1.000e-03, eta: 0:11:37, time: 0.309, data_time: 0.010, memory: 1502, loss_cls: 0.3499, loss_bbox: 0.2448, loss: 0.5947, grad_norm: 2.0554\n",
      "2024-01-11 14:51:24,401 - mmdet - INFO - Epoch [10][900/1221]\tlr: 1.000e-03, eta: 0:11:24, time: 0.226, data_time: 0.009, memory: 1502, loss_cls: 0.3508, loss_bbox: 0.2385, loss: 0.5892, grad_norm: 2.1295\n",
      "2024-01-11 14:51:39,787 - mmdet - INFO - Epoch [10][950/1221]\tlr: 1.000e-03, eta: 0:11:12, time: 0.308, data_time: 0.009, memory: 1502, loss_cls: 0.3338, loss_bbox: 0.2255, loss: 0.5593, grad_norm: 2.1104\n",
      "2024-01-11 14:51:55,236 - mmdet - INFO - Epoch [10][1000/1221]\tlr: 1.000e-03, eta: 0:11:00, time: 0.309, data_time: 0.010, memory: 1502, loss_cls: 0.3453, loss_bbox: 0.2314, loss: 0.5766, grad_norm: 2.1800\n",
      "2024-01-11 14:52:10,693 - mmdet - INFO - Epoch [10][1050/1221]\tlr: 1.000e-03, eta: 0:10:49, time: 0.309, data_time: 0.010, memory: 1502, loss_cls: 0.3452, loss_bbox: 0.2501, loss: 0.5953, grad_norm: 2.0517\n",
      "2024-01-11 14:52:26,169 - mmdet - INFO - Epoch [10][1100/1221]\tlr: 1.000e-03, eta: 0:10:37, time: 0.310, data_time: 0.009, memory: 1502, loss_cls: 0.3518, loss_bbox: 0.2518, loss: 0.6036, grad_norm: 2.2179\n",
      "2024-01-11 14:52:41,611 - mmdet - INFO - Epoch [10][1150/1221]\tlr: 1.000e-03, eta: 0:10:25, time: 0.309, data_time: 0.010, memory: 1502, loss_cls: 0.3330, loss_bbox: 0.2242, loss: 0.5573, grad_norm: 2.2970\n",
      "2024-01-11 14:52:57,061 - mmdet - INFO - Epoch [10][1200/1221]\tlr: 1.000e-03, eta: 0:10:13, time: 0.309, data_time: 0.010, memory: 1502, loss_cls: 0.3274, loss_bbox: 0.2363, loss: 0.5638, grad_norm: 2.1944\n",
      "2024-01-11 14:53:03,593 - mmdet - INFO - Saving checkpoint at 10 epochs\n",
      "2024-01-11 14:53:24,170 - mmdet - INFO - Epoch [11][50/1221]\tlr: 1.000e-03, eta: 0:09:56, time: 0.357, data_time: 0.056, memory: 1502, loss_cls: 0.3306, loss_bbox: 0.2267, loss: 0.5573, grad_norm: 2.1708\n",
      "2024-01-11 14:53:39,640 - mmdet - INFO - Epoch [11][100/1221]\tlr: 1.000e-03, eta: 0:09:44, time: 0.309, data_time: 0.010, memory: 1502, loss_cls: 0.3511, loss_bbox: 0.2420, loss: 0.5931, grad_norm: 2.1709\n",
      "2024-01-11 14:53:55,140 - mmdet - INFO - Epoch [11][150/1221]\tlr: 1.000e-03, eta: 0:09:32, time: 0.310, data_time: 0.009, memory: 1502, loss_cls: 0.3455, loss_bbox: 0.2457, loss: 0.5912, grad_norm: 2.2661\n",
      "2024-01-11 14:54:10,632 - mmdet - INFO - Epoch [11][200/1221]\tlr: 1.000e-03, eta: 0:09:20, time: 0.310, data_time: 0.009, memory: 1502, loss_cls: 0.3523, loss_bbox: 0.2492, loss: 0.6015, grad_norm: 2.2133\n",
      "2024-01-11 14:54:26,095 - mmdet - INFO - Epoch [11][250/1221]\tlr: 1.000e-03, eta: 0:09:08, time: 0.309, data_time: 0.009, memory: 1502, loss_cls: 0.3449, loss_bbox: 0.2348, loss: 0.5797, grad_norm: 2.2534\n",
      "2024-01-11 14:54:41,538 - mmdet - INFO - Epoch [11][300/1221]\tlr: 1.000e-03, eta: 0:08:56, time: 0.309, data_time: 0.009, memory: 1502, loss_cls: 0.3371, loss_bbox: 0.2309, loss: 0.5680, grad_norm: 2.1770\n",
      "2024-01-11 14:54:57,012 - mmdet - INFO - Epoch [11][350/1221]\tlr: 1.000e-03, eta: 0:08:44, time: 0.309, data_time: 0.009, memory: 1502, loss_cls: 0.3370, loss_bbox: 0.2282, loss: 0.5652, grad_norm: 2.1608\n",
      "2024-01-11 14:55:12,463 - mmdet - INFO - Epoch [11][400/1221]\tlr: 1.000e-03, eta: 0:08:32, time: 0.309, data_time: 0.010, memory: 1502, loss_cls: 0.3361, loss_bbox: 0.2272, loss: 0.5634, grad_norm: 2.2983\n",
      "2024-01-11 14:55:27,928 - mmdet - INFO - Epoch [11][450/1221]\tlr: 1.000e-03, eta: 0:08:20, time: 0.309, data_time: 0.009, memory: 1502, loss_cls: 0.3138, loss_bbox: 0.2216, loss: 0.5353, grad_norm: 2.1805\n",
      "2024-01-11 14:55:43,362 - mmdet - INFO - Epoch [11][500/1221]\tlr: 1.000e-03, eta: 0:08:08, time: 0.309, data_time: 0.009, memory: 1502, loss_cls: 0.3395, loss_bbox: 0.2262, loss: 0.5657, grad_norm: 2.3081\n",
      "2024-01-11 14:55:58,805 - mmdet - INFO - Epoch [11][550/1221]\tlr: 1.000e-03, eta: 0:07:55, time: 0.309, data_time: 0.010, memory: 1502, loss_cls: 0.3503, loss_bbox: 0.2246, loss: 0.5749, grad_norm: 2.3396\n",
      "2024-01-11 14:56:14,283 - mmdet - INFO - Epoch [11][600/1221]\tlr: 1.000e-03, eta: 0:07:43, time: 0.310, data_time: 0.009, memory: 1502, loss_cls: 0.3405, loss_bbox: 0.2221, loss: 0.5625, grad_norm: 2.1735\n",
      "2024-01-11 14:56:29,768 - mmdet - INFO - Epoch [11][650/1221]\tlr: 1.000e-03, eta: 0:07:31, time: 0.310, data_time: 0.009, memory: 1502, loss_cls: 0.3215, loss_bbox: 0.2194, loss: 0.5409, grad_norm: 2.2184\n",
      "2024-01-11 14:56:45,254 - mmdet - INFO - Epoch [11][700/1221]\tlr: 1.000e-03, eta: 0:07:19, time: 0.310, data_time: 0.010, memory: 1502, loss_cls: 0.3260, loss_bbox: 0.2070, loss: 0.5330, grad_norm: 2.2472\n",
      "2024-01-11 14:57:00,741 - mmdet - INFO - Epoch [11][750/1221]\tlr: 1.000e-03, eta: 0:07:07, time: 0.310, data_time: 0.010, memory: 1502, loss_cls: 0.3324, loss_bbox: 0.2341, loss: 0.5665, grad_norm: 2.1866\n",
      "2024-01-11 14:57:16,242 - mmdet - INFO - Epoch [11][800/1221]\tlr: 1.000e-03, eta: 0:06:54, time: 0.310, data_time: 0.009, memory: 1502, loss_cls: 0.3395, loss_bbox: 0.2351, loss: 0.5746, grad_norm: 2.2160\n",
      "2024-01-11 14:57:31,745 - mmdet - INFO - Epoch [11][850/1221]\tlr: 1.000e-03, eta: 0:06:42, time: 0.310, data_time: 0.010, memory: 1502, loss_cls: 0.3512, loss_bbox: 0.2464, loss: 0.5977, grad_norm: 2.3404\n",
      "2024-01-11 14:57:43,517 - mmdet - INFO - Epoch [11][900/1221]\tlr: 1.000e-03, eta: 0:06:29, time: 0.235, data_time: 0.010, memory: 1502, loss_cls: 0.3439, loss_bbox: 0.2428, loss: 0.5866, grad_norm: 2.2302\n",
      "2024-01-11 14:57:59,424 - mmdet - INFO - Epoch [11][950/1221]\tlr: 1.000e-03, eta: 0:06:17, time: 0.318, data_time: 0.010, memory: 1502, loss_cls: 0.3408, loss_bbox: 0.2472, loss: 0.5880, grad_norm: 2.0809\n",
      "2024-01-11 14:58:14,876 - mmdet - INFO - Epoch [11][1000/1221]\tlr: 1.000e-03, eta: 0:06:05, time: 0.309, data_time: 0.009, memory: 1502, loss_cls: 0.3498, loss_bbox: 0.2309, loss: 0.5807, grad_norm: 2.1965\n",
      "2024-01-11 14:58:30,346 - mmdet - INFO - Epoch [11][1050/1221]\tlr: 1.000e-03, eta: 0:05:52, time: 0.309, data_time: 0.009, memory: 1502, loss_cls: 0.3470, loss_bbox: 0.2420, loss: 0.5890, grad_norm: 2.3186\n",
      "2024-01-11 14:58:45,831 - mmdet - INFO - Epoch [11][1100/1221]\tlr: 1.000e-03, eta: 0:05:40, time: 0.310, data_time: 0.009, memory: 1502, loss_cls: 0.3511, loss_bbox: 0.2486, loss: 0.5997, grad_norm: 2.2560\n",
      "2024-01-11 14:59:01,319 - mmdet - INFO - Epoch [11][1150/1221]\tlr: 1.000e-03, eta: 0:05:28, time: 0.310, data_time: 0.009, memory: 1502, loss_cls: 0.3394, loss_bbox: 0.2325, loss: 0.5719, grad_norm: 2.2353\n",
      "2024-01-11 14:59:16,770 - mmdet - INFO - Epoch [11][1200/1221]\tlr: 1.000e-03, eta: 0:05:15, time: 0.309, data_time: 0.009, memory: 1502, loss_cls: 0.3501, loss_bbox: 0.2386, loss: 0.5887, grad_norm: 2.1836\n",
      "2024-01-11 14:59:23,316 - mmdet - INFO - Saving checkpoint at 11 epochs\n",
      "2024-01-11 14:59:43,617 - mmdet - INFO - Epoch [12][50/1221]\tlr: 1.000e-04, eta: 0:04:57, time: 0.355, data_time: 0.055, memory: 1502, loss_cls: 0.3526, loss_bbox: 0.2458, loss: 0.5984, grad_norm: 2.1687\n",
      "2024-01-11 14:59:59,086 - mmdet - INFO - Epoch [12][100/1221]\tlr: 1.000e-04, eta: 0:04:45, time: 0.309, data_time: 0.009, memory: 1502, loss_cls: 0.3590, loss_bbox: 0.2391, loss: 0.5981, grad_norm: 2.1150\n",
      "2024-01-11 15:00:14,543 - mmdet - INFO - Epoch [12][150/1221]\tlr: 1.000e-04, eta: 0:04:32, time: 0.309, data_time: 0.009, memory: 1502, loss_cls: 0.3245, loss_bbox: 0.2242, loss: 0.5487, grad_norm: 2.1039\n",
      "2024-01-11 15:00:30,039 - mmdet - INFO - Epoch [12][200/1221]\tlr: 1.000e-04, eta: 0:04:20, time: 0.310, data_time: 0.009, memory: 1502, loss_cls: 0.3263, loss_bbox: 0.2194, loss: 0.5457, grad_norm: 2.0936\n",
      "2024-01-11 15:00:45,542 - mmdet - INFO - Epoch [12][250/1221]\tlr: 1.000e-04, eta: 0:04:07, time: 0.310, data_time: 0.010, memory: 1502, loss_cls: 0.3359, loss_bbox: 0.2247, loss: 0.5606, grad_norm: 2.1124\n",
      "2024-01-11 15:01:01,028 - mmdet - INFO - Epoch [12][300/1221]\tlr: 1.000e-04, eta: 0:03:54, time: 0.310, data_time: 0.009, memory: 1502, loss_cls: 0.3326, loss_bbox: 0.2355, loss: 0.5681, grad_norm: 2.2153\n",
      "2024-01-11 15:01:16,529 - mmdet - INFO - Epoch [12][350/1221]\tlr: 1.000e-04, eta: 0:03:42, time: 0.310, data_time: 0.009, memory: 1502, loss_cls: 0.3361, loss_bbox: 0.2335, loss: 0.5696, grad_norm: 2.0577\n",
      "2024-01-11 15:01:32,017 - mmdet - INFO - Epoch [12][400/1221]\tlr: 1.000e-04, eta: 0:03:29, time: 0.310, data_time: 0.010, memory: 1502, loss_cls: 0.3369, loss_bbox: 0.2216, loss: 0.5585, grad_norm: 2.1226\n",
      "2024-01-11 15:01:47,525 - mmdet - INFO - Epoch [12][450/1221]\tlr: 1.000e-04, eta: 0:03:17, time: 0.310, data_time: 0.009, memory: 1502, loss_cls: 0.3294, loss_bbox: 0.2215, loss: 0.5509, grad_norm: 2.1623\n",
      "2024-01-11 15:02:03,022 - mmdet - INFO - Epoch [12][500/1221]\tlr: 1.000e-04, eta: 0:03:04, time: 0.310, data_time: 0.009, memory: 1502, loss_cls: 0.3272, loss_bbox: 0.2277, loss: 0.5550, grad_norm: 2.1129\n",
      "2024-01-11 15:02:18,505 - mmdet - INFO - Epoch [12][550/1221]\tlr: 1.000e-04, eta: 0:02:51, time: 0.310, data_time: 0.009, memory: 1502, loss_cls: 0.3214, loss_bbox: 0.2110, loss: 0.5324, grad_norm: 2.2251\n",
      "2024-01-11 15:02:33,977 - mmdet - INFO - Epoch [12][600/1221]\tlr: 1.000e-04, eta: 0:02:39, time: 0.309, data_time: 0.010, memory: 1502, loss_cls: 0.3186, loss_bbox: 0.2267, loss: 0.5452, grad_norm: 2.2819\n",
      "2024-01-11 15:02:49,427 - mmdet - INFO - Epoch [12][650/1221]\tlr: 1.000e-04, eta: 0:02:26, time: 0.309, data_time: 0.009, memory: 1502, loss_cls: 0.3210, loss_bbox: 0.2164, loss: 0.5375, grad_norm: 2.1478\n",
      "2024-01-11 15:03:04,906 - mmdet - INFO - Epoch [12][700/1221]\tlr: 1.000e-04, eta: 0:02:13, time: 0.310, data_time: 0.010, memory: 1502, loss_cls: 0.3253, loss_bbox: 0.2329, loss: 0.5582, grad_norm: 2.1287\n",
      "2024-01-11 15:03:20,348 - mmdet - INFO - Epoch [12][750/1221]\tlr: 1.000e-04, eta: 0:02:00, time: 0.309, data_time: 0.010, memory: 1502, loss_cls: 0.3365, loss_bbox: 0.2255, loss: 0.5620, grad_norm: 2.3188\n",
      "2024-01-11 15:03:35,813 - mmdet - INFO - Epoch [12][800/1221]\tlr: 1.000e-04, eta: 0:01:48, time: 0.309, data_time: 0.010, memory: 1502, loss_cls: 0.3218, loss_bbox: 0.1949, loss: 0.5167, grad_norm: 2.2666\n",
      "2024-01-11 15:03:51,256 - mmdet - INFO - Epoch [12][850/1221]\tlr: 1.000e-04, eta: 0:01:35, time: 0.309, data_time: 0.010, memory: 1502, loss_cls: 0.3198, loss_bbox: 0.2181, loss: 0.5378, grad_norm: 2.1952\n",
      "2024-01-11 15:04:02,778 - mmdet - INFO - Epoch [12][900/1221]\tlr: 1.000e-04, eta: 0:01:22, time: 0.230, data_time: 0.010, memory: 1502, loss_cls: 0.3305, loss_bbox: 0.2413, loss: 0.5718, grad_norm: 2.1423\n",
      "2024-01-11 15:04:18,261 - mmdet - INFO - Epoch [12][950/1221]\tlr: 1.000e-04, eta: 0:01:09, time: 0.310, data_time: 0.009, memory: 1502, loss_cls: 0.3351, loss_bbox: 0.2171, loss: 0.5522, grad_norm: 2.1362\n",
      "2024-01-11 15:04:33,707 - mmdet - INFO - Epoch [12][1000/1221]\tlr: 1.000e-04, eta: 0:00:56, time: 0.309, data_time: 0.009, memory: 1502, loss_cls: 0.3339, loss_bbox: 0.2328, loss: 0.5667, grad_norm: 2.1851\n",
      "2024-01-11 15:04:49,178 - mmdet - INFO - Epoch [12][1050/1221]\tlr: 1.000e-04, eta: 0:00:44, time: 0.309, data_time: 0.009, memory: 1502, loss_cls: 0.3135, loss_bbox: 0.2329, loss: 0.5464, grad_norm: 2.2561\n",
      "2024-01-11 15:05:04,717 - mmdet - INFO - Epoch [12][1100/1221]\tlr: 1.000e-04, eta: 0:00:31, time: 0.311, data_time: 0.009, memory: 1502, loss_cls: 0.3286, loss_bbox: 0.2230, loss: 0.5516, grad_norm: 2.1481\n",
      "2024-01-11 15:05:20,204 - mmdet - INFO - Epoch [12][1150/1221]\tlr: 1.000e-04, eta: 0:00:18, time: 0.310, data_time: 0.009, memory: 1502, loss_cls: 0.3185, loss_bbox: 0.2304, loss: 0.5488, grad_norm: 2.1918\n",
      "2024-01-11 15:05:35,687 - mmdet - INFO - Epoch [12][1200/1221]\tlr: 1.000e-04, eta: 0:00:05, time: 0.310, data_time: 0.009, memory: 1502, loss_cls: 0.3496, loss_bbox: 0.2509, loss: 0.6005, grad_norm: 2.0336\n",
      "2024-01-11 15:05:42,239 - mmdet - INFO - Saving checkpoint at 12 epochs\n",
      "wandb: WARNING Source type is set to 'repo' but some required information is missing from the environment. A job will not be created from this run. See https://docs.wandb.ai/guides/launch/create-job\n"
     ]
    },
    {
     "data": {
      "text/html": [
       "<style>\n",
       "    table.wandb td:nth-child(1) { padding: 0 10px; text-align: left ; width: auto;} td:nth-child(2) {text-align: left ; width: 100%}\n",
       "    .wandb-row { display: flex; flex-direction: row; flex-wrap: wrap; justify-content: flex-start; width: 100% }\n",
       "    .wandb-col { display: flex; flex-direction: column; flex-basis: 100%; flex: 1; padding: 10px; }\n",
       "    </style>\n",
       "<div class=\"wandb-row\"><div class=\"wandb-col\"><h3>Run history:</h3><br/><table class=\"wandb\"><tr><td>learning_rate</td><td>▃██████████████████████████▂▂▂▂▂▂▂▂▂▁▁▁▁</td></tr><tr><td>momentum</td><td>▁▁▁▁▁▁▁▁▁▁▁▁▁▁▁▁▁▁▁▁▁▁▁▁▁▁▁▁▁▁▁▁▁▁▁▁▁▁▁▁</td></tr><tr><td>train/grad_norm</td><td>▄▁▅▆▇▇▇▇▇▇▇▆▇▆▆▆▇█▇█▇█▇█▇▇▇▇▆▆█▇▆▇█▆▆▆▆▇</td></tr><tr><td>train/loss</td><td>██▆▅▄▄▄▄▄▃▃▄▃▃▃▂▂▃▃▃▂▂▂▂▂▂▂▂▂▂▁▁▂▂▁▁▂▁▁▁</td></tr><tr><td>train/loss_bbox</td><td>███▇▅▄▄▄▄▄▄▄▃▄▃▃▃▃▃▃▃▂▂▂▃▃▂▂▂▂▂▁▂▂▂▂▂▂▂▁</td></tr><tr><td>train/loss_cls</td><td>██▅▅▄▃▃▃▄▃▃▃▂▃▂▂▂▃▂▂▂▂▂▂▂▂▂▂▂▂▁▁▁▁▁▁▁▁▁▁</td></tr></table><br/></div><div class=\"wandb-col\"><h3>Run summary:</h3><br/><table class=\"wandb\"><tr><td>learning_rate</td><td>0.0001</td></tr><tr><td>momentum</td><td>0.9</td></tr><tr><td>train/grad_norm</td><td>2.31708</td></tr><tr><td>train/loss</td><td>0.57263</td></tr><tr><td>train/loss_bbox</td><td>0.22395</td></tr><tr><td>train/loss_cls</td><td>0.34869</td></tr></table><br/></div></div>"
      ],
      "text/plain": [
       "<IPython.core.display.HTML object>"
      ]
     },
     "metadata": {},
     "output_type": "display_data"
    },
    {
     "data": {
      "text/html": [
       " View run <strong style=\"color:#cdcd00\">young-flower-1</strong> at: <a href='https://wandb.ai/level2-cv-10-detection/MMDetection-tutorial/runs/17ppnddv' target=\"_blank\">https://wandb.ai/level2-cv-10-detection/MMDetection-tutorial/runs/17ppnddv</a><br/>Synced 6 W&B file(s), 0 media file(s), 12 artifact file(s) and 0 other file(s)"
      ],
      "text/plain": [
       "<IPython.core.display.HTML object>"
      ]
     },
     "metadata": {},
     "output_type": "display_data"
    },
    {
     "data": {
      "text/html": [
       "Find logs at: <code>./wandb/run-20240111_140036-17ppnddv/logs</code>"
      ],
      "text/plain": [
       "<IPython.core.display.HTML object>"
      ]
     },
     "metadata": {},
     "output_type": "display_data"
    }
   ],
   "source": [
    "# 모델 학습\n",
    "train_detector(model, datasets[0], cfg, distributed=False, validate=False)\n",
    "wandb.finish()"
   ]
  },
  {
   "cell_type": "code",
   "execution_count": null,
   "metadata": {},
   "outputs": [],
   "source": []
  }
 ],
 "metadata": {
  "interpreter": {
   "hash": "980dec4bdc0f65d3f181e5891661df87e8769cde5e79cd54bc145a7f830b2685"
  },
  "kernelspec": {
   "display_name": "Python 3 (ipykernel)",
   "language": "python",
   "name": "python3"
  },
  "language_info": {
   "codemirror_mode": {
    "name": "ipython",
    "version": 3
   },
   "file_extension": ".py",
   "mimetype": "text/x-python",
   "name": "python",
   "nbconvert_exporter": "python",
   "pygments_lexer": "ipython3",
   "version": "3.10.13"
  }
 },
 "nbformat": 4,
 "nbformat_minor": 4
}
