{
 "cells": [
  {
   "cell_type": "code",
   "execution_count": 1,
   "metadata": {},
   "outputs": [
    {
     "name": "stderr",
     "output_type": "stream",
     "text": [
      "/opt/conda/lib/python3.10/site-packages/tqdm/auto.py:21: TqdmWarning: IProgress not found. Please update jupyter and ipywidgets. See https://ipywidgets.readthedocs.io/en/stable/user_install.html\n",
      "  from .autonotebook import tqdm as notebook_tqdm\n"
     ]
    }
   ],
   "source": [
    "# 모듈 import\n",
    "\n",
    "from mmcv import Config\n",
    "from mmdet.datasets import build_dataset\n",
    "from mmdet.models import build_detector\n",
    "from mmdet.apis import train_detector\n",
    "from mmdet.datasets import (build_dataloader, build_dataset,\n",
    "                            replace_ImageToTensor)\n",
    "from mmdet.utils import get_device"
   ]
  },
  {
   "cell_type": "code",
   "execution_count": 2,
   "metadata": {},
   "outputs": [],
   "source": [
    "classes = (\"General trash\", \"Paper\", \"Paper pack\", \"Metal\", \"Glass\", \n",
    "           \"Plastic\", \"Styrofoam\", \"Plastic bag\", \"Battery\", \"Clothing\")\n",
    "\n",
    "# config file 들고오기\n",
    "# model_dir = 'yolox'\n",
    "# model_name = 'yolox_x_8x8_300e'\n",
    "# cfg = Config.fromfile('./configs/faster_rcnn/faster_rcnn_r50_fpn_1x_coco.py')\n",
    "# cfg = Config.fromfile('./configs/cascade_rcnn/cascade_rcnn_r50_fpn_1x_coco.py')\n",
    "# cfg = Config.fromfile('./configs/faster_rcnn/yolox_x_8x8_300e_coco.py')\n",
    "# cfg = Config.fromfile('./configs/'+model_dir+'/'+model_name+'_coco.py')"
   ]
  },
  {
   "cell_type": "code",
   "execution_count": 3,
   "metadata": {},
   "outputs": [],
   "source": [
    "cfg = Config.fromfile('./configs/efficientnet/retinanet_effb3_fpn_crop896_8x4_1x_coco.py')"
   ]
  },
  {
   "cell_type": "code",
   "execution_count": 4,
   "metadata": {},
   "outputs": [],
   "source": [
    "root='../../../dataset/'\n",
    "\n",
    "# dataset config 수정\n",
    "cfg.data.train.classes = classes\n",
    "cfg.data.train.img_prefix = root\n",
    "cfg.model.bbox_head.num_classes=10"
   ]
  },
  {
   "cell_type": "code",
   "execution_count": 5,
   "metadata": {},
   "outputs": [],
   "source": [
    "cfg.data.train.ann_file = root + 'train.json' # train json 정보\n",
    "# cfg.data.train.pipeline[2]['img_scale'] = (512,512) # Resize\n",
    "\n",
    "cfg.data.test.classes = classes\n",
    "cfg.data.test.img_prefix = root\n",
    "cfg.data.test.ann_file = root + 'test.json' # test json 정보\n",
    "# cfg.data.test.pipeline[1]['img_scale'] = (512,512) # Resize\n",
    "\n",
    "cfg.data.samples_per_gpu = 4\n",
    "\n",
    "cfg.seed = 2022\n",
    "cfg.gpu_ids = [0]\n",
    "cfg.work_dir = './work_dirs/retinanet_effb3_fpn_crop896_8x4_1x_trash_1'\n",
    "# cfg.work_dir = './work_dirs/'+model_name+'_trash'\n",
    "# cfg.model.roi_head.bbox_head.nu\n",
    "\n",
    "# cfg.model.roi_head.bbox_head[0].num_classes = 10\n",
    "# cfg.model.roi_head.bbox_head[1].num_classes = 10\n",
    "# cfg.model.roi_head.bbox_head[2].num_classes = 10\n",
    "# cfg.model.roi_head.mask_head.num_classes=10\n",
    "\n",
    "cfg.optimizer_config.grad_clip = dict(max_norm=35, norm_type=2)\n",
    "cfg.checkpoint_config = dict(max_keep_ckpts=3, interval=1)\n",
    "cfg.device = get_device()"
   ]
  },
  {
   "cell_type": "code",
   "execution_count": 6,
   "metadata": {},
   "outputs": [],
   "source": [
    "# cfg.model.bbox_head.loss_cls.type='cross_entropy_loss'\n",
    "cfg.model.bbox_head.loss_bbox.type = 'smooth_l1_loss'"
   ]
  },
  {
   "cell_type": "code",
   "execution_count": 7,
   "metadata": {},
   "outputs": [
    {
     "name": "stdout",
     "output_type": "stream",
     "text": [
      "loading annotations into memory...\n",
      "Done (t=0.12s)\n",
      "creating index...\n",
      "index created!\n"
     ]
    }
   ],
   "source": [
    "# build_dataset\n",
    "datasets = [build_dataset(cfg.data.train)]"
   ]
  },
  {
   "cell_type": "code",
   "execution_count": 8,
   "metadata": {},
   "outputs": [
    {
     "data": {
      "text/plain": [
       "\n",
       "CocoDataset Train dataset with number of images 4883, and instance counts: \n",
       "+-------------------+-------+---------------+-------+-----------------+-------+-------------+-------+--------------+-------+\n",
       "| category          | count | category      | count | category        | count | category    | count | category     | count |\n",
       "+-------------------+-------+---------------+-------+-----------------+-------+-------------+-------+--------------+-------+\n",
       "| 0 [General trash] | 3965  | 1 [Paper]     | 6352  | 2 [Paper pack]  | 897   | 3 [Metal]   | 936   | 4 [Glass]    | 982   |\n",
       "| 5 [Plastic]       | 2943  | 6 [Styrofoam] | 1263  | 7 [Plastic bag] | 5178  | 8 [Battery] | 159   | 9 [Clothing] | 468   |\n",
       "+-------------------+-------+---------------+-------+-----------------+-------+-------------+-------+--------------+-------+"
      ]
     },
     "execution_count": 8,
     "metadata": {},
     "output_type": "execute_result"
    }
   ],
   "source": [
    "# dataset 확인\n",
    "datasets[0]"
   ]
  },
  {
   "cell_type": "code",
   "execution_count": 9,
   "metadata": {},
   "outputs": [
    {
     "ename": "KeyError",
     "evalue": "'RetinaNet: \"RetinaSepBNHead: \\'smooth_l1_loss is not in the models registry\\'\"'",
     "output_type": "error",
     "traceback": [
      "\u001b[0;31m---------------------------------------------------------------------------\u001b[0m",
      "\u001b[0;31mKeyError\u001b[0m                                  Traceback (most recent call last)",
      "File \u001b[0;32m/opt/conda/lib/python3.10/site-packages/mmcv/utils/registry.py:69\u001b[0m, in \u001b[0;36mbuild_from_cfg\u001b[0;34m(cfg, registry, default_args)\u001b[0m\n\u001b[1;32m     68\u001b[0m \u001b[38;5;28;01mtry\u001b[39;00m:\n\u001b[0;32m---> 69\u001b[0m     \u001b[38;5;28;01mreturn\u001b[39;00m \u001b[43mobj_cls\u001b[49m\u001b[43m(\u001b[49m\u001b[38;5;241;43m*\u001b[39;49m\u001b[38;5;241;43m*\u001b[39;49m\u001b[43margs\u001b[49m\u001b[43m)\u001b[49m\n\u001b[1;32m     70\u001b[0m \u001b[38;5;28;01mexcept\u001b[39;00m \u001b[38;5;167;01mException\u001b[39;00m \u001b[38;5;28;01mas\u001b[39;00m e:\n\u001b[1;32m     71\u001b[0m     \u001b[38;5;66;03m# Normal TypeError does not print class name.\u001b[39;00m\n",
      "File \u001b[0;32m~/level2-objectdetection-cv-10/develop/StringZero/mmdetection/mmdet/models/dense_heads/retina_sepbn_head.py:33\u001b[0m, in \u001b[0;36mRetinaSepBNHead.__init__\u001b[0;34m(self, num_classes, num_ins, in_channels, stacked_convs, conv_cfg, norm_cfg, init_cfg, **kwargs)\u001b[0m\n\u001b[1;32m     32\u001b[0m \u001b[38;5;28mself\u001b[39m\u001b[38;5;241m.\u001b[39mnum_ins \u001b[38;5;241m=\u001b[39m num_ins\n\u001b[0;32m---> 33\u001b[0m \u001b[38;5;28;43msuper\u001b[39;49m\u001b[43m(\u001b[49m\u001b[43mRetinaSepBNHead\u001b[49m\u001b[43m,\u001b[49m\u001b[43m \u001b[49m\u001b[38;5;28;43mself\u001b[39;49m\u001b[43m)\u001b[49m\u001b[38;5;241;43m.\u001b[39;49m\u001b[38;5;21;43m__init__\u001b[39;49m\u001b[43m(\u001b[49m\n\u001b[1;32m     34\u001b[0m \u001b[43m    \u001b[49m\u001b[43mnum_classes\u001b[49m\u001b[43m,\u001b[49m\u001b[43m \u001b[49m\u001b[43min_channels\u001b[49m\u001b[43m,\u001b[49m\u001b[43m \u001b[49m\u001b[43minit_cfg\u001b[49m\u001b[38;5;241;43m=\u001b[39;49m\u001b[43minit_cfg\u001b[49m\u001b[43m,\u001b[49m\u001b[43m \u001b[49m\u001b[38;5;241;43m*\u001b[39;49m\u001b[38;5;241;43m*\u001b[39;49m\u001b[43mkwargs\u001b[49m\u001b[43m)\u001b[49m\n",
      "File \u001b[0;32m~/level2-objectdetection-cv-10/develop/StringZero/mmdetection/mmdet/models/dense_heads/anchor_head.py:79\u001b[0m, in \u001b[0;36mAnchorHead.__init__\u001b[0;34m(self, num_classes, in_channels, feat_channels, anchor_generator, bbox_coder, reg_decoded_bbox, loss_cls, loss_bbox, train_cfg, test_cfg, init_cfg)\u001b[0m\n\u001b[1;32m     78\u001b[0m \u001b[38;5;28mself\u001b[39m\u001b[38;5;241m.\u001b[39mloss_cls \u001b[38;5;241m=\u001b[39m build_loss(loss_cls)\n\u001b[0;32m---> 79\u001b[0m \u001b[38;5;28mself\u001b[39m\u001b[38;5;241m.\u001b[39mloss_bbox \u001b[38;5;241m=\u001b[39m \u001b[43mbuild_loss\u001b[49m\u001b[43m(\u001b[49m\u001b[43mloss_bbox\u001b[49m\u001b[43m)\u001b[49m\n\u001b[1;32m     80\u001b[0m \u001b[38;5;28mself\u001b[39m\u001b[38;5;241m.\u001b[39mtrain_cfg \u001b[38;5;241m=\u001b[39m train_cfg\n",
      "File \u001b[0;32m~/level2-objectdetection-cv-10/develop/StringZero/mmdetection/mmdet/models/builder.py:45\u001b[0m, in \u001b[0;36mbuild_loss\u001b[0;34m(cfg)\u001b[0m\n\u001b[1;32m     44\u001b[0m \u001b[38;5;250m\u001b[39m\u001b[38;5;124;03m\"\"\"Build loss.\"\"\"\u001b[39;00m\n\u001b[0;32m---> 45\u001b[0m \u001b[38;5;28;01mreturn\u001b[39;00m \u001b[43mLOSSES\u001b[49m\u001b[38;5;241;43m.\u001b[39;49m\u001b[43mbuild\u001b[49m\u001b[43m(\u001b[49m\u001b[43mcfg\u001b[49m\u001b[43m)\u001b[49m\n",
      "File \u001b[0;32m/opt/conda/lib/python3.10/site-packages/mmcv/utils/registry.py:237\u001b[0m, in \u001b[0;36mRegistry.build\u001b[0;34m(self, *args, **kwargs)\u001b[0m\n\u001b[1;32m    236\u001b[0m \u001b[38;5;28;01mdef\u001b[39;00m \u001b[38;5;21mbuild\u001b[39m(\u001b[38;5;28mself\u001b[39m, \u001b[38;5;241m*\u001b[39margs, \u001b[38;5;241m*\u001b[39m\u001b[38;5;241m*\u001b[39mkwargs):\n\u001b[0;32m--> 237\u001b[0m     \u001b[38;5;28;01mreturn\u001b[39;00m \u001b[38;5;28;43mself\u001b[39;49m\u001b[38;5;241;43m.\u001b[39;49m\u001b[43mbuild_func\u001b[49m\u001b[43m(\u001b[49m\u001b[38;5;241;43m*\u001b[39;49m\u001b[43margs\u001b[49m\u001b[43m,\u001b[49m\u001b[43m \u001b[49m\u001b[38;5;241;43m*\u001b[39;49m\u001b[38;5;241;43m*\u001b[39;49m\u001b[43mkwargs\u001b[49m\u001b[43m,\u001b[49m\u001b[43m \u001b[49m\u001b[43mregistry\u001b[49m\u001b[38;5;241;43m=\u001b[39;49m\u001b[38;5;28;43mself\u001b[39;49m\u001b[43m)\u001b[49m\n",
      "File \u001b[0;32m/opt/conda/lib/python3.10/site-packages/mmcv/cnn/builder.py:27\u001b[0m, in \u001b[0;36mbuild_model_from_cfg\u001b[0;34m(cfg, registry, default_args)\u001b[0m\n\u001b[1;32m     26\u001b[0m \u001b[38;5;28;01melse\u001b[39;00m:\n\u001b[0;32m---> 27\u001b[0m     \u001b[38;5;28;01mreturn\u001b[39;00m \u001b[43mbuild_from_cfg\u001b[49m\u001b[43m(\u001b[49m\u001b[43mcfg\u001b[49m\u001b[43m,\u001b[49m\u001b[43m \u001b[49m\u001b[43mregistry\u001b[49m\u001b[43m,\u001b[49m\u001b[43m \u001b[49m\u001b[43mdefault_args\u001b[49m\u001b[43m)\u001b[49m\n",
      "File \u001b[0;32m/opt/conda/lib/python3.10/site-packages/mmcv/utils/registry.py:61\u001b[0m, in \u001b[0;36mbuild_from_cfg\u001b[0;34m(cfg, registry, default_args)\u001b[0m\n\u001b[1;32m     60\u001b[0m     \u001b[38;5;28;01mif\u001b[39;00m obj_cls \u001b[38;5;129;01mis\u001b[39;00m \u001b[38;5;28;01mNone\u001b[39;00m:\n\u001b[0;32m---> 61\u001b[0m         \u001b[38;5;28;01mraise\u001b[39;00m \u001b[38;5;167;01mKeyError\u001b[39;00m(\n\u001b[1;32m     62\u001b[0m             \u001b[38;5;124mf\u001b[39m\u001b[38;5;124m'\u001b[39m\u001b[38;5;132;01m{\u001b[39;00mobj_type\u001b[38;5;132;01m}\u001b[39;00m\u001b[38;5;124m is not in the \u001b[39m\u001b[38;5;132;01m{\u001b[39;00mregistry\u001b[38;5;241m.\u001b[39mname\u001b[38;5;132;01m}\u001b[39;00m\u001b[38;5;124m registry\u001b[39m\u001b[38;5;124m'\u001b[39m)\n\u001b[1;32m     63\u001b[0m \u001b[38;5;28;01melif\u001b[39;00m inspect\u001b[38;5;241m.\u001b[39misclass(obj_type) \u001b[38;5;129;01mor\u001b[39;00m inspect\u001b[38;5;241m.\u001b[39misfunction(obj_type):\n",
      "\u001b[0;31mKeyError\u001b[0m: 'smooth_l1_loss is not in the models registry'",
      "\nDuring handling of the above exception, another exception occurred:\n",
      "\u001b[0;31mKeyError\u001b[0m                                  Traceback (most recent call last)",
      "File \u001b[0;32m/opt/conda/lib/python3.10/site-packages/mmcv/utils/registry.py:69\u001b[0m, in \u001b[0;36mbuild_from_cfg\u001b[0;34m(cfg, registry, default_args)\u001b[0m\n\u001b[1;32m     68\u001b[0m \u001b[38;5;28;01mtry\u001b[39;00m:\n\u001b[0;32m---> 69\u001b[0m     \u001b[38;5;28;01mreturn\u001b[39;00m \u001b[43mobj_cls\u001b[49m\u001b[43m(\u001b[49m\u001b[38;5;241;43m*\u001b[39;49m\u001b[38;5;241;43m*\u001b[39;49m\u001b[43margs\u001b[49m\u001b[43m)\u001b[49m\n\u001b[1;32m     70\u001b[0m \u001b[38;5;28;01mexcept\u001b[39;00m \u001b[38;5;167;01mException\u001b[39;00m \u001b[38;5;28;01mas\u001b[39;00m e:\n\u001b[1;32m     71\u001b[0m     \u001b[38;5;66;03m# Normal TypeError does not print class name.\u001b[39;00m\n",
      "File \u001b[0;32m~/level2-objectdetection-cv-10/develop/StringZero/mmdetection/mmdet/models/detectors/retinanet.py:18\u001b[0m, in \u001b[0;36mRetinaNet.__init__\u001b[0;34m(self, backbone, neck, bbox_head, train_cfg, test_cfg, pretrained, init_cfg)\u001b[0m\n\u001b[1;32m     10\u001b[0m \u001b[38;5;28;01mdef\u001b[39;00m \u001b[38;5;21m__init__\u001b[39m(\u001b[38;5;28mself\u001b[39m,\n\u001b[1;32m     11\u001b[0m              backbone,\n\u001b[1;32m     12\u001b[0m              neck,\n\u001b[0;32m   (...)\u001b[0m\n\u001b[1;32m     16\u001b[0m              pretrained\u001b[38;5;241m=\u001b[39m\u001b[38;5;28;01mNone\u001b[39;00m,\n\u001b[1;32m     17\u001b[0m              init_cfg\u001b[38;5;241m=\u001b[39m\u001b[38;5;28;01mNone\u001b[39;00m):\n\u001b[0;32m---> 18\u001b[0m     \u001b[38;5;28;43msuper\u001b[39;49m\u001b[43m(\u001b[49m\u001b[43mRetinaNet\u001b[49m\u001b[43m,\u001b[49m\u001b[43m \u001b[49m\u001b[38;5;28;43mself\u001b[39;49m\u001b[43m)\u001b[49m\u001b[38;5;241;43m.\u001b[39;49m\u001b[38;5;21;43m__init__\u001b[39;49m\u001b[43m(\u001b[49m\u001b[43mbackbone\u001b[49m\u001b[43m,\u001b[49m\u001b[43m \u001b[49m\u001b[43mneck\u001b[49m\u001b[43m,\u001b[49m\u001b[43m \u001b[49m\u001b[43mbbox_head\u001b[49m\u001b[43m,\u001b[49m\u001b[43m \u001b[49m\u001b[43mtrain_cfg\u001b[49m\u001b[43m,\u001b[49m\n\u001b[1;32m     19\u001b[0m \u001b[43m                                    \u001b[49m\u001b[43mtest_cfg\u001b[49m\u001b[43m,\u001b[49m\u001b[43m \u001b[49m\u001b[43mpretrained\u001b[49m\u001b[43m,\u001b[49m\u001b[43m \u001b[49m\u001b[43minit_cfg\u001b[49m\u001b[43m)\u001b[49m\n",
      "File \u001b[0;32m~/level2-objectdetection-cv-10/develop/StringZero/mmdetection/mmdet/models/detectors/single_stage.py:37\u001b[0m, in \u001b[0;36mSingleStageDetector.__init__\u001b[0;34m(self, backbone, neck, bbox_head, train_cfg, test_cfg, pretrained, init_cfg)\u001b[0m\n\u001b[1;32m     36\u001b[0m bbox_head\u001b[38;5;241m.\u001b[39mupdate(test_cfg\u001b[38;5;241m=\u001b[39mtest_cfg)\n\u001b[0;32m---> 37\u001b[0m \u001b[38;5;28mself\u001b[39m\u001b[38;5;241m.\u001b[39mbbox_head \u001b[38;5;241m=\u001b[39m \u001b[43mbuild_head\u001b[49m\u001b[43m(\u001b[49m\u001b[43mbbox_head\u001b[49m\u001b[43m)\u001b[49m\n\u001b[1;32m     38\u001b[0m \u001b[38;5;28mself\u001b[39m\u001b[38;5;241m.\u001b[39mtrain_cfg \u001b[38;5;241m=\u001b[39m train_cfg\n",
      "File \u001b[0;32m~/level2-objectdetection-cv-10/develop/StringZero/mmdetection/mmdet/models/builder.py:40\u001b[0m, in \u001b[0;36mbuild_head\u001b[0;34m(cfg)\u001b[0m\n\u001b[1;32m     39\u001b[0m \u001b[38;5;250m\u001b[39m\u001b[38;5;124;03m\"\"\"Build head.\"\"\"\u001b[39;00m\n\u001b[0;32m---> 40\u001b[0m \u001b[38;5;28;01mreturn\u001b[39;00m \u001b[43mHEADS\u001b[49m\u001b[38;5;241;43m.\u001b[39;49m\u001b[43mbuild\u001b[49m\u001b[43m(\u001b[49m\u001b[43mcfg\u001b[49m\u001b[43m)\u001b[49m\n",
      "File \u001b[0;32m/opt/conda/lib/python3.10/site-packages/mmcv/utils/registry.py:237\u001b[0m, in \u001b[0;36mRegistry.build\u001b[0;34m(self, *args, **kwargs)\u001b[0m\n\u001b[1;32m    236\u001b[0m \u001b[38;5;28;01mdef\u001b[39;00m \u001b[38;5;21mbuild\u001b[39m(\u001b[38;5;28mself\u001b[39m, \u001b[38;5;241m*\u001b[39margs, \u001b[38;5;241m*\u001b[39m\u001b[38;5;241m*\u001b[39mkwargs):\n\u001b[0;32m--> 237\u001b[0m     \u001b[38;5;28;01mreturn\u001b[39;00m \u001b[38;5;28;43mself\u001b[39;49m\u001b[38;5;241;43m.\u001b[39;49m\u001b[43mbuild_func\u001b[49m\u001b[43m(\u001b[49m\u001b[38;5;241;43m*\u001b[39;49m\u001b[43margs\u001b[49m\u001b[43m,\u001b[49m\u001b[43m \u001b[49m\u001b[38;5;241;43m*\u001b[39;49m\u001b[38;5;241;43m*\u001b[39;49m\u001b[43mkwargs\u001b[49m\u001b[43m,\u001b[49m\u001b[43m \u001b[49m\u001b[43mregistry\u001b[49m\u001b[38;5;241;43m=\u001b[39;49m\u001b[38;5;28;43mself\u001b[39;49m\u001b[43m)\u001b[49m\n",
      "File \u001b[0;32m/opt/conda/lib/python3.10/site-packages/mmcv/cnn/builder.py:27\u001b[0m, in \u001b[0;36mbuild_model_from_cfg\u001b[0;34m(cfg, registry, default_args)\u001b[0m\n\u001b[1;32m     26\u001b[0m \u001b[38;5;28;01melse\u001b[39;00m:\n\u001b[0;32m---> 27\u001b[0m     \u001b[38;5;28;01mreturn\u001b[39;00m \u001b[43mbuild_from_cfg\u001b[49m\u001b[43m(\u001b[49m\u001b[43mcfg\u001b[49m\u001b[43m,\u001b[49m\u001b[43m \u001b[49m\u001b[43mregistry\u001b[49m\u001b[43m,\u001b[49m\u001b[43m \u001b[49m\u001b[43mdefault_args\u001b[49m\u001b[43m)\u001b[49m\n",
      "File \u001b[0;32m/opt/conda/lib/python3.10/site-packages/mmcv/utils/registry.py:72\u001b[0m, in \u001b[0;36mbuild_from_cfg\u001b[0;34m(cfg, registry, default_args)\u001b[0m\n\u001b[1;32m     70\u001b[0m \u001b[38;5;28;01mexcept\u001b[39;00m \u001b[38;5;167;01mException\u001b[39;00m \u001b[38;5;28;01mas\u001b[39;00m e:\n\u001b[1;32m     71\u001b[0m     \u001b[38;5;66;03m# Normal TypeError does not print class name.\u001b[39;00m\n\u001b[0;32m---> 72\u001b[0m     \u001b[38;5;28;01mraise\u001b[39;00m \u001b[38;5;28mtype\u001b[39m(e)(\u001b[38;5;124mf\u001b[39m\u001b[38;5;124m'\u001b[39m\u001b[38;5;132;01m{\u001b[39;00mobj_cls\u001b[38;5;241m.\u001b[39m\u001b[38;5;18m__name__\u001b[39m\u001b[38;5;132;01m}\u001b[39;00m\u001b[38;5;124m: \u001b[39m\u001b[38;5;132;01m{\u001b[39;00me\u001b[38;5;132;01m}\u001b[39;00m\u001b[38;5;124m'\u001b[39m)\n",
      "\u001b[0;31mKeyError\u001b[0m: \"RetinaSepBNHead: 'smooth_l1_loss is not in the models registry'\"",
      "\nDuring handling of the above exception, another exception occurred:\n",
      "\u001b[0;31mKeyError\u001b[0m                                  Traceback (most recent call last)",
      "Cell \u001b[0;32mIn[9], line 2\u001b[0m\n\u001b[1;32m      1\u001b[0m \u001b[38;5;66;03m# 모델 build 및 pretrained network 불러오기\u001b[39;00m\n\u001b[0;32m----> 2\u001b[0m model \u001b[38;5;241m=\u001b[39m \u001b[43mbuild_detector\u001b[49m\u001b[43m(\u001b[49m\u001b[43mcfg\u001b[49m\u001b[38;5;241;43m.\u001b[39;49m\u001b[43mmodel\u001b[49m\u001b[43m)\u001b[49m\n\u001b[1;32m      3\u001b[0m model\u001b[38;5;241m.\u001b[39minit_weights()\n",
      "File \u001b[0;32m~/level2-objectdetection-cv-10/develop/StringZero/mmdetection/mmdet/models/builder.py:58\u001b[0m, in \u001b[0;36mbuild_detector\u001b[0;34m(cfg, train_cfg, test_cfg)\u001b[0m\n\u001b[1;32m     54\u001b[0m \u001b[38;5;28;01massert\u001b[39;00m cfg\u001b[38;5;241m.\u001b[39mget(\u001b[38;5;124m'\u001b[39m\u001b[38;5;124mtrain_cfg\u001b[39m\u001b[38;5;124m'\u001b[39m) \u001b[38;5;129;01mis\u001b[39;00m \u001b[38;5;28;01mNone\u001b[39;00m \u001b[38;5;129;01mor\u001b[39;00m train_cfg \u001b[38;5;129;01mis\u001b[39;00m \u001b[38;5;28;01mNone\u001b[39;00m, \\\n\u001b[1;32m     55\u001b[0m     \u001b[38;5;124m'\u001b[39m\u001b[38;5;124mtrain_cfg specified in both outer field and model field \u001b[39m\u001b[38;5;124m'\u001b[39m\n\u001b[1;32m     56\u001b[0m \u001b[38;5;28;01massert\u001b[39;00m cfg\u001b[38;5;241m.\u001b[39mget(\u001b[38;5;124m'\u001b[39m\u001b[38;5;124mtest_cfg\u001b[39m\u001b[38;5;124m'\u001b[39m) \u001b[38;5;129;01mis\u001b[39;00m \u001b[38;5;28;01mNone\u001b[39;00m \u001b[38;5;129;01mor\u001b[39;00m test_cfg \u001b[38;5;129;01mis\u001b[39;00m \u001b[38;5;28;01mNone\u001b[39;00m, \\\n\u001b[1;32m     57\u001b[0m     \u001b[38;5;124m'\u001b[39m\u001b[38;5;124mtest_cfg specified in both outer field and model field \u001b[39m\u001b[38;5;124m'\u001b[39m\n\u001b[0;32m---> 58\u001b[0m \u001b[38;5;28;01mreturn\u001b[39;00m \u001b[43mDETECTORS\u001b[49m\u001b[38;5;241;43m.\u001b[39;49m\u001b[43mbuild\u001b[49m\u001b[43m(\u001b[49m\n\u001b[1;32m     59\u001b[0m \u001b[43m    \u001b[49m\u001b[43mcfg\u001b[49m\u001b[43m,\u001b[49m\u001b[43m \u001b[49m\u001b[43mdefault_args\u001b[49m\u001b[38;5;241;43m=\u001b[39;49m\u001b[38;5;28;43mdict\u001b[39;49m\u001b[43m(\u001b[49m\u001b[43mtrain_cfg\u001b[49m\u001b[38;5;241;43m=\u001b[39;49m\u001b[43mtrain_cfg\u001b[49m\u001b[43m,\u001b[49m\u001b[43m \u001b[49m\u001b[43mtest_cfg\u001b[49m\u001b[38;5;241;43m=\u001b[39;49m\u001b[43mtest_cfg\u001b[49m\u001b[43m)\u001b[49m\u001b[43m)\u001b[49m\n",
      "File \u001b[0;32m/opt/conda/lib/python3.10/site-packages/mmcv/utils/registry.py:237\u001b[0m, in \u001b[0;36mRegistry.build\u001b[0;34m(self, *args, **kwargs)\u001b[0m\n\u001b[1;32m    236\u001b[0m \u001b[38;5;28;01mdef\u001b[39;00m \u001b[38;5;21mbuild\u001b[39m(\u001b[38;5;28mself\u001b[39m, \u001b[38;5;241m*\u001b[39margs, \u001b[38;5;241m*\u001b[39m\u001b[38;5;241m*\u001b[39mkwargs):\n\u001b[0;32m--> 237\u001b[0m     \u001b[38;5;28;01mreturn\u001b[39;00m \u001b[38;5;28;43mself\u001b[39;49m\u001b[38;5;241;43m.\u001b[39;49m\u001b[43mbuild_func\u001b[49m\u001b[43m(\u001b[49m\u001b[38;5;241;43m*\u001b[39;49m\u001b[43margs\u001b[49m\u001b[43m,\u001b[49m\u001b[43m \u001b[49m\u001b[38;5;241;43m*\u001b[39;49m\u001b[38;5;241;43m*\u001b[39;49m\u001b[43mkwargs\u001b[49m\u001b[43m,\u001b[49m\u001b[43m \u001b[49m\u001b[43mregistry\u001b[49m\u001b[38;5;241;43m=\u001b[39;49m\u001b[38;5;28;43mself\u001b[39;49m\u001b[43m)\u001b[49m\n",
      "File \u001b[0;32m/opt/conda/lib/python3.10/site-packages/mmcv/cnn/builder.py:27\u001b[0m, in \u001b[0;36mbuild_model_from_cfg\u001b[0;34m(cfg, registry, default_args)\u001b[0m\n\u001b[1;32m     25\u001b[0m     \u001b[38;5;28;01mreturn\u001b[39;00m Sequential(\u001b[38;5;241m*\u001b[39mmodules)\n\u001b[1;32m     26\u001b[0m \u001b[38;5;28;01melse\u001b[39;00m:\n\u001b[0;32m---> 27\u001b[0m     \u001b[38;5;28;01mreturn\u001b[39;00m \u001b[43mbuild_from_cfg\u001b[49m\u001b[43m(\u001b[49m\u001b[43mcfg\u001b[49m\u001b[43m,\u001b[49m\u001b[43m \u001b[49m\u001b[43mregistry\u001b[49m\u001b[43m,\u001b[49m\u001b[43m \u001b[49m\u001b[43mdefault_args\u001b[49m\u001b[43m)\u001b[49m\n",
      "File \u001b[0;32m/opt/conda/lib/python3.10/site-packages/mmcv/utils/registry.py:72\u001b[0m, in \u001b[0;36mbuild_from_cfg\u001b[0;34m(cfg, registry, default_args)\u001b[0m\n\u001b[1;32m     69\u001b[0m     \u001b[38;5;28;01mreturn\u001b[39;00m obj_cls(\u001b[38;5;241m*\u001b[39m\u001b[38;5;241m*\u001b[39margs)\n\u001b[1;32m     70\u001b[0m \u001b[38;5;28;01mexcept\u001b[39;00m \u001b[38;5;167;01mException\u001b[39;00m \u001b[38;5;28;01mas\u001b[39;00m e:\n\u001b[1;32m     71\u001b[0m     \u001b[38;5;66;03m# Normal TypeError does not print class name.\u001b[39;00m\n\u001b[0;32m---> 72\u001b[0m     \u001b[38;5;28;01mraise\u001b[39;00m \u001b[38;5;28mtype\u001b[39m(e)(\u001b[38;5;124mf\u001b[39m\u001b[38;5;124m'\u001b[39m\u001b[38;5;132;01m{\u001b[39;00mobj_cls\u001b[38;5;241m.\u001b[39m\u001b[38;5;18m__name__\u001b[39m\u001b[38;5;132;01m}\u001b[39;00m\u001b[38;5;124m: \u001b[39m\u001b[38;5;132;01m{\u001b[39;00me\u001b[38;5;132;01m}\u001b[39;00m\u001b[38;5;124m'\u001b[39m)\n",
      "\u001b[0;31mKeyError\u001b[0m: 'RetinaNet: \"RetinaSepBNHead: \\'smooth_l1_loss is not in the models registry\\'\"'"
     ]
    }
   ],
   "source": [
    "# 모델 build 및 pretrained network 불러오기\n",
    "model = build_detector(cfg.model)\n",
    "model.init_weights()"
   ]
  },
  {
   "cell_type": "code",
   "execution_count": null,
   "metadata": {},
   "outputs": [
    {
     "name": "stderr",
     "output_type": "stream",
     "text": [
      "2024-01-11 16:14:58,382 - mmdet - INFO - Automatic scaling of learning rate (LR) has been disabled.\n",
      "/opt/conda/lib/python3.10/site-packages/mmcv/runner/optimizer/default_constructor.py:186: UserWarning: bbox_head.cls_convs.1.0.conv is duplicate. It is skipped since bypass_duplicate=True\n",
      "  warnings.warn(f'{prefix} is duplicate. It is skipped since '\n",
      "/opt/conda/lib/python3.10/site-packages/mmcv/runner/optimizer/default_constructor.py:186: UserWarning: bbox_head.cls_convs.1.1.conv is duplicate. It is skipped since bypass_duplicate=True\n",
      "  warnings.warn(f'{prefix} is duplicate. It is skipped since '\n",
      "/opt/conda/lib/python3.10/site-packages/mmcv/runner/optimizer/default_constructor.py:186: UserWarning: bbox_head.cls_convs.1.2.conv is duplicate. It is skipped since bypass_duplicate=True\n",
      "  warnings.warn(f'{prefix} is duplicate. It is skipped since '\n",
      "/opt/conda/lib/python3.10/site-packages/mmcv/runner/optimizer/default_constructor.py:186: UserWarning: bbox_head.cls_convs.1.3.conv is duplicate. It is skipped since bypass_duplicate=True\n",
      "  warnings.warn(f'{prefix} is duplicate. It is skipped since '\n",
      "/opt/conda/lib/python3.10/site-packages/mmcv/runner/optimizer/default_constructor.py:186: UserWarning: bbox_head.cls_convs.2.0.conv is duplicate. It is skipped since bypass_duplicate=True\n",
      "  warnings.warn(f'{prefix} is duplicate. It is skipped since '\n",
      "/opt/conda/lib/python3.10/site-packages/mmcv/runner/optimizer/default_constructor.py:186: UserWarning: bbox_head.cls_convs.2.1.conv is duplicate. It is skipped since bypass_duplicate=True\n",
      "  warnings.warn(f'{prefix} is duplicate. It is skipped since '\n",
      "/opt/conda/lib/python3.10/site-packages/mmcv/runner/optimizer/default_constructor.py:186: UserWarning: bbox_head.cls_convs.2.2.conv is duplicate. It is skipped since bypass_duplicate=True\n",
      "  warnings.warn(f'{prefix} is duplicate. It is skipped since '\n",
      "/opt/conda/lib/python3.10/site-packages/mmcv/runner/optimizer/default_constructor.py:186: UserWarning: bbox_head.cls_convs.2.3.conv is duplicate. It is skipped since bypass_duplicate=True\n",
      "  warnings.warn(f'{prefix} is duplicate. It is skipped since '\n",
      "/opt/conda/lib/python3.10/site-packages/mmcv/runner/optimizer/default_constructor.py:186: UserWarning: bbox_head.cls_convs.3.0.conv is duplicate. It is skipped since bypass_duplicate=True\n",
      "  warnings.warn(f'{prefix} is duplicate. It is skipped since '\n",
      "/opt/conda/lib/python3.10/site-packages/mmcv/runner/optimizer/default_constructor.py:186: UserWarning: bbox_head.cls_convs.3.1.conv is duplicate. It is skipped since bypass_duplicate=True\n",
      "  warnings.warn(f'{prefix} is duplicate. It is skipped since '\n",
      "/opt/conda/lib/python3.10/site-packages/mmcv/runner/optimizer/default_constructor.py:186: UserWarning: bbox_head.cls_convs.3.2.conv is duplicate. It is skipped since bypass_duplicate=True\n",
      "  warnings.warn(f'{prefix} is duplicate. It is skipped since '\n",
      "/opt/conda/lib/python3.10/site-packages/mmcv/runner/optimizer/default_constructor.py:186: UserWarning: bbox_head.cls_convs.3.3.conv is duplicate. It is skipped since bypass_duplicate=True\n",
      "  warnings.warn(f'{prefix} is duplicate. It is skipped since '\n",
      "/opt/conda/lib/python3.10/site-packages/mmcv/runner/optimizer/default_constructor.py:186: UserWarning: bbox_head.cls_convs.4.0.conv is duplicate. It is skipped since bypass_duplicate=True\n",
      "  warnings.warn(f'{prefix} is duplicate. It is skipped since '\n",
      "/opt/conda/lib/python3.10/site-packages/mmcv/runner/optimizer/default_constructor.py:186: UserWarning: bbox_head.cls_convs.4.1.conv is duplicate. It is skipped since bypass_duplicate=True\n",
      "  warnings.warn(f'{prefix} is duplicate. It is skipped since '\n",
      "/opt/conda/lib/python3.10/site-packages/mmcv/runner/optimizer/default_constructor.py:186: UserWarning: bbox_head.cls_convs.4.2.conv is duplicate. It is skipped since bypass_duplicate=True\n",
      "  warnings.warn(f'{prefix} is duplicate. It is skipped since '\n",
      "/opt/conda/lib/python3.10/site-packages/mmcv/runner/optimizer/default_constructor.py:186: UserWarning: bbox_head.cls_convs.4.3.conv is duplicate. It is skipped since bypass_duplicate=True\n",
      "  warnings.warn(f'{prefix} is duplicate. It is skipped since '\n",
      "/opt/conda/lib/python3.10/site-packages/mmcv/runner/optimizer/default_constructor.py:186: UserWarning: bbox_head.reg_convs.1.0.conv is duplicate. It is skipped since bypass_duplicate=True\n",
      "  warnings.warn(f'{prefix} is duplicate. It is skipped since '\n",
      "/opt/conda/lib/python3.10/site-packages/mmcv/runner/optimizer/default_constructor.py:186: UserWarning: bbox_head.reg_convs.1.1.conv is duplicate. It is skipped since bypass_duplicate=True\n",
      "  warnings.warn(f'{prefix} is duplicate. It is skipped since '\n",
      "/opt/conda/lib/python3.10/site-packages/mmcv/runner/optimizer/default_constructor.py:186: UserWarning: bbox_head.reg_convs.1.2.conv is duplicate. It is skipped since bypass_duplicate=True\n",
      "  warnings.warn(f'{prefix} is duplicate. It is skipped since '\n",
      "/opt/conda/lib/python3.10/site-packages/mmcv/runner/optimizer/default_constructor.py:186: UserWarning: bbox_head.reg_convs.1.3.conv is duplicate. It is skipped since bypass_duplicate=True\n",
      "  warnings.warn(f'{prefix} is duplicate. It is skipped since '\n",
      "/opt/conda/lib/python3.10/site-packages/mmcv/runner/optimizer/default_constructor.py:186: UserWarning: bbox_head.reg_convs.2.0.conv is duplicate. It is skipped since bypass_duplicate=True\n",
      "  warnings.warn(f'{prefix} is duplicate. It is skipped since '\n",
      "/opt/conda/lib/python3.10/site-packages/mmcv/runner/optimizer/default_constructor.py:186: UserWarning: bbox_head.reg_convs.2.1.conv is duplicate. It is skipped since bypass_duplicate=True\n",
      "  warnings.warn(f'{prefix} is duplicate. It is skipped since '\n",
      "/opt/conda/lib/python3.10/site-packages/mmcv/runner/optimizer/default_constructor.py:186: UserWarning: bbox_head.reg_convs.2.2.conv is duplicate. It is skipped since bypass_duplicate=True\n",
      "  warnings.warn(f'{prefix} is duplicate. It is skipped since '\n",
      "/opt/conda/lib/python3.10/site-packages/mmcv/runner/optimizer/default_constructor.py:186: UserWarning: bbox_head.reg_convs.2.3.conv is duplicate. It is skipped since bypass_duplicate=True\n",
      "  warnings.warn(f'{prefix} is duplicate. It is skipped since '\n",
      "/opt/conda/lib/python3.10/site-packages/mmcv/runner/optimizer/default_constructor.py:186: UserWarning: bbox_head.reg_convs.3.0.conv is duplicate. It is skipped since bypass_duplicate=True\n",
      "  warnings.warn(f'{prefix} is duplicate. It is skipped since '\n",
      "/opt/conda/lib/python3.10/site-packages/mmcv/runner/optimizer/default_constructor.py:186: UserWarning: bbox_head.reg_convs.3.1.conv is duplicate. It is skipped since bypass_duplicate=True\n",
      "  warnings.warn(f'{prefix} is duplicate. It is skipped since '\n",
      "/opt/conda/lib/python3.10/site-packages/mmcv/runner/optimizer/default_constructor.py:186: UserWarning: bbox_head.reg_convs.3.2.conv is duplicate. It is skipped since bypass_duplicate=True\n",
      "  warnings.warn(f'{prefix} is duplicate. It is skipped since '\n",
      "/opt/conda/lib/python3.10/site-packages/mmcv/runner/optimizer/default_constructor.py:186: UserWarning: bbox_head.reg_convs.3.3.conv is duplicate. It is skipped since bypass_duplicate=True\n",
      "  warnings.warn(f'{prefix} is duplicate. It is skipped since '\n",
      "/opt/conda/lib/python3.10/site-packages/mmcv/runner/optimizer/default_constructor.py:186: UserWarning: bbox_head.reg_convs.4.0.conv is duplicate. It is skipped since bypass_duplicate=True\n",
      "  warnings.warn(f'{prefix} is duplicate. It is skipped since '\n",
      "/opt/conda/lib/python3.10/site-packages/mmcv/runner/optimizer/default_constructor.py:186: UserWarning: bbox_head.reg_convs.4.1.conv is duplicate. It is skipped since bypass_duplicate=True\n",
      "  warnings.warn(f'{prefix} is duplicate. It is skipped since '\n",
      "/opt/conda/lib/python3.10/site-packages/mmcv/runner/optimizer/default_constructor.py:186: UserWarning: bbox_head.reg_convs.4.2.conv is duplicate. It is skipped since bypass_duplicate=True\n",
      "  warnings.warn(f'{prefix} is duplicate. It is skipped since '\n",
      "/opt/conda/lib/python3.10/site-packages/mmcv/runner/optimizer/default_constructor.py:186: UserWarning: bbox_head.reg_convs.4.3.conv is duplicate. It is skipped since bypass_duplicate=True\n",
      "  warnings.warn(f'{prefix} is duplicate. It is skipped since '\n",
      "2024-01-11 16:14:58,513 - mmdet - INFO - Start running, host: root@instance-5125, work_dir: /data/ephemeral/home/level2-objectdetection-cv-10/develop/StringZero/mmdetection/work_dirs/retinanet_effb3_fpn_crop896_8x4_1x_trash\n",
      "2024-01-11 16:14:58,514 - mmdet - INFO - Hooks will be executed in the following order:\n",
      "before_run:\n",
      "(VERY_HIGH   ) StepLrUpdaterHook                  \n",
      "(NORMAL      ) CheckpointHook                     \n",
      "(VERY_LOW    ) TextLoggerHook                     \n",
      " -------------------- \n",
      "before_train_epoch:\n",
      "(VERY_HIGH   ) StepLrUpdaterHook                  \n",
      "(NORMAL      ) NumClassCheckHook                  \n",
      "(LOW         ) IterTimerHook                      \n",
      "(VERY_LOW    ) TextLoggerHook                     \n",
      " -------------------- \n",
      "before_train_iter:\n",
      "(VERY_HIGH   ) StepLrUpdaterHook                  \n",
      "(LOW         ) IterTimerHook                      \n",
      " -------------------- \n",
      "after_train_iter:\n",
      "(ABOVE_NORMAL) OptimizerHook                      \n",
      "(NORMAL      ) CheckpointHook                     \n",
      "(LOW         ) IterTimerHook                      \n",
      "(VERY_LOW    ) TextLoggerHook                     \n",
      " -------------------- \n",
      "after_train_epoch:\n",
      "(NORMAL      ) CheckpointHook                     \n",
      "(VERY_LOW    ) TextLoggerHook                     \n",
      " -------------------- \n",
      "before_val_epoch:\n",
      "(NORMAL      ) NumClassCheckHook                  \n",
      "(LOW         ) IterTimerHook                      \n",
      "(VERY_LOW    ) TextLoggerHook                     \n",
      " -------------------- \n",
      "before_val_iter:\n",
      "(LOW         ) IterTimerHook                      \n",
      " -------------------- \n",
      "after_val_iter:\n",
      "(LOW         ) IterTimerHook                      \n",
      " -------------------- \n",
      "after_val_epoch:\n",
      "(VERY_LOW    ) TextLoggerHook                     \n",
      " -------------------- \n",
      "after_run:\n",
      "(VERY_LOW    ) TextLoggerHook                     \n",
      " -------------------- \n",
      "2024-01-11 16:14:58,515 - mmdet - INFO - workflow: [('train', 1)], max: 12 epochs\n",
      "2024-01-11 16:14:58,516 - mmdet - INFO - Checkpoints will be saved to /data/ephemeral/home/level2-objectdetection-cv-10/develop/StringZero/mmdetection/work_dirs/retinanet_effb3_fpn_crop896_8x4_1x_trash by HardDiskBackend.\n",
      "2024-01-11 16:15:24,271 - mmdet - INFO - Epoch [1][50/1221]\tlr: 5.764e-03, eta: 2:05:18, time: 0.515, data_time: 0.060, memory: 15130, loss_cls: 1.0061, loss_bbox: 0.8638, loss: 1.8699, grad_norm: 8.3490\n",
      "2024-01-11 16:15:45,620 - mmdet - INFO - Epoch [1][100/1221]\tlr: 7.564e-03, eta: 1:54:13, time: 0.427, data_time: 0.011, memory: 15156, loss_cls: 0.9541, loss_bbox: 0.6627, loss: 1.6168, grad_norm: 4.3963\n",
      "2024-01-11 16:16:07,049 - mmdet - INFO - Epoch [1][150/1221]\tlr: 9.364e-03, eta: 1:50:24, time: 0.429, data_time: 0.012, memory: 15182, loss_cls: 0.7984, loss_bbox: 0.7814, loss: 1.5798, grad_norm: 11.6157\n",
      "2024-01-11 16:16:28,408 - mmdet - INFO - Epoch [1][200/1221]\tlr: 1.116e-02, eta: 1:48:14, time: 0.427, data_time: 0.012, memory: 15182, loss_cls: 0.8111, loss_bbox: 0.9529, loss: 1.7640, grad_norm: 19.9182\n",
      "2024-01-11 16:16:49,756 - mmdet - INFO - Epoch [1][250/1221]\tlr: 1.296e-02, eta: 1:46:47, time: 0.427, data_time: 0.012, memory: 15182, loss_cls: 0.7970, loss_bbox: 0.8302, loss: 1.6272, grad_norm: 6.4196\n",
      "2024-01-11 16:17:11,068 - mmdet - INFO - Epoch [1][300/1221]\tlr: 1.476e-02, eta: 1:45:40, time: 0.426, data_time: 0.012, memory: 15212, loss_cls: 0.7079, loss_bbox: 0.6729, loss: 1.3808, grad_norm: 2.2515\n",
      "2024-01-11 16:17:32,305 - mmdet - INFO - Epoch [1][350/1221]\tlr: 1.656e-02, eta: 1:44:43, time: 0.425, data_time: 0.012, memory: 15212, loss_cls: 0.6799, loss_bbox: 0.6248, loss: 1.3047, grad_norm: 1.8989\n",
      "2024-01-11 16:17:53,546 - mmdet - INFO - Epoch [1][400/1221]\tlr: 1.836e-02, eta: 1:43:55, time: 0.425, data_time: 0.011, memory: 15212, loss_cls: 0.6820, loss_bbox: 0.5996, loss: 1.2816, grad_norm: 1.8761\n",
      "2024-01-11 16:18:14,834 - mmdet - INFO - Epoch [1][450/1221]\tlr: 2.016e-02, eta: 1:43:15, time: 0.426, data_time: 0.012, memory: 15212, loss_cls: 0.6794, loss_bbox: 0.5641, loss: 1.2435, grad_norm: 1.7045\n",
      "2024-01-11 16:18:36,105 - mmdet - INFO - Epoch [1][500/1221]\tlr: 2.196e-02, eta: 1:42:38, time: 0.425, data_time: 0.012, memory: 15212, loss_cls: 0.6588, loss_bbox: 0.5738, loss: 1.2326, grad_norm: 1.8703\n",
      "2024-01-11 16:18:57,342 - mmdet - INFO - Epoch [1][550/1221]\tlr: 2.376e-02, eta: 1:42:03, time: 0.425, data_time: 0.011, memory: 15212, loss_cls: 0.6814, loss_bbox: 0.6185, loss: 1.2999, grad_norm: 2.9006\n",
      "2024-01-11 16:19:18,657 - mmdet - INFO - Epoch [1][600/1221]\tlr: 2.556e-02, eta: 1:41:32, time: 0.426, data_time: 0.012, memory: 15212, loss_cls: 0.6662, loss_bbox: 0.5735, loss: 1.2397, grad_norm: 1.7133\n",
      "2024-01-11 16:19:39,970 - mmdet - INFO - Epoch [1][650/1221]\tlr: 2.736e-02, eta: 1:41:02, time: 0.426, data_time: 0.012, memory: 15212, loss_cls: 0.6076, loss_bbox: 0.5476, loss: 1.1552, grad_norm: 1.5019\n",
      "2024-01-11 16:20:01,341 - mmdet - INFO - Epoch [1][700/1221]\tlr: 2.916e-02, eta: 1:40:35, time: 0.427, data_time: 0.012, memory: 15212, loss_cls: 0.6634, loss_bbox: 0.5458, loss: 1.2092, grad_norm: 1.5110\n",
      "2024-01-11 16:20:22,642 - mmdet - INFO - Epoch [1][750/1221]\tlr: 3.096e-02, eta: 1:40:07, time: 0.426, data_time: 0.012, memory: 15212, loss_cls: 0.6229, loss_bbox: 0.5404, loss: 1.1633, grad_norm: 1.4668\n",
      "2024-01-11 16:20:43,872 - mmdet - INFO - Epoch [1][800/1221]\tlr: 3.276e-02, eta: 1:39:39, time: 0.425, data_time: 0.011, memory: 15212, loss_cls: 0.6519, loss_bbox: 0.5732, loss: 1.2251, grad_norm: 1.9993\n",
      "2024-01-11 16:21:05,116 - mmdet - INFO - Epoch [1][850/1221]\tlr: 3.456e-02, eta: 1:39:12, time: 0.425, data_time: 0.011, memory: 15218, loss_cls: 0.6640, loss_bbox: 0.5587, loss: 1.2227, grad_norm: 2.0030\n",
      "2024-01-11 16:21:26,416 - mmdet - INFO - Epoch [1][900/1221]\tlr: 3.636e-02, eta: 1:38:46, time: 0.426, data_time: 0.012, memory: 15218, loss_cls: 0.7021, loss_bbox: 0.6895, loss: 1.3915, grad_norm: 3.2538\n",
      "2024-01-11 16:21:48,022 - mmdet - INFO - Epoch [1][950/1221]\tlr: 3.816e-02, eta: 1:38:26, time: 0.432, data_time: 0.011, memory: 15305, loss_cls: 0.7943, loss_bbox: 1.7659, loss: 2.5602, grad_norm: 17.3804\n",
      "2024-01-11 16:22:09,332 - mmdet - INFO - Epoch [1][1000/1221]\tlr: 3.996e-02, eta: 1:38:01, time: 0.426, data_time: 0.011, memory: 15305, loss_cls: 1.0325, loss_bbox: 1.8392, loss: 2.8717, grad_norm: 19.5797\n",
      "2024-01-11 16:22:30,675 - mmdet - INFO - Epoch [1][1050/1221]\tlr: 4.000e-02, eta: 1:37:37, time: 0.427, data_time: 0.011, memory: 15305, loss_cls: 0.9106, loss_bbox: 2.1837, loss: 3.0942, grad_norm: 10.9079\n",
      "2024-01-11 16:22:51,954 - mmdet - INFO - Epoch [1][1100/1221]\tlr: 4.000e-02, eta: 1:37:12, time: 0.426, data_time: 0.012, memory: 15305, loss_cls: 0.8622, loss_bbox: 1.3549, loss: 2.2171, grad_norm: 4.8058\n",
      "2024-01-11 16:23:13,262 - mmdet - INFO - Epoch [1][1150/1221]\tlr: 4.000e-02, eta: 1:36:48, time: 0.426, data_time: 0.011, memory: 15305, loss_cls: 0.8924, loss_bbox: 1.3125, loss: 2.2050, grad_norm: 3.2603\n",
      "2024-01-11 16:23:34,559 - mmdet - INFO - Epoch [1][1200/1221]\tlr: 4.000e-02, eta: 1:36:24, time: 0.426, data_time: 0.012, memory: 15305, loss_cls: 0.9626, loss_bbox: 4.4844, loss: 5.4470, grad_norm: 27.2292\n",
      "2024-01-11 16:23:43,537 - mmdet - INFO - Saving checkpoint at 1 epochs\n",
      "2024-01-11 16:24:08,155 - mmdet - INFO - Epoch [2][50/1221]\tlr: 4.000e-02, eta: 1:34:43, time: 0.476, data_time: 0.062, memory: 15305, loss_cls: 2.0665, loss_bbox: 5.1777, loss: 7.2442, grad_norm: 36.6200\n",
      "2024-01-11 16:24:29,356 - mmdet - INFO - Epoch [2][100/1221]\tlr: 4.000e-02, eta: 1:34:21, time: 0.424, data_time: 0.011, memory: 15305, loss_cls: 0.9393, loss_bbox: 0.9635, loss: 1.9029, grad_norm: 4.7098\n",
      "2024-01-11 16:24:50,593 - mmdet - INFO - Epoch [2][150/1221]\tlr: 4.000e-02, eta: 1:34:00, time: 0.425, data_time: 0.011, memory: 15305, loss_cls: 0.8790, loss_bbox: 0.7036, loss: 1.5826, grad_norm: 0.9797\n",
      "2024-01-11 16:25:11,876 - mmdet - INFO - Epoch [2][200/1221]\tlr: 4.000e-02, eta: 1:33:39, time: 0.426, data_time: 0.011, memory: 15305, loss_cls: 0.8008, loss_bbox: 0.6760, loss: 1.4768, grad_norm: 0.6130\n",
      "2024-01-11 16:25:33,240 - mmdet - INFO - Epoch [2][250/1221]\tlr: 4.000e-02, eta: 1:33:19, time: 0.427, data_time: 0.011, memory: 15305, loss_cls: 1.0539, loss_bbox: 0.6693, loss: 1.7232, grad_norm: 7.6963\n",
      "2024-01-11 16:25:54,446 - mmdet - INFO - Epoch [2][300/1221]\tlr: 4.000e-02, eta: 1:32:57, time: 0.424, data_time: 0.011, memory: 15305, loss_cls: 0.8585, loss_bbox: 0.6675, loss: 1.5260, grad_norm: 1.0689\n",
      "2024-01-11 16:26:15,781 - mmdet - INFO - Epoch [2][350/1221]\tlr: 4.000e-02, eta: 1:32:37, time: 0.427, data_time: 0.012, memory: 15305, loss_cls: 0.8179, loss_bbox: 0.6581, loss: 1.4761, grad_norm: 0.7547\n",
      "2024-01-11 16:26:36,991 - mmdet - INFO - Epoch [2][400/1221]\tlr: 4.000e-02, eta: 1:32:15, time: 0.424, data_time: 0.011, memory: 15305, loss_cls: 0.8093, loss_bbox: 0.6519, loss: 1.4612, grad_norm: 0.5683\n",
      "2024-01-11 16:26:58,271 - mmdet - INFO - Epoch [2][450/1221]\tlr: 4.000e-02, eta: 1:31:54, time: 0.426, data_time: 0.011, memory: 15305, loss_cls: 0.8019, loss_bbox: 0.6336, loss: 1.4355, grad_norm: 0.7438\n",
      "2024-01-11 16:27:19,520 - mmdet - INFO - Epoch [2][500/1221]\tlr: 4.000e-02, eta: 1:31:33, time: 0.425, data_time: 0.011, memory: 15305, loss_cls: 0.8577, loss_bbox: 0.6645, loss: 1.5222, grad_norm: 1.7864\n",
      "2024-01-11 16:27:40,746 - mmdet - INFO - Epoch [2][550/1221]\tlr: 4.000e-02, eta: 1:31:12, time: 0.425, data_time: 0.012, memory: 15305, loss_cls: 0.8780, loss_bbox: 0.6593, loss: 1.5373, grad_norm: 1.1695\n",
      "2024-01-11 16:28:01,978 - mmdet - INFO - Epoch [2][600/1221]\tlr: 4.000e-02, eta: 1:30:51, time: 0.425, data_time: 0.011, memory: 15305, loss_cls: 0.8253, loss_bbox: 0.6595, loss: 1.4848, grad_norm: 1.0861\n",
      "2024-01-11 16:28:23,242 - mmdet - INFO - Epoch [2][650/1221]\tlr: 4.000e-02, eta: 1:30:29, time: 0.425, data_time: 0.012, memory: 15305, loss_cls: 0.8268, loss_bbox: 0.6795, loss: 1.5063, grad_norm: 0.6628\n",
      "2024-01-11 16:28:44,775 - mmdet - INFO - Epoch [2][700/1221]\tlr: 4.000e-02, eta: 1:30:10, time: 0.431, data_time: 0.012, memory: 15347, loss_cls: 0.8149, loss_bbox: 0.6443, loss: 1.4592, grad_norm: 0.6522\n",
      "2024-01-11 16:29:06,022 - mmdet - INFO - Epoch [2][750/1221]\tlr: 4.000e-02, eta: 1:29:49, time: 0.425, data_time: 0.012, memory: 15347, loss_cls: 0.8015, loss_bbox: 0.6451, loss: 1.4466, grad_norm: 0.5728\n",
      "2024-01-11 16:29:27,306 - mmdet - INFO - Epoch [2][800/1221]\tlr: 4.000e-02, eta: 1:29:28, time: 0.426, data_time: 0.012, memory: 15347, loss_cls: 0.7974, loss_bbox: 0.6573, loss: 1.4547, grad_norm: 0.5328\n",
      "2024-01-11 16:29:48,566 - mmdet - INFO - Epoch [2][850/1221]\tlr: 4.000e-02, eta: 1:29:07, time: 0.425, data_time: 0.012, memory: 15347, loss_cls: 0.7970, loss_bbox: 0.6249, loss: 1.4220, grad_norm: 0.5151\n",
      "2024-01-11 16:30:09,822 - mmdet - INFO - Epoch [2][900/1221]\tlr: 4.000e-02, eta: 1:28:45, time: 0.425, data_time: 0.012, memory: 15347, loss_cls: 0.7824, loss_bbox: 0.6426, loss: 1.4250, grad_norm: 0.5114\n",
      "2024-01-11 16:30:31,121 - mmdet - INFO - Epoch [2][950/1221]\tlr: 4.000e-02, eta: 1:28:24, time: 0.426, data_time: 0.012, memory: 15347, loss_cls: 0.8048, loss_bbox: 0.6588, loss: 1.4636, grad_norm: 0.5930\n",
      "2024-01-11 16:30:52,406 - mmdet - INFO - Epoch [2][1000/1221]\tlr: 4.000e-02, eta: 1:28:03, time: 0.426, data_time: 0.012, memory: 15347, loss_cls: 0.7731, loss_bbox: 0.6275, loss: 1.4006, grad_norm: 0.4736\n",
      "2024-01-11 16:31:13,698 - mmdet - INFO - Epoch [2][1050/1221]\tlr: 4.000e-02, eta: 1:27:42, time: 0.426, data_time: 0.012, memory: 15347, loss_cls: 0.7792, loss_bbox: 0.6265, loss: 1.4058, grad_norm: 0.4853\n",
      "2024-01-11 16:31:34,964 - mmdet - INFO - Epoch [2][1100/1221]\tlr: 4.000e-02, eta: 1:27:21, time: 0.425, data_time: 0.011, memory: 15347, loss_cls: 0.8238, loss_bbox: 0.6453, loss: 1.4691, grad_norm: 1.2436\n",
      "2024-01-11 16:31:56,219 - mmdet - INFO - Epoch [2][1150/1221]\tlr: 4.000e-02, eta: 1:27:00, time: 0.425, data_time: 0.012, memory: 15347, loss_cls: 0.8364, loss_bbox: 0.6561, loss: 1.4925, grad_norm: 0.8546\n",
      "2024-01-11 16:32:17,637 - mmdet - INFO - Epoch [2][1200/1221]\tlr: 4.000e-02, eta: 1:26:39, time: 0.428, data_time: 0.012, memory: 15347, loss_cls: 0.7806, loss_bbox: 0.6258, loss: 1.4064, grad_norm: 0.4834\n",
      "2024-01-11 16:32:26,698 - mmdet - INFO - Saving checkpoint at 2 epochs\n",
      "2024-01-11 16:32:51,110 - mmdet - INFO - Epoch [3][50/1221]\tlr: 4.000e-02, eta: 1:25:37, time: 0.473, data_time: 0.060, memory: 15347, loss_cls: 0.7826, loss_bbox: 0.6277, loss: 1.4102, grad_norm: 0.5839\n",
      "2024-01-11 16:33:12,359 - mmdet - INFO - Epoch [3][100/1221]\tlr: 4.000e-02, eta: 1:25:17, time: 0.425, data_time: 0.011, memory: 15347, loss_cls: 0.7943, loss_bbox: 0.6354, loss: 1.4298, grad_norm: 0.5417\n",
      "2024-01-11 16:33:33,684 - mmdet - INFO - Epoch [3][150/1221]\tlr: 4.000e-02, eta: 1:24:57, time: 0.426, data_time: 0.011, memory: 15347, loss_cls: 0.7747, loss_bbox: 0.6485, loss: 1.4232, grad_norm: 0.4881\n",
      "2024-01-11 16:33:54,951 - mmdet - INFO - Epoch [3][200/1221]\tlr: 4.000e-02, eta: 1:24:36, time: 0.425, data_time: 0.012, memory: 15347, loss_cls: 0.7803, loss_bbox: 0.6246, loss: 1.4049, grad_norm: 0.4994\n",
      "2024-01-11 16:34:16,239 - mmdet - INFO - Epoch [3][250/1221]\tlr: 4.000e-02, eta: 1:24:16, time: 0.426, data_time: 0.011, memory: 15347, loss_cls: 0.7852, loss_bbox: 0.6386, loss: 1.4239, grad_norm: 0.4494\n",
      "2024-01-11 16:34:37,422 - mmdet - INFO - Epoch [3][300/1221]\tlr: 4.000e-02, eta: 1:23:55, time: 0.424, data_time: 0.011, memory: 15347, loss_cls: 0.7763, loss_bbox: 0.6189, loss: 1.3952, grad_norm: 0.4477\n",
      "2024-01-11 16:34:58,735 - mmdet - INFO - Epoch [3][350/1221]\tlr: 4.000e-02, eta: 1:23:34, time: 0.426, data_time: 0.012, memory: 15347, loss_cls: 0.7559, loss_bbox: 0.6229, loss: 1.3787, grad_norm: 0.4656\n",
      "2024-01-11 16:35:19,948 - mmdet - INFO - Epoch [3][400/1221]\tlr: 4.000e-02, eta: 1:23:13, time: 0.424, data_time: 0.011, memory: 15347, loss_cls: 0.7691, loss_bbox: 0.6171, loss: 1.3862, grad_norm: 0.4645\n",
      "2024-01-11 16:35:41,348 - mmdet - INFO - Epoch [3][450/1221]\tlr: 4.000e-02, eta: 1:22:53, time: 0.428, data_time: 0.012, memory: 15347, loss_cls: 0.7818, loss_bbox: 0.6490, loss: 1.4308, grad_norm: 0.8672\n",
      "2024-01-11 16:36:02,715 - mmdet - INFO - Epoch [3][500/1221]\tlr: 4.000e-02, eta: 1:22:33, time: 0.427, data_time: 0.012, memory: 15347, loss_cls: 0.7776, loss_bbox: 0.6389, loss: 1.4165, grad_norm: 0.4703\n",
      "2024-01-11 16:36:23,962 - mmdet - INFO - Epoch [3][550/1221]\tlr: 4.000e-02, eta: 1:22:12, time: 0.425, data_time: 0.012, memory: 15347, loss_cls: 0.8069, loss_bbox: 0.6509, loss: 1.4578, grad_norm: 0.7921\n",
      "2024-01-11 16:36:45,158 - mmdet - INFO - Epoch [3][600/1221]\tlr: 4.000e-02, eta: 1:21:51, time: 0.424, data_time: 0.011, memory: 15347, loss_cls: 0.7804, loss_bbox: 0.6347, loss: 1.4151, grad_norm: 0.4253\n",
      "2024-01-11 16:37:06,495 - mmdet - INFO - Epoch [3][650/1221]\tlr: 4.000e-02, eta: 1:21:31, time: 0.427, data_time: 0.012, memory: 15347, loss_cls: 0.7835, loss_bbox: 0.6285, loss: 1.4120, grad_norm: 0.4636\n",
      "2024-01-11 16:37:27,918 - mmdet - INFO - Epoch [3][700/1221]\tlr: 4.000e-02, eta: 1:21:11, time: 0.428, data_time: 0.012, memory: 15347, loss_cls: 0.7729, loss_bbox: 0.6516, loss: 1.4245, grad_norm: 0.4472\n",
      "2024-01-11 16:37:49,189 - mmdet - INFO - Epoch [3][750/1221]\tlr: 4.000e-02, eta: 1:20:50, time: 0.425, data_time: 0.012, memory: 15347, loss_cls: 0.7620, loss_bbox: 0.6417, loss: 1.4037, grad_norm: 0.4394\n",
      "2024-01-11 16:38:10,407 - mmdet - INFO - Epoch [3][800/1221]\tlr: 4.000e-02, eta: 1:20:29, time: 0.424, data_time: 0.012, memory: 15347, loss_cls: 0.7653, loss_bbox: 0.6327, loss: 1.3981, grad_norm: 0.4564\n",
      "2024-01-11 16:38:31,702 - mmdet - INFO - Epoch [3][850/1221]\tlr: 4.000e-02, eta: 1:20:08, time: 0.426, data_time: 0.012, memory: 15347, loss_cls: 0.7695, loss_bbox: 0.6173, loss: 1.3868, grad_norm: 0.4820\n",
      "2024-01-11 16:38:52,986 - mmdet - INFO - Epoch [3][900/1221]\tlr: 4.000e-02, eta: 1:19:47, time: 0.426, data_time: 0.012, memory: 15347, loss_cls: 0.7626, loss_bbox: 0.6454, loss: 1.4080, grad_norm: 0.5603\n",
      "2024-01-11 16:39:14,245 - mmdet - INFO - Epoch [3][950/1221]\tlr: 4.000e-02, eta: 1:19:27, time: 0.425, data_time: 0.012, memory: 15347, loss_cls: 0.7584, loss_bbox: 0.6356, loss: 1.3941, grad_norm: 0.5039\n",
      "2024-01-11 16:39:35,554 - mmdet - INFO - Epoch [3][1000/1221]\tlr: 4.000e-02, eta: 1:19:06, time: 0.426, data_time: 0.012, memory: 15347, loss_cls: 0.7757, loss_bbox: 0.6298, loss: 1.4055, grad_norm: 0.4397\n",
      "2024-01-11 16:39:56,824 - mmdet - INFO - Epoch [3][1050/1221]\tlr: 4.000e-02, eta: 1:18:45, time: 0.425, data_time: 0.012, memory: 15347, loss_cls: 0.7575, loss_bbox: 0.6395, loss: 1.3970, grad_norm: 0.4563\n",
      "2024-01-11 16:40:18,205 - mmdet - INFO - Epoch [3][1100/1221]\tlr: 4.000e-02, eta: 1:18:24, time: 0.428, data_time: 0.012, memory: 15347, loss_cls: 0.7706, loss_bbox: 0.6391, loss: 1.4097, grad_norm: 0.4688\n",
      "2024-01-11 16:40:39,475 - mmdet - INFO - Epoch [3][1150/1221]\tlr: 4.000e-02, eta: 1:18:04, time: 0.425, data_time: 0.012, memory: 15347, loss_cls: 0.7727, loss_bbox: 0.6421, loss: 1.4148, grad_norm: 0.4686\n",
      "2024-01-11 16:41:00,836 - mmdet - INFO - Epoch [3][1200/1221]\tlr: 4.000e-02, eta: 1:17:43, time: 0.427, data_time: 0.012, memory: 15347, loss_cls: 0.7801, loss_bbox: 0.6408, loss: 1.4209, grad_norm: 0.4375\n",
      "2024-01-11 16:41:09,882 - mmdet - INFO - Saving checkpoint at 3 epochs\n",
      "2024-01-11 16:41:34,415 - mmdet - INFO - Epoch [4][50/1221]\tlr: 4.000e-02, eta: 1:16:54, time: 0.473, data_time: 0.061, memory: 15347, loss_cls: 0.7573, loss_bbox: 0.6163, loss: 1.3737, grad_norm: 0.4811\n"
     ]
    }
   ],
   "source": [
    "# 모델 학습\n",
    "train_detector(model, datasets[0], cfg, distributed=False, validate=False)"
   ]
  },
  {
   "cell_type": "code",
   "execution_count": null,
   "metadata": {},
   "outputs": [],
   "source": []
  }
 ],
 "metadata": {
  "interpreter": {
   "hash": "980dec4bdc0f65d3f181e5891661df87e8769cde5e79cd54bc145a7f830b2685"
  },
  "kernelspec": {
   "display_name": "Python 3 (ipykernel)",
   "language": "python",
   "name": "python3"
  },
  "language_info": {
   "codemirror_mode": {
    "name": "ipython",
    "version": 3
   },
   "file_extension": ".py",
   "mimetype": "text/x-python",
   "name": "python",
   "nbconvert_exporter": "python",
   "pygments_lexer": "ipython3",
   "version": "3.10.13"
  }
 },
 "nbformat": 4,
 "nbformat_minor": 4
}
