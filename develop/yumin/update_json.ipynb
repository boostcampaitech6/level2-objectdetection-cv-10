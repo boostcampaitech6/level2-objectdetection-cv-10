{
 "cells": [
  {
   "cell_type": "markdown",
   "metadata": {},
   "source": [
    "## 데이터 솎아내기"
   ]
  },
  {
   "cell_type": "code",
   "execution_count": null,
   "metadata": {},
   "outputs": [],
   "source": [
    "import json \n",
    "import os\n",
    "import pandas as pd\n",
    "from pycocotools.coco import COCO"
   ]
  },
  {
   "cell_type": "code",
   "execution_count": null,
   "metadata": {},
   "outputs": [],
   "source": [
    "coco = COCO('../../train.json')\n",
    "\n",
    "train_df = pd.DataFrame()\n",
    "\n",
    "image_ids = []\n",
    "class_name = []\n",
    "class_id = []\n",
    "x_min = []\n",
    "y_min = []\n",
    "x_max = []\n",
    "y_max = []\n",
    "classes = [\"General trash\", \"Paper\", \"Paper pack\", \"Metal\", \"Glass\", \n",
    "           \"Plastic\", \"Styrofoam\", \"Plastic bag\", \"Battery\", \"Clothing\"]\n",
    "for image_id in coco.getImgIds():\n",
    "        \n",
    "    image_info = coco.loadImgs(image_id)[0]\n",
    "    ann_ids = coco.getAnnIds(imgIds=image_info['id'])\n",
    "    anns = coco.loadAnns(ann_ids)\n",
    "        \n",
    "    file_name = image_info['file_name']\n",
    "        \n",
    "    for ann in anns:\n",
    "        image_ids.append(file_name)\n",
    "        class_name.append(classes[ann['category_id']])\n",
    "        class_id.append(ann['category_id'])\n",
    "        x_min.append(float(ann['bbox'][0]))\n",
    "        y_min.append(float(ann['bbox'][1]))\n",
    "        x_max.append(float(ann['bbox'][0]) + float(ann['bbox'][2]))\n",
    "        y_max.append(float(ann['bbox'][1]) + float(ann['bbox'][3]))\n",
    "\n",
    "train_df['image_id'] = image_ids\n",
    "train_df['class_name'] = class_name\n",
    "train_df['class_id'] = class_id\n",
    "train_df['x_min'] = x_min\n",
    "train_df['y_min'] = y_min\n",
    "train_df['x_max'] = x_max\n",
    "train_df['y_max'] = y_max\n",
    "\n"
   ]
  },
  {
   "cell_type": "code",
   "execution_count": null,
   "metadata": {},
   "outputs": [],
   "source": [
    "train_df"
   ]
  },
  {
   "cell_type": "code",
   "execution_count": null,
   "metadata": {},
   "outputs": [],
   "source": [
    "z_score_limit = 3.5 # sigma 범위\n",
    "\n",
    "index_ = pd.DataFrame()\n",
    "mean_value = train_df['image_id'].value_counts().mean()\n",
    "std_value = train_df['image_id'].value_counts().std()\n",
    "\n",
    "index_['z_score'] = (train_df['image_id'].value_counts()-mean_value)/std_value\n",
    "removed_index = [i for i in index_.index if index_['z_score'][i] > 3.5]\n"
   ]
  },
  {
   "cell_type": "code",
   "execution_count": null,
   "metadata": {},
   "outputs": [],
   "source": [
    "removed_index"
   ]
  },
  {
   "cell_type": "code",
   "execution_count": null,
   "metadata": {},
   "outputs": [],
   "source": [
    "len(removed_index)"
   ]
  },
  {
   "cell_type": "markdown",
   "metadata": {},
   "source": [
    "## changed_train.json 생성"
   ]
  },
  {
   "cell_type": "code",
   "execution_count": null,
   "metadata": {},
   "outputs": [],
   "source": [
    "# 새 파일 생성\n",
    "root = '../../dataset/'\n",
    "file_name = 'train.json'\n",
    "save_name = 'changed_train.json'\n",
    "train_df = pd.DataFrame\n",
    "\n",
    "with open(os.path.join(root,file_name),'r') as f:\n",
    "    coco_json = json.load(f)\n"
   ]
  },
  {
   "cell_type": "code",
   "execution_count": null,
   "metadata": {},
   "outputs": [],
   "source": [
    "coco_json.keys()"
   ]
  },
  {
   "cell_type": "code",
   "execution_count": null,
   "metadata": {},
   "outputs": [],
   "source": [
    "coco_json['images'][189:192]  # 원본 데이터 images key"
   ]
  },
  {
   "cell_type": "code",
   "execution_count": null,
   "metadata": {},
   "outputs": [],
   "source": [
    "coco_info = coco_json['info']\n",
    "coco_licenses = coco_json['licenses']\n",
    "coco_images = [ i for i in coco_json['images'] if i['file_name'] not in removed_index]\n",
    "coco_categories = coco_json['categories']\n",
    "coco_annotations = coco_json['annotations']\n"
   ]
  },
  {
   "cell_type": "code",
   "execution_count": null,
   "metadata": {},
   "outputs": [],
   "source": [
    "coco_images[185:188] # 0190.jpg 데이터 누락"
   ]
  },
  {
   "cell_type": "code",
   "execution_count": null,
   "metadata": {},
   "outputs": [],
   "source": [
    "new_data = {\n",
    "    'info': coco_info,\n",
    "    'licenses': coco_licenses,\n",
    "    'images': coco_images,\n",
    "    'categories': coco_categories,\n",
    "    'annotations': coco_annotations\n",
    "}"
   ]
  },
  {
   "cell_type": "code",
   "execution_count": null,
   "metadata": {},
   "outputs": [],
   "source": [
    "new_data.keys()"
   ]
  },
  {
   "cell_type": "code",
   "execution_count": null,
   "metadata": {},
   "outputs": [],
   "source": [
    "# 새 파일 생성\n",
    "root = 'C:\\\\Users\\\\leeyu\\\\Desktop\\\\'\n",
    "file_name = 'train.json'\n",
    "save_name = 'changed_train.json'\n",
    "train_df = pd.DataFrame\n",
    "output_path = os.path.join(root,save_name)\n",
    "\n",
    "with open(output_path,'w') as f:\n",
    "    json.dump(new_data, f, indent=2)"
   ]
  }
 ],
 "metadata": {
  "language_info": {
   "name": "python"
  }
 },
 "nbformat": 4,
 "nbformat_minor": 2
}
