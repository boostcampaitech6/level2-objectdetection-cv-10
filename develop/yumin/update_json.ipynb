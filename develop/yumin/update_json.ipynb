{
 "cells": [
  {
   "cell_type": "markdown",
   "metadata": {},
   "source": [
    "## 데이터 솎아내기"
   ]
  },
  {
   "cell_type": "code",
   "execution_count": 48,
   "metadata": {},
   "outputs": [],
   "source": [
    "import json \n",
    "import os\n",
    "import pandas as pd\n",
    "from pycocotools.coco import COCO"
   ]
  },
  {
   "cell_type": "code",
   "execution_count": 49,
   "metadata": {},
   "outputs": [
    {
     "name": "stdout",
     "output_type": "stream",
     "text": [
      "loading annotations into memory...\n",
      "Done (t=0.09s)\n",
      "creating index...\n",
      "index created!\n"
     ]
    }
   ],
   "source": [
    "coco = COCO('../../dataset/train.json')\n",
    "\n",
    "train_df = pd.DataFrame()\n",
    "\n",
    "image_ids = []\n",
    "class_name = []\n",
    "class_id = []\n",
    "x_min = []\n",
    "y_min = []\n",
    "x_max = []\n",
    "y_max = []\n",
    "id = []\n",
    "classes = [\"General trash\", \"Paper\", \"Paper pack\", \"Metal\", \"Glass\", \n",
    "           \"Plastic\", \"Styrofoam\", \"Plastic bag\", \"Battery\", \"Clothing\"]\n",
    "for image_id in coco.getImgIds():\n",
    "        \n",
    "    image_info = coco.loadImgs(image_id)[0]\n",
    "    ann_ids = coco.getAnnIds(imgIds=image_info['id'])\n",
    "    anns = coco.loadAnns(ann_ids)\n",
    "    file_name = image_info['file_name']\n",
    "        \n",
    "    for ann in anns:\n",
    "        image_ids.append(file_name)\n",
    "        class_name.append(classes[ann['category_id']])\n",
    "        class_id.append(ann['category_id'])\n",
    "        x_min.append(float(ann['bbox'][0]))\n",
    "        y_min.append(float(ann['bbox'][1]))\n",
    "        x_max.append(float(ann['bbox'][0]) + float(ann['bbox'][2]))\n",
    "        y_max.append(float(ann['bbox'][1]) + float(ann['bbox'][3]))\n",
    "        id.append(coco.loadImgs(image_id)[0]['id'])        \n",
    "\n",
    "train_df['image_id'] = image_ids\n",
    "train_df['class_name'] = class_name\n",
    "train_df['class_id'] = class_id\n",
    "train_df['x_min'] = x_min\n",
    "train_df['y_min'] = y_min\n",
    "train_df['x_max'] = x_max\n",
    "train_df['y_max'] = y_max\n",
    "train_df['id'] = id\n",
    "\n"
   ]
  },
  {
   "cell_type": "code",
   "execution_count": 50,
   "metadata": {},
   "outputs": [
    {
     "data": {
      "text/html": [
       "<div>\n",
       "<style scoped>\n",
       "    .dataframe tbody tr th:only-of-type {\n",
       "        vertical-align: middle;\n",
       "    }\n",
       "\n",
       "    .dataframe tbody tr th {\n",
       "        vertical-align: top;\n",
       "    }\n",
       "\n",
       "    .dataframe thead th {\n",
       "        text-align: right;\n",
       "    }\n",
       "</style>\n",
       "<table border=\"1\" class=\"dataframe\">\n",
       "  <thead>\n",
       "    <tr style=\"text-align: right;\">\n",
       "      <th></th>\n",
       "      <th>image_id</th>\n",
       "      <th>class_name</th>\n",
       "      <th>class_id</th>\n",
       "      <th>x_min</th>\n",
       "      <th>y_min</th>\n",
       "      <th>x_max</th>\n",
       "      <th>y_max</th>\n",
       "      <th>id</th>\n",
       "    </tr>\n",
       "  </thead>\n",
       "  <tbody>\n",
       "    <tr>\n",
       "      <th>0</th>\n",
       "      <td>train/0000.jpg</td>\n",
       "      <td>General trash</td>\n",
       "      <td>0</td>\n",
       "      <td>197.6</td>\n",
       "      <td>193.7</td>\n",
       "      <td>745.4</td>\n",
       "      <td>663.4</td>\n",
       "      <td>0</td>\n",
       "    </tr>\n",
       "    <tr>\n",
       "      <th>1</th>\n",
       "      <td>train/0001.jpg</td>\n",
       "      <td>Metal</td>\n",
       "      <td>3</td>\n",
       "      <td>0.0</td>\n",
       "      <td>407.4</td>\n",
       "      <td>57.6</td>\n",
       "      <td>588.0</td>\n",
       "      <td>1</td>\n",
       "    </tr>\n",
       "    <tr>\n",
       "      <th>2</th>\n",
       "      <td>train/0001.jpg</td>\n",
       "      <td>Plastic bag</td>\n",
       "      <td>7</td>\n",
       "      <td>0.0</td>\n",
       "      <td>455.6</td>\n",
       "      <td>144.6</td>\n",
       "      <td>637.2</td>\n",
       "      <td>1</td>\n",
       "    </tr>\n",
       "    <tr>\n",
       "      <th>3</th>\n",
       "      <td>train/0001.jpg</td>\n",
       "      <td>Glass</td>\n",
       "      <td>4</td>\n",
       "      <td>722.3</td>\n",
       "      <td>313.4</td>\n",
       "      <td>996.6</td>\n",
       "      <td>565.3</td>\n",
       "      <td>1</td>\n",
       "    </tr>\n",
       "    <tr>\n",
       "      <th>4</th>\n",
       "      <td>train/0001.jpg</td>\n",
       "      <td>Plastic</td>\n",
       "      <td>5</td>\n",
       "      <td>353.2</td>\n",
       "      <td>671.0</td>\n",
       "      <td>586.9</td>\n",
       "      <td>774.4</td>\n",
       "      <td>1</td>\n",
       "    </tr>\n",
       "    <tr>\n",
       "      <th>...</th>\n",
       "      <td>...</td>\n",
       "      <td>...</td>\n",
       "      <td>...</td>\n",
       "      <td>...</td>\n",
       "      <td>...</td>\n",
       "      <td>...</td>\n",
       "      <td>...</td>\n",
       "      <td>...</td>\n",
       "    </tr>\n",
       "    <tr>\n",
       "      <th>23139</th>\n",
       "      <td>train/4882.jpg</td>\n",
       "      <td>Plastic</td>\n",
       "      <td>5</td>\n",
       "      <td>0.0</td>\n",
       "      <td>116.2</td>\n",
       "      <td>944.1</td>\n",
       "      <td>930.3</td>\n",
       "      <td>4882</td>\n",
       "    </tr>\n",
       "    <tr>\n",
       "      <th>23140</th>\n",
       "      <td>train/4882.jpg</td>\n",
       "      <td>Plastic bag</td>\n",
       "      <td>7</td>\n",
       "      <td>302.1</td>\n",
       "      <td>439.3</td>\n",
       "      <td>567.3</td>\n",
       "      <td>655.4</td>\n",
       "      <td>4882</td>\n",
       "    </tr>\n",
       "    <tr>\n",
       "      <th>23141</th>\n",
       "      <td>train/4882.jpg</td>\n",
       "      <td>General trash</td>\n",
       "      <td>0</td>\n",
       "      <td>511.3</td>\n",
       "      <td>451.1</td>\n",
       "      <td>570.0</td>\n",
       "      <td>481.3</td>\n",
       "      <td>4882</td>\n",
       "    </tr>\n",
       "    <tr>\n",
       "      <th>23142</th>\n",
       "      <td>train/4882.jpg</td>\n",
       "      <td>Paper</td>\n",
       "      <td>1</td>\n",
       "      <td>255.0</td>\n",
       "      <td>421.4</td>\n",
       "      <td>526.7</td>\n",
       "      <td>616.5</td>\n",
       "      <td>4882</td>\n",
       "    </tr>\n",
       "    <tr>\n",
       "      <th>23143</th>\n",
       "      <td>train/4882.jpg</td>\n",
       "      <td>Paper</td>\n",
       "      <td>1</td>\n",
       "      <td>145.4</td>\n",
       "      <td>295.4</td>\n",
       "      <td>565.6</td>\n",
       "      <td>651.5</td>\n",
       "      <td>4882</td>\n",
       "    </tr>\n",
       "  </tbody>\n",
       "</table>\n",
       "<p>23144 rows × 8 columns</p>\n",
       "</div>"
      ],
      "text/plain": [
       "             image_id     class_name  class_id  x_min  y_min  x_max  y_max  \\\n",
       "0      train/0000.jpg  General trash         0  197.6  193.7  745.4  663.4   \n",
       "1      train/0001.jpg          Metal         3    0.0  407.4   57.6  588.0   \n",
       "2      train/0001.jpg    Plastic bag         7    0.0  455.6  144.6  637.2   \n",
       "3      train/0001.jpg          Glass         4  722.3  313.4  996.6  565.3   \n",
       "4      train/0001.jpg        Plastic         5  353.2  671.0  586.9  774.4   \n",
       "...               ...            ...       ...    ...    ...    ...    ...   \n",
       "23139  train/4882.jpg        Plastic         5    0.0  116.2  944.1  930.3   \n",
       "23140  train/4882.jpg    Plastic bag         7  302.1  439.3  567.3  655.4   \n",
       "23141  train/4882.jpg  General trash         0  511.3  451.1  570.0  481.3   \n",
       "23142  train/4882.jpg          Paper         1  255.0  421.4  526.7  616.5   \n",
       "23143  train/4882.jpg          Paper         1  145.4  295.4  565.6  651.5   \n",
       "\n",
       "         id  \n",
       "0         0  \n",
       "1         1  \n",
       "2         1  \n",
       "3         1  \n",
       "4         1  \n",
       "...     ...  \n",
       "23139  4882  \n",
       "23140  4882  \n",
       "23141  4882  \n",
       "23142  4882  \n",
       "23143  4882  \n",
       "\n",
       "[23144 rows x 8 columns]"
      ]
     },
     "execution_count": 50,
     "metadata": {},
     "output_type": "execute_result"
    }
   ],
   "source": [
    "train_df"
   ]
  },
  {
   "cell_type": "code",
   "execution_count": 51,
   "metadata": {},
   "outputs": [],
   "source": [
    "z_score_limit = 3.5 # sigma 범위\n",
    "remove_df = pd.DataFrame()\n",
    "\n",
    "index_ = pd.DataFrame()\n",
    "mean_value = train_df['id'].value_counts().mean()\n",
    "std_value = train_df['id'].value_counts().std()\n",
    "\n",
    "index_['z_score'] = (train_df['id'].value_counts()-mean_value)/std_value\n",
    "removed_name = [i for i in index_.index if index_['z_score'][i] > z_score_limit]\n",
    "#removed_id = [ i for i in removed_index if ]\n"
   ]
  },
  {
   "cell_type": "code",
   "execution_count": 52,
   "metadata": {},
   "outputs": [
    {
     "data": {
      "text/plain": [
       "\"\\nz_score_limit = 3.5 # sigma 범위\\nremove_df = pd.DataFrame()\\n\\nindex_ = pd.DataFrame()\\nmean_value = train_df['image_id'].value_counts().mean()\\nstd_value = train_df['image_id'].value_counts().std()\\n\\nindex_['z_score'] = (train_df['image_id'].value_counts()-mean_value)/std_value\\nremoved_name = [i for i in index_.index if index_['z_score'][i] > z_score_limit]\\nremoved_id = [ i for i in removed_index if ]\\n\""
      ]
     },
     "execution_count": 52,
     "metadata": {},
     "output_type": "execute_result"
    }
   ],
   "source": [
    "'''\n",
    "z_score_limit = 3.5 # sigma 범위\n",
    "remove_df = pd.DataFrame()\n",
    "\n",
    "index_ = pd.DataFrame()\n",
    "mean_value = train_df['image_id'].value_counts().mean()\n",
    "std_value = train_df['image_id'].value_counts().std()\n",
    "\n",
    "index_['z_score'] = (train_df['image_id'].value_counts()-mean_value)/std_value\n",
    "removed_name = [i for i in index_.index if index_['z_score'][i] > z_score_limit]\n",
    "removed_id = [ i for i in removed_index if ]\n",
    "'''"
   ]
  },
  {
   "cell_type": "code",
   "execution_count": 116,
   "metadata": {},
   "outputs": [
    {
     "data": {
      "text/plain": [
       "[62,\n",
       " 118,\n",
       " 168,\n",
       " 190,\n",
       " 221,\n",
       " 272,\n",
       " 321,\n",
       " 352,\n",
       " 384,\n",
       " 389,\n",
       " 394,\n",
       " 624,\n",
       " 655,\n",
       " 694,\n",
       " 751,\n",
       " 767,\n",
       " 833,\n",
       " 840,\n",
       " 912,\n",
       " 946,\n",
       " 956,\n",
       " 1002,\n",
       " 1020,\n",
       " 1021,\n",
       " 1058,\n",
       " 1065,\n",
       " 1177,\n",
       " 1372,\n",
       " 1496,\n",
       " 1669,\n",
       " 1671,\n",
       " 1678,\n",
       " 1797,\n",
       " 1872,\n",
       " 1918,\n",
       " 1955,\n",
       " 1963,\n",
       " 1997,\n",
       " 2075,\n",
       " 2182,\n",
       " 2189,\n",
       " 2387,\n",
       " 2416,\n",
       " 2521,\n",
       " 2572,\n",
       " 2612,\n",
       " 2648,\n",
       " 2678,\n",
       " 2794,\n",
       " 2815,\n",
       " 2852,\n",
       " 2918,\n",
       " 2956,\n",
       " 2981,\n",
       " 3026,\n",
       " 3046,\n",
       " 3049,\n",
       " 3055,\n",
       " 3115,\n",
       " 3135,\n",
       " 3148,\n",
       " 3275,\n",
       " 3403,\n",
       " 3430,\n",
       " 3450,\n",
       " 3601,\n",
       " 3716,\n",
       " 3796,\n",
       " 3825,\n",
       " 3929,\n",
       " 3953,\n",
       " 3962,\n",
       " 4047,\n",
       " 4119,\n",
       " 4163,\n",
       " 4187,\n",
       " 4197,\n",
       " 4225,\n",
       " 4261,\n",
       " 4468,\n",
       " 4492,\n",
       " 4530,\n",
       " 4537,\n",
       " 4570,\n",
       " 4778,\n",
       " 4841]"
      ]
     },
     "execution_count": 116,
     "metadata": {},
     "output_type": "execute_result"
    }
   ],
   "source": [
    "removed_name.sort()\n",
    "removed_name"
   ]
  },
  {
   "cell_type": "code",
   "execution_count": 55,
   "metadata": {},
   "outputs": [
    {
     "data": {
      "text/plain": [
       "86"
      ]
     },
     "execution_count": 55,
     "metadata": {},
     "output_type": "execute_result"
    }
   ],
   "source": [
    "len(removed_name)"
   ]
  },
  {
   "cell_type": "markdown",
   "metadata": {},
   "source": [
    "## updated_train.json 생성"
   ]
  },
  {
   "cell_type": "code",
   "execution_count": 124,
   "metadata": {},
   "outputs": [],
   "source": [
    "# 새 파일 생성\n",
    "root = '../../dataset/'\n",
    "file_name = 'train.json'\n",
    "save_name = 'changed_train.json'\n",
    "train_df = pd.DataFrame\n",
    "\n",
    "with open(os.path.join(root,file_name),'r') as f:\n",
    "    coco_json = json.load(f)\n"
   ]
  },
  {
   "cell_type": "code",
   "execution_count": 125,
   "metadata": {},
   "outputs": [
    {
     "data": {
      "text/plain": [
       "dict_keys(['info', 'licenses', 'images', 'categories', 'annotations'])"
      ]
     },
     "execution_count": 125,
     "metadata": {},
     "output_type": "execute_result"
    }
   ],
   "source": [
    "coco_json.keys()"
   ]
  },
  {
   "cell_type": "code",
   "execution_count": 126,
   "metadata": {},
   "outputs": [
    {
     "data": {
      "text/plain": [
       "[{'width': 1024,\n",
       "  'height': 1024,\n",
       "  'file_name': 'train/0061.jpg',\n",
       "  'license': 0,\n",
       "  'flickr_url': None,\n",
       "  'coco_url': None,\n",
       "  'date_captured': '2020-12-27 16:38:42',\n",
       "  'id': 61},\n",
       " {'width': 1024,\n",
       "  'height': 1024,\n",
       "  'file_name': 'train/0062.jpg',\n",
       "  'license': 0,\n",
       "  'flickr_url': None,\n",
       "  'coco_url': None,\n",
       "  'date_captured': '2021-01-04 17:20:05',\n",
       "  'id': 62},\n",
       " {'width': 1024,\n",
       "  'height': 1024,\n",
       "  'file_name': 'train/0063.jpg',\n",
       "  'license': 0,\n",
       "  'flickr_url': None,\n",
       "  'coco_url': None,\n",
       "  'date_captured': '2020-12-26 14:32:24',\n",
       "  'id': 63}]"
      ]
     },
     "execution_count": 126,
     "metadata": {},
     "output_type": "execute_result"
    }
   ],
   "source": [
    "coco_json['images'][61:64]  # image 원본 데이터 id = 62번 데이터 존재."
   ]
  },
  {
   "cell_type": "code",
   "execution_count": 127,
   "metadata": {},
   "outputs": [
    {
     "data": {
      "text/plain": [
       "[{'image_id': 61,\n",
       "  'category_id': 3,\n",
       "  'area': 251336.47,\n",
       "  'bbox': [265.4, 332.9, 535.1, 469.7],\n",
       "  'iscrowd': 0,\n",
       "  'id': 290},\n",
       " {'image_id': 62,\n",
       "  'category_id': 7,\n",
       "  'area': 164740.8,\n",
       "  'bbox': [308.8, 164.3, 490.3, 336.0],\n",
       "  'iscrowd': 0,\n",
       "  'id': 291},\n",
       " {'image_id': 62,\n",
       "  'category_id': 7,\n",
       "  'area': 98912.58,\n",
       "  'bbox': [94.5, 337.8, 360.6, 274.3],\n",
       "  'iscrowd': 0,\n",
       "  'id': 292},\n",
       " {'image_id': 62,\n",
       "  'category_id': 1,\n",
       "  'area': 154521.43,\n",
       "  'bbox': [406.3, 426.2, 490.7, 314.9],\n",
       "  'iscrowd': 0,\n",
       "  'id': 293}]"
      ]
     },
     "execution_count": 127,
     "metadata": {},
     "output_type": "execute_result"
    }
   ],
   "source": [
    "coco_json['annotations'][290:294] # annotation 원본 데이터 image_id = 62번 데이터 존재."
   ]
  },
  {
   "cell_type": "code",
   "execution_count": 133,
   "metadata": {},
   "outputs": [],
   "source": [
    "coco_info = coco_json['info']\n",
    "coco_licenses = coco_json['licenses']\n",
    "coco_images = [ i for i in coco_json['images'] if i['id'] not in removed_name ]\n",
    "coco_categories = coco_json['categories']\n",
    "coco_annotations = [ i for i in coco_json['annotations'] if i['image_id'] not in removed_name ]"
   ]
  },
  {
   "cell_type": "code",
   "execution_count": 134,
   "metadata": {},
   "outputs": [
    {
     "data": {
      "text/plain": [
       "[{'width': 1024,\n",
       "  'height': 1024,\n",
       "  'file_name': 'train/0061.jpg',\n",
       "  'license': 0,\n",
       "  'flickr_url': None,\n",
       "  'coco_url': None,\n",
       "  'date_captured': '2020-12-27 16:38:42',\n",
       "  'id': 61},\n",
       " {'width': 1024,\n",
       "  'height': 1024,\n",
       "  'file_name': 'train/0063.jpg',\n",
       "  'license': 0,\n",
       "  'flickr_url': None,\n",
       "  'coco_url': None,\n",
       "  'date_captured': '2020-12-26 14:32:24',\n",
       "  'id': 63},\n",
       " {'width': 1024,\n",
       "  'height': 1024,\n",
       "  'file_name': 'train/0064.jpg',\n",
       "  'license': 0,\n",
       "  'flickr_url': None,\n",
       "  'coco_url': None,\n",
       "  'date_captured': '2020-12-26 23:33:30',\n",
       "  'id': 64}]"
      ]
     },
     "execution_count": 134,
     "metadata": {},
     "output_type": "execute_result"
    }
   ],
   "source": [
    "coco_images[61:64] # id : 0062.jpg 데이터 누락"
   ]
  },
  {
   "cell_type": "code",
   "execution_count": 135,
   "metadata": {},
   "outputs": [
    {
     "data": {
      "text/plain": [
       "[{'image_id': 61,\n",
       "  'category_id': 3,\n",
       "  'area': 251336.47,\n",
       "  'bbox': [265.4, 332.9, 535.1, 469.7],\n",
       "  'iscrowd': 0,\n",
       "  'id': 290},\n",
       " {'image_id': 63,\n",
       "  'category_id': 2,\n",
       "  'area': 90612.24,\n",
       "  'bbox': [309.3, 383.8, 272.6, 332.4],\n",
       "  'iscrowd': 0,\n",
       "  'id': 319},\n",
       " {'image_id': 63,\n",
       "  'category_id': 2,\n",
       "  'area': 159779.83,\n",
       "  'bbox': [312.3, 217.6, 468.7, 340.9],\n",
       "  'iscrowd': 0,\n",
       "  'id': 320},\n",
       " {'image_id': 64,\n",
       "  'category_id': 3,\n",
       "  'area': 125654.76,\n",
       "  'bbox': [243.5, 240.3, 415.8, 302.2],\n",
       "  'iscrowd': 0,\n",
       "  'id': 321}]"
      ]
     },
     "execution_count": 135,
     "metadata": {},
     "output_type": "execute_result"
    }
   ],
   "source": [
    "coco_annotations[290:294] # image_id : 0062.jpg 데이터 누락"
   ]
  },
  {
   "cell_type": "code",
   "execution_count": 136,
   "metadata": {},
   "outputs": [],
   "source": [
    "new_data = {\n",
    "    'info': coco_info,\n",
    "    'licenses': coco_licenses,\n",
    "    'images': coco_images,\n",
    "    'categories': coco_categories,\n",
    "    'annotations': coco_annotations\n",
    "}"
   ]
  },
  {
   "cell_type": "code",
   "execution_count": 137,
   "metadata": {},
   "outputs": [
    {
     "data": {
      "text/plain": [
       "dict_keys(['info', 'licenses', 'images', 'categories', 'annotations'])"
      ]
     },
     "execution_count": 137,
     "metadata": {},
     "output_type": "execute_result"
    }
   ],
   "source": [
    "new_data.keys()"
   ]
  },
  {
   "cell_type": "code",
   "execution_count": 138,
   "metadata": {},
   "outputs": [],
   "source": [
    "# 새 파일 생성\n",
    "root = '../../dataset/'\n",
    "file_name = 'train.json'\n",
    "save_name = 'updated_train.json'\n",
    "train_df = pd.DataFrame\n",
    "output_path = os.path.join(root,save_name)\n",
    "\n",
    "with open(output_path,'w') as f:\n",
    "    json.dump(new_data, f, indent=2)"
   ]
  }
 ],
 "metadata": {
  "kernelspec": {
   "display_name": "base",
   "language": "python",
   "name": "python3"
  },
  "language_info": {
   "codemirror_mode": {
    "name": "ipython",
    "version": 3
   },
   "file_extension": ".py",
   "mimetype": "text/x-python",
   "name": "python",
   "nbconvert_exporter": "python",
   "pygments_lexer": "ipython3",
   "version": "3.10.13"
  }
 },
 "nbformat": 4,
 "nbformat_minor": 2
}
