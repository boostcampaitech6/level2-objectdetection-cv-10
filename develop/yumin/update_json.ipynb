{
 "cells": [
  {
   "cell_type": "markdown",
   "metadata": {},
   "source": [
    "## 데이터 솎아내기"
   ]
  },
  {
   "cell_type": "code",
   "execution_count": 5,
   "metadata": {},
   "outputs": [],
   "source": [
    "import json \n",
    "import os\n",
    "import pandas as pd\n",
    "from pycocotools.coco import COCO"
   ]
  },
  {
   "cell_type": "code",
   "execution_count": 6,
   "metadata": {},
   "outputs": [
    {
     "name": "stdout",
     "output_type": "stream",
     "text": [
      "loading annotations into memory...\n",
      "Done (t=0.17s)\n",
      "creating index...\n",
      "index created!\n"
     ]
    }
   ],
   "source": [
    "coco = COCO('../../dataset/train.json')\n",
    "\n",
    "train_df = pd.DataFrame()\n",
    "\n",
    "image_ids = []\n",
    "class_name = []\n",
    "class_id = []\n",
    "x_min = []\n",
    "y_min = []\n",
    "x_max = []\n",
    "y_max = []\n",
    "classes = [\"General trash\", \"Paper\", \"Paper pack\", \"Metal\", \"Glass\", \n",
    "           \"Plastic\", \"Styrofoam\", \"Plastic bag\", \"Battery\", \"Clothing\"]\n",
    "for image_id in coco.getImgIds():\n",
    "        \n",
    "    image_info = coco.loadImgs(image_id)[0]\n",
    "    ann_ids = coco.getAnnIds(imgIds=image_info['id'])\n",
    "    anns = coco.loadAnns(ann_ids)\n",
    "        \n",
    "    file_name = image_info['file_name']\n",
    "        \n",
    "    for ann in anns:\n",
    "        image_ids.append(file_name)\n",
    "        class_name.append(classes[ann['category_id']])\n",
    "        class_id.append(ann['category_id'])\n",
    "        x_min.append(float(ann['bbox'][0]))\n",
    "        y_min.append(float(ann['bbox'][1]))\n",
    "        x_max.append(float(ann['bbox'][0]) + float(ann['bbox'][2]))\n",
    "        y_max.append(float(ann['bbox'][1]) + float(ann['bbox'][3]))\n",
    "\n",
    "train_df['image_id'] = image_ids\n",
    "train_df['class_name'] = class_name\n",
    "train_df['class_id'] = class_id\n",
    "train_df['x_min'] = x_min\n",
    "train_df['y_min'] = y_min\n",
    "train_df['x_max'] = x_max\n",
    "train_df['y_max'] = y_max\n",
    "\n"
   ]
  },
  {
   "cell_type": "code",
   "execution_count": 7,
   "metadata": {},
   "outputs": [
    {
     "data": {
      "text/html": [
       "<div>\n",
       "<style scoped>\n",
       "    .dataframe tbody tr th:only-of-type {\n",
       "        vertical-align: middle;\n",
       "    }\n",
       "\n",
       "    .dataframe tbody tr th {\n",
       "        vertical-align: top;\n",
       "    }\n",
       "\n",
       "    .dataframe thead th {\n",
       "        text-align: right;\n",
       "    }\n",
       "</style>\n",
       "<table border=\"1\" class=\"dataframe\">\n",
       "  <thead>\n",
       "    <tr style=\"text-align: right;\">\n",
       "      <th></th>\n",
       "      <th>image_id</th>\n",
       "      <th>class_name</th>\n",
       "      <th>class_id</th>\n",
       "      <th>x_min</th>\n",
       "      <th>y_min</th>\n",
       "      <th>x_max</th>\n",
       "      <th>y_max</th>\n",
       "    </tr>\n",
       "  </thead>\n",
       "  <tbody>\n",
       "    <tr>\n",
       "      <th>0</th>\n",
       "      <td>train/0000.jpg</td>\n",
       "      <td>General trash</td>\n",
       "      <td>0</td>\n",
       "      <td>197.6</td>\n",
       "      <td>193.7</td>\n",
       "      <td>745.4</td>\n",
       "      <td>663.4</td>\n",
       "    </tr>\n",
       "    <tr>\n",
       "      <th>1</th>\n",
       "      <td>train/0001.jpg</td>\n",
       "      <td>Metal</td>\n",
       "      <td>3</td>\n",
       "      <td>0.0</td>\n",
       "      <td>407.4</td>\n",
       "      <td>57.6</td>\n",
       "      <td>588.0</td>\n",
       "    </tr>\n",
       "    <tr>\n",
       "      <th>2</th>\n",
       "      <td>train/0001.jpg</td>\n",
       "      <td>Plastic bag</td>\n",
       "      <td>7</td>\n",
       "      <td>0.0</td>\n",
       "      <td>455.6</td>\n",
       "      <td>144.6</td>\n",
       "      <td>637.2</td>\n",
       "    </tr>\n",
       "    <tr>\n",
       "      <th>3</th>\n",
       "      <td>train/0001.jpg</td>\n",
       "      <td>Glass</td>\n",
       "      <td>4</td>\n",
       "      <td>722.3</td>\n",
       "      <td>313.4</td>\n",
       "      <td>996.6</td>\n",
       "      <td>565.3</td>\n",
       "    </tr>\n",
       "    <tr>\n",
       "      <th>4</th>\n",
       "      <td>train/0001.jpg</td>\n",
       "      <td>Plastic</td>\n",
       "      <td>5</td>\n",
       "      <td>353.2</td>\n",
       "      <td>671.0</td>\n",
       "      <td>586.9</td>\n",
       "      <td>774.4</td>\n",
       "    </tr>\n",
       "    <tr>\n",
       "      <th>...</th>\n",
       "      <td>...</td>\n",
       "      <td>...</td>\n",
       "      <td>...</td>\n",
       "      <td>...</td>\n",
       "      <td>...</td>\n",
       "      <td>...</td>\n",
       "      <td>...</td>\n",
       "    </tr>\n",
       "    <tr>\n",
       "      <th>23139</th>\n",
       "      <td>train/4882.jpg</td>\n",
       "      <td>Plastic</td>\n",
       "      <td>5</td>\n",
       "      <td>0.0</td>\n",
       "      <td>116.2</td>\n",
       "      <td>944.1</td>\n",
       "      <td>930.3</td>\n",
       "    </tr>\n",
       "    <tr>\n",
       "      <th>23140</th>\n",
       "      <td>train/4882.jpg</td>\n",
       "      <td>Plastic bag</td>\n",
       "      <td>7</td>\n",
       "      <td>302.1</td>\n",
       "      <td>439.3</td>\n",
       "      <td>567.3</td>\n",
       "      <td>655.4</td>\n",
       "    </tr>\n",
       "    <tr>\n",
       "      <th>23141</th>\n",
       "      <td>train/4882.jpg</td>\n",
       "      <td>General trash</td>\n",
       "      <td>0</td>\n",
       "      <td>511.3</td>\n",
       "      <td>451.1</td>\n",
       "      <td>570.0</td>\n",
       "      <td>481.3</td>\n",
       "    </tr>\n",
       "    <tr>\n",
       "      <th>23142</th>\n",
       "      <td>train/4882.jpg</td>\n",
       "      <td>Paper</td>\n",
       "      <td>1</td>\n",
       "      <td>255.0</td>\n",
       "      <td>421.4</td>\n",
       "      <td>526.7</td>\n",
       "      <td>616.5</td>\n",
       "    </tr>\n",
       "    <tr>\n",
       "      <th>23143</th>\n",
       "      <td>train/4882.jpg</td>\n",
       "      <td>Paper</td>\n",
       "      <td>1</td>\n",
       "      <td>145.4</td>\n",
       "      <td>295.4</td>\n",
       "      <td>565.6</td>\n",
       "      <td>651.5</td>\n",
       "    </tr>\n",
       "  </tbody>\n",
       "</table>\n",
       "<p>23144 rows × 7 columns</p>\n",
       "</div>"
      ],
      "text/plain": [
       "             image_id     class_name  class_id  x_min  y_min  x_max  y_max\n",
       "0      train/0000.jpg  General trash         0  197.6  193.7  745.4  663.4\n",
       "1      train/0001.jpg          Metal         3    0.0  407.4   57.6  588.0\n",
       "2      train/0001.jpg    Plastic bag         7    0.0  455.6  144.6  637.2\n",
       "3      train/0001.jpg          Glass         4  722.3  313.4  996.6  565.3\n",
       "4      train/0001.jpg        Plastic         5  353.2  671.0  586.9  774.4\n",
       "...               ...            ...       ...    ...    ...    ...    ...\n",
       "23139  train/4882.jpg        Plastic         5    0.0  116.2  944.1  930.3\n",
       "23140  train/4882.jpg    Plastic bag         7  302.1  439.3  567.3  655.4\n",
       "23141  train/4882.jpg  General trash         0  511.3  451.1  570.0  481.3\n",
       "23142  train/4882.jpg          Paper         1  255.0  421.4  526.7  616.5\n",
       "23143  train/4882.jpg          Paper         1  145.4  295.4  565.6  651.5\n",
       "\n",
       "[23144 rows x 7 columns]"
      ]
     },
     "execution_count": 7,
     "metadata": {},
     "output_type": "execute_result"
    }
   ],
   "source": [
    "train_df"
   ]
  },
  {
   "cell_type": "code",
   "execution_count": 8,
   "metadata": {},
   "outputs": [],
   "source": [
    "z_score_limit = 3.5 # sigma 범위\n",
    "\n",
    "index_ = pd.DataFrame()\n",
    "mean_value = train_df['image_id'].value_counts().mean()\n",
    "std_value = train_df['image_id'].value_counts().std()\n",
    "\n",
    "index_['z_score'] = (train_df['image_id'].value_counts()-mean_value)/std_value\n",
    "removed_index = [i for i in index_.index if index_['z_score'][i] > z_score_limit]\n"
   ]
  },
  {
   "cell_type": "code",
   "execution_count": 9,
   "metadata": {},
   "outputs": [
    {
     "data": {
      "text/plain": [
       "['train/4197.jpg',\n",
       " 'train/0946.jpg',\n",
       " 'train/4047.jpg',\n",
       " 'train/0394.jpg',\n",
       " 'train/2981.jpg',\n",
       " 'train/2416.jpg',\n",
       " 'train/1955.jpg',\n",
       " 'train/1678.jpg',\n",
       " 'train/4492.jpg',\n",
       " 'train/1797.jpg',\n",
       " 'train/4841.jpg',\n",
       " 'train/4778.jpg',\n",
       " 'train/3825.jpg',\n",
       " 'train/2521.jpg',\n",
       " 'train/1020.jpg',\n",
       " 'train/1671.jpg',\n",
       " 'train/1058.jpg',\n",
       " 'train/4119.jpg',\n",
       " 'train/0384.jpg',\n",
       " 'train/0624.jpg',\n",
       " 'train/4225.jpg',\n",
       " 'train/3026.jpg',\n",
       " 'train/1872.jpg',\n",
       " 'train/3403.jpg',\n",
       " 'train/1177.jpg',\n",
       " 'train/0694.jpg',\n",
       " 'train/3049.jpg',\n",
       " 'train/0272.jpg',\n",
       " 'train/3046.jpg',\n",
       " 'train/2794.jpg',\n",
       " 'train/3450.jpg',\n",
       " 'train/0352.jpg',\n",
       " 'train/3601.jpg',\n",
       " 'train/0956.jpg',\n",
       " 'train/0655.jpg',\n",
       " 'train/3148.jpg',\n",
       " 'train/1918.jpg',\n",
       " 'train/0833.jpg',\n",
       " 'train/2189.jpg',\n",
       " 'train/4261.jpg',\n",
       " 'train/3430.jpg',\n",
       " 'train/2956.jpg',\n",
       " 'train/2387.jpg',\n",
       " 'train/2572.jpg',\n",
       " 'train/1997.jpg',\n",
       " 'train/0840.jpg',\n",
       " 'train/2678.jpg',\n",
       " 'train/0767.jpg',\n",
       " 'train/0168.jpg',\n",
       " 'train/2182.jpg',\n",
       " 'train/1669.jpg',\n",
       " 'train/3796.jpg',\n",
       " 'train/4537.jpg',\n",
       " 'train/1002.jpg',\n",
       " 'train/0321.jpg',\n",
       " 'train/3135.jpg',\n",
       " 'train/3716.jpg',\n",
       " 'train/1496.jpg',\n",
       " 'train/0751.jpg',\n",
       " 'train/2852.jpg',\n",
       " 'train/2815.jpg',\n",
       " 'train/0389.jpg',\n",
       " 'train/0118.jpg',\n",
       " 'train/4468.jpg',\n",
       " 'train/2612.jpg',\n",
       " 'train/1963.jpg',\n",
       " 'train/3929.jpg',\n",
       " 'train/3962.jpg',\n",
       " 'train/3115.jpg',\n",
       " 'train/2918.jpg',\n",
       " 'train/3953.jpg',\n",
       " 'train/0062.jpg',\n",
       " 'train/4163.jpg',\n",
       " 'train/0221.jpg',\n",
       " 'train/1372.jpg',\n",
       " 'train/0912.jpg',\n",
       " 'train/2075.jpg',\n",
       " 'train/4530.jpg',\n",
       " 'train/2648.jpg',\n",
       " 'train/3275.jpg',\n",
       " 'train/4570.jpg',\n",
       " 'train/1021.jpg',\n",
       " 'train/4187.jpg',\n",
       " 'train/1065.jpg',\n",
       " 'train/3055.jpg',\n",
       " 'train/0190.jpg']"
      ]
     },
     "execution_count": 9,
     "metadata": {},
     "output_type": "execute_result"
    }
   ],
   "source": [
    "removed_index"
   ]
  },
  {
   "cell_type": "code",
   "execution_count": 10,
   "metadata": {},
   "outputs": [
    {
     "data": {
      "text/plain": [
       "86"
      ]
     },
     "execution_count": 10,
     "metadata": {},
     "output_type": "execute_result"
    }
   ],
   "source": [
    "len(removed_index)"
   ]
  },
  {
   "cell_type": "markdown",
   "metadata": {},
   "source": [
    "## updated_train.json 생성"
   ]
  },
  {
   "cell_type": "code",
   "execution_count": 11,
   "metadata": {},
   "outputs": [],
   "source": [
    "# 새 파일 생성\n",
    "root = '../../dataset/'\n",
    "file_name = 'train.json'\n",
    "save_name = 'changed_train.json'\n",
    "train_df = pd.DataFrame\n",
    "\n",
    "with open(os.path.join(root,file_name),'r') as f:\n",
    "    coco_json = json.load(f)\n"
   ]
  },
  {
   "cell_type": "code",
   "execution_count": 12,
   "metadata": {},
   "outputs": [
    {
     "data": {
      "text/plain": [
       "dict_keys(['info', 'licenses', 'images', 'categories', 'annotations'])"
      ]
     },
     "execution_count": 12,
     "metadata": {},
     "output_type": "execute_result"
    }
   ],
   "source": [
    "coco_json.keys()"
   ]
  },
  {
   "cell_type": "code",
   "execution_count": 13,
   "metadata": {},
   "outputs": [
    {
     "data": {
      "text/plain": [
       "[{'width': 1024,\n",
       "  'height': 1024,\n",
       "  'file_name': 'train/0189.jpg',\n",
       "  'license': 0,\n",
       "  'flickr_url': None,\n",
       "  'coco_url': None,\n",
       "  'date_captured': '2020-12-26 15:09:15',\n",
       "  'id': 189},\n",
       " {'width': 1024,\n",
       "  'height': 1024,\n",
       "  'file_name': 'train/0190.jpg',\n",
       "  'license': 0,\n",
       "  'flickr_url': None,\n",
       "  'coco_url': None,\n",
       "  'date_captured': '2020-12-28 12:00:56',\n",
       "  'id': 190},\n",
       " {'width': 1024,\n",
       "  'height': 1024,\n",
       "  'file_name': 'train/0191.jpg',\n",
       "  'license': 0,\n",
       "  'flickr_url': None,\n",
       "  'coco_url': None,\n",
       "  'date_captured': '2020-12-26 21:23:05',\n",
       "  'id': 191}]"
      ]
     },
     "execution_count": 13,
     "metadata": {},
     "output_type": "execute_result"
    }
   ],
   "source": [
    "coco_json['images'][189:192]  # 원본 데이터 images key"
   ]
  },
  {
   "cell_type": "code",
   "execution_count": 14,
   "metadata": {},
   "outputs": [],
   "source": [
    "coco_info = coco_json['info']\n",
    "coco_licenses = coco_json['licenses']\n",
    "coco_images = [ i for i in coco_json['images'] if i['file_name'] not in removed_index]\n",
    "coco_categories = coco_json['categories']\n",
    "coco_annotations = coco_json['annotations']\n"
   ]
  },
  {
   "cell_type": "code",
   "execution_count": 15,
   "metadata": {},
   "outputs": [
    {
     "data": {
      "text/plain": [
       "[{'width': 1024,\n",
       "  'height': 1024,\n",
       "  'file_name': 'train/0188.jpg',\n",
       "  'license': 0,\n",
       "  'flickr_url': None,\n",
       "  'coco_url': None,\n",
       "  'date_captured': '2021-01-04 14:40:10',\n",
       "  'id': 188},\n",
       " {'width': 1024,\n",
       "  'height': 1024,\n",
       "  'file_name': 'train/0189.jpg',\n",
       "  'license': 0,\n",
       "  'flickr_url': None,\n",
       "  'coco_url': None,\n",
       "  'date_captured': '2020-12-26 15:09:15',\n",
       "  'id': 189},\n",
       " {'width': 1024,\n",
       "  'height': 1024,\n",
       "  'file_name': 'train/0191.jpg',\n",
       "  'license': 0,\n",
       "  'flickr_url': None,\n",
       "  'coco_url': None,\n",
       "  'date_captured': '2020-12-26 21:23:05',\n",
       "  'id': 191}]"
      ]
     },
     "execution_count": 15,
     "metadata": {},
     "output_type": "execute_result"
    }
   ],
   "source": [
    "coco_images[185:188] # 0190.jpg 데이터 누락"
   ]
  },
  {
   "cell_type": "code",
   "execution_count": 16,
   "metadata": {},
   "outputs": [],
   "source": [
    "new_data = {\n",
    "    'info': coco_info,\n",
    "    'licenses': coco_licenses,\n",
    "    'images': coco_images,\n",
    "    'categories': coco_categories,\n",
    "    'annotations': coco_annotations\n",
    "}"
   ]
  },
  {
   "cell_type": "code",
   "execution_count": 17,
   "metadata": {},
   "outputs": [
    {
     "data": {
      "text/plain": [
       "dict_keys(['info', 'licenses', 'images', 'categories', 'annotations'])"
      ]
     },
     "execution_count": 17,
     "metadata": {},
     "output_type": "execute_result"
    }
   ],
   "source": [
    "new_data.keys()"
   ]
  },
  {
   "cell_type": "code",
   "execution_count": 18,
   "metadata": {},
   "outputs": [],
   "source": [
    "# 새 파일 생성\n",
    "root = '../../dataset/'\n",
    "file_name = 'train.json'\n",
    "save_name = 'updated_train.json'\n",
    "train_df = pd.DataFrame\n",
    "output_path = os.path.join(root,save_name)\n",
    "\n",
    "with open(output_path,'w') as f:\n",
    "    json.dump(new_data, f, indent=2)"
   ]
  },
  {
   "cell_type": "code",
   "execution_count": null,
   "metadata": {},
   "outputs": [],
   "source": []
  }
 ],
 "metadata": {
  "kernelspec": {
   "display_name": "base",
   "language": "python",
   "name": "python3"
  },
  "language_info": {
   "codemirror_mode": {
    "name": "ipython",
    "version": 3
   },
   "file_extension": ".py",
   "mimetype": "text/x-python",
   "name": "python",
   "nbconvert_exporter": "python",
   "pygments_lexer": "ipython3",
   "version": "3.10.13"
  }
 },
 "nbformat": 4,
 "nbformat_minor": 2
}
