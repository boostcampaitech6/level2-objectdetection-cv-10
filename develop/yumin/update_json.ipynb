{
 "cells": [
  {
   "cell_type": "markdown",
   "metadata": {},
   "source": [
    "## 데이터 솎아내기"
   ]
  },
  {
   "cell_type": "code",
   "execution_count": 1,
   "metadata": {},
   "outputs": [],
   "source": [
    "import json \n",
    "import os\n",
    "import pandas as pd\n",
    "from pycocotools.coco import COCO"
   ]
  },
  {
   "cell_type": "code",
   "execution_count": 2,
   "metadata": {},
   "outputs": [
    {
     "name": "stdout",
     "output_type": "stream",
     "text": [
      "loading annotations into memory...\n",
      "Done (t=0.08s)\n",
      "creating index...\n",
      "index created!\n"
     ]
    }
   ],
   "source": [
    "coco = COCO('../../dataset/train.json')\n",
    "\n",
    "train_df = pd.DataFrame()\n",
    "\n",
    "image_ids = []\n",
    "class_name = []\n",
    "class_id = []\n",
    "x_min = []\n",
    "y_min = []\n",
    "x_max = []\n",
    "y_max = []\n",
    "id = []\n",
    "classes = [\"General trash\", \"Paper\", \"Paper pack\", \"Metal\", \"Glass\", \n",
    "           \"Plastic\", \"Styrofoam\", \"Plastic bag\", \"Battery\", \"Clothing\"]\n",
    "for image_id in coco.getImgIds():\n",
    "        \n",
    "    image_info = coco.loadImgs(image_id)[0]\n",
    "    ann_ids = coco.getAnnIds(imgIds=image_info['id'])\n",
    "    anns = coco.loadAnns(ann_ids)\n",
    "    file_name = image_info['file_name']\n",
    "        \n",
    "    for ann in anns:\n",
    "        image_ids.append(file_name)\n",
    "        class_name.append(classes[ann['category_id']])\n",
    "        class_id.append(ann['category_id'])\n",
    "        x_min.append(float(ann['bbox'][0]))\n",
    "        y_min.append(float(ann['bbox'][1]))\n",
    "        x_max.append(float(ann['bbox'][0]) + float(ann['bbox'][2]))\n",
    "        y_max.append(float(ann['bbox'][1]) + float(ann['bbox'][3]))\n",
    "        id.append(coco.loadImgs(image_id)[0]['id'])        \n",
    "\n",
    "train_df['image_id'] = image_ids\n",
    "train_df['class_name'] = class_name\n",
    "train_df['class_id'] = class_id\n",
    "train_df['x_min'] = x_min\n",
    "train_df['y_min'] = y_min\n",
    "train_df['x_max'] = x_max\n",
    "train_df['y_max'] = y_max\n",
    "train_df['id'] = id\n",
    "\n"
   ]
  },
  {
   "cell_type": "code",
   "execution_count": 3,
   "metadata": {},
   "outputs": [
    {
     "data": {
      "text/html": [
       "<div>\n",
       "<style scoped>\n",
       "    .dataframe tbody tr th:only-of-type {\n",
       "        vertical-align: middle;\n",
       "    }\n",
       "\n",
       "    .dataframe tbody tr th {\n",
       "        vertical-align: top;\n",
       "    }\n",
       "\n",
       "    .dataframe thead th {\n",
       "        text-align: right;\n",
       "    }\n",
       "</style>\n",
       "<table border=\"1\" class=\"dataframe\">\n",
       "  <thead>\n",
       "    <tr style=\"text-align: right;\">\n",
       "      <th></th>\n",
       "      <th>image_id</th>\n",
       "      <th>class_name</th>\n",
       "      <th>class_id</th>\n",
       "      <th>x_min</th>\n",
       "      <th>y_min</th>\n",
       "      <th>x_max</th>\n",
       "      <th>y_max</th>\n",
       "      <th>id</th>\n",
       "    </tr>\n",
       "  </thead>\n",
       "  <tbody>\n",
       "    <tr>\n",
       "      <th>0</th>\n",
       "      <td>train/0000.jpg</td>\n",
       "      <td>General trash</td>\n",
       "      <td>0</td>\n",
       "      <td>197.6</td>\n",
       "      <td>193.7</td>\n",
       "      <td>745.4</td>\n",
       "      <td>663.4</td>\n",
       "      <td>0</td>\n",
       "    </tr>\n",
       "    <tr>\n",
       "      <th>1</th>\n",
       "      <td>train/0001.jpg</td>\n",
       "      <td>Metal</td>\n",
       "      <td>3</td>\n",
       "      <td>0.0</td>\n",
       "      <td>407.4</td>\n",
       "      <td>57.6</td>\n",
       "      <td>588.0</td>\n",
       "      <td>1</td>\n",
       "    </tr>\n",
       "    <tr>\n",
       "      <th>2</th>\n",
       "      <td>train/0001.jpg</td>\n",
       "      <td>Plastic bag</td>\n",
       "      <td>7</td>\n",
       "      <td>0.0</td>\n",
       "      <td>455.6</td>\n",
       "      <td>144.6</td>\n",
       "      <td>637.2</td>\n",
       "      <td>1</td>\n",
       "    </tr>\n",
       "    <tr>\n",
       "      <th>3</th>\n",
       "      <td>train/0001.jpg</td>\n",
       "      <td>Glass</td>\n",
       "      <td>4</td>\n",
       "      <td>722.3</td>\n",
       "      <td>313.4</td>\n",
       "      <td>996.6</td>\n",
       "      <td>565.3</td>\n",
       "      <td>1</td>\n",
       "    </tr>\n",
       "    <tr>\n",
       "      <th>4</th>\n",
       "      <td>train/0001.jpg</td>\n",
       "      <td>Plastic</td>\n",
       "      <td>5</td>\n",
       "      <td>353.2</td>\n",
       "      <td>671.0</td>\n",
       "      <td>586.9</td>\n",
       "      <td>774.4</td>\n",
       "      <td>1</td>\n",
       "    </tr>\n",
       "    <tr>\n",
       "      <th>...</th>\n",
       "      <td>...</td>\n",
       "      <td>...</td>\n",
       "      <td>...</td>\n",
       "      <td>...</td>\n",
       "      <td>...</td>\n",
       "      <td>...</td>\n",
       "      <td>...</td>\n",
       "      <td>...</td>\n",
       "    </tr>\n",
       "    <tr>\n",
       "      <th>23139</th>\n",
       "      <td>train/4882.jpg</td>\n",
       "      <td>Plastic</td>\n",
       "      <td>5</td>\n",
       "      <td>0.0</td>\n",
       "      <td>116.2</td>\n",
       "      <td>944.1</td>\n",
       "      <td>930.3</td>\n",
       "      <td>4882</td>\n",
       "    </tr>\n",
       "    <tr>\n",
       "      <th>23140</th>\n",
       "      <td>train/4882.jpg</td>\n",
       "      <td>Plastic bag</td>\n",
       "      <td>7</td>\n",
       "      <td>302.1</td>\n",
       "      <td>439.3</td>\n",
       "      <td>567.3</td>\n",
       "      <td>655.4</td>\n",
       "      <td>4882</td>\n",
       "    </tr>\n",
       "    <tr>\n",
       "      <th>23141</th>\n",
       "      <td>train/4882.jpg</td>\n",
       "      <td>General trash</td>\n",
       "      <td>0</td>\n",
       "      <td>511.3</td>\n",
       "      <td>451.1</td>\n",
       "      <td>570.0</td>\n",
       "      <td>481.3</td>\n",
       "      <td>4882</td>\n",
       "    </tr>\n",
       "    <tr>\n",
       "      <th>23142</th>\n",
       "      <td>train/4882.jpg</td>\n",
       "      <td>Paper</td>\n",
       "      <td>1</td>\n",
       "      <td>255.0</td>\n",
       "      <td>421.4</td>\n",
       "      <td>526.7</td>\n",
       "      <td>616.5</td>\n",
       "      <td>4882</td>\n",
       "    </tr>\n",
       "    <tr>\n",
       "      <th>23143</th>\n",
       "      <td>train/4882.jpg</td>\n",
       "      <td>Paper</td>\n",
       "      <td>1</td>\n",
       "      <td>145.4</td>\n",
       "      <td>295.4</td>\n",
       "      <td>565.6</td>\n",
       "      <td>651.5</td>\n",
       "      <td>4882</td>\n",
       "    </tr>\n",
       "  </tbody>\n",
       "</table>\n",
       "<p>23144 rows × 8 columns</p>\n",
       "</div>"
      ],
      "text/plain": [
       "             image_id     class_name  class_id  x_min  y_min  x_max  y_max  \\\n",
       "0      train/0000.jpg  General trash         0  197.6  193.7  745.4  663.4   \n",
       "1      train/0001.jpg          Metal         3    0.0  407.4   57.6  588.0   \n",
       "2      train/0001.jpg    Plastic bag         7    0.0  455.6  144.6  637.2   \n",
       "3      train/0001.jpg          Glass         4  722.3  313.4  996.6  565.3   \n",
       "4      train/0001.jpg        Plastic         5  353.2  671.0  586.9  774.4   \n",
       "...               ...            ...       ...    ...    ...    ...    ...   \n",
       "23139  train/4882.jpg        Plastic         5    0.0  116.2  944.1  930.3   \n",
       "23140  train/4882.jpg    Plastic bag         7  302.1  439.3  567.3  655.4   \n",
       "23141  train/4882.jpg  General trash         0  511.3  451.1  570.0  481.3   \n",
       "23142  train/4882.jpg          Paper         1  255.0  421.4  526.7  616.5   \n",
       "23143  train/4882.jpg          Paper         1  145.4  295.4  565.6  651.5   \n",
       "\n",
       "         id  \n",
       "0         0  \n",
       "1         1  \n",
       "2         1  \n",
       "3         1  \n",
       "4         1  \n",
       "...     ...  \n",
       "23139  4882  \n",
       "23140  4882  \n",
       "23141  4882  \n",
       "23142  4882  \n",
       "23143  4882  \n",
       "\n",
       "[23144 rows x 8 columns]"
      ]
     },
     "execution_count": 3,
     "metadata": {},
     "output_type": "execute_result"
    }
   ],
   "source": [
    "train_df"
   ]
  },
  {
   "cell_type": "code",
   "execution_count": 4,
   "metadata": {},
   "outputs": [],
   "source": [
    "z_score_limit = 6 # sigma 범위\n",
    "remove_df = pd.DataFrame()\n",
    "\n",
    "index_ = pd.DataFrame()\n",
    "mean_value = train_df['id'].value_counts().mean()\n",
    "std_value = train_df['id'].value_counts().std()\n",
    "\n",
    "index_['z_score'] = (train_df['id'].value_counts()-mean_value)/std_value\n",
    "removed_name = [i for i in index_.index if index_['z_score'][i] > z_score_limit]\n",
    "#removed_id = [ i for i in removed_index if ]\n"
   ]
  },
  {
   "cell_type": "code",
   "execution_count": 5,
   "metadata": {},
   "outputs": [
    {
     "data": {
      "text/plain": [
       "4197    71\n",
       "946     55\n",
       "4047    52\n",
       "394     48\n",
       "2981    46\n",
       "        ..\n",
       "3359     1\n",
       "3357     1\n",
       "1605     1\n",
       "1608     1\n",
       "0        1\n",
       "Name: id, Length: 4883, dtype: int64"
      ]
     },
     "execution_count": 5,
     "metadata": {},
     "output_type": "execute_result"
    }
   ],
   "source": [
    "train_df['id'].value_counts()"
   ]
  },
  {
   "cell_type": "code",
   "execution_count": 6,
   "metadata": {},
   "outputs": [
    {
     "data": {
      "text/plain": [
       "[394, 946, 1678, 1955, 2416, 2981, 4047, 4197]"
      ]
     },
     "execution_count": 6,
     "metadata": {},
     "output_type": "execute_result"
    }
   ],
   "source": [
    "removed_name.sort()\n",
    "removed_name"
   ]
  },
  {
   "cell_type": "code",
   "execution_count": 7,
   "metadata": {},
   "outputs": [
    {
     "data": {
      "text/plain": [
       "8"
      ]
     },
     "execution_count": 7,
     "metadata": {},
     "output_type": "execute_result"
    }
   ],
   "source": [
    "len(removed_name)"
   ]
  },
  {
   "cell_type": "code",
   "execution_count": 8,
   "metadata": {},
   "outputs": [
    {
     "data": {
      "text/plain": [
       "4492    42\n",
       "1797    42\n",
       "4841    41\n",
       "4778    40\n",
       "3825    40\n",
       "        ..\n",
       "3359     1\n",
       "3357     1\n",
       "1605     1\n",
       "1608     1\n",
       "0        1\n",
       "Name: id, Length: 4875, dtype: int64"
      ]
     },
     "execution_count": 8,
     "metadata": {},
     "output_type": "execute_result"
    }
   ],
   "source": [
    "train_df['id'].value_counts()[len(removed_name):]"
   ]
  },
  {
   "cell_type": "markdown",
   "metadata": {},
   "source": [
    "## updated_train.json 생성"
   ]
  },
  {
   "cell_type": "code",
   "execution_count": 9,
   "metadata": {},
   "outputs": [],
   "source": [
    "# 새 파일 생성\n",
    "root = '../../dataset/'\n",
    "file_name = 'train.json'\n",
    "save_name = 'changed_train.json'\n",
    "train_df = pd.DataFrame\n",
    "\n",
    "with open(os.path.join(root,file_name),'r') as f:\n",
    "    coco_json = json.load(f)\n"
   ]
  },
  {
   "cell_type": "code",
   "execution_count": 10,
   "metadata": {},
   "outputs": [
    {
     "data": {
      "text/plain": [
       "dict_keys(['info', 'licenses', 'images', 'categories', 'annotations'])"
      ]
     },
     "execution_count": 10,
     "metadata": {},
     "output_type": "execute_result"
    }
   ],
   "source": [
    "coco_json.keys()"
   ]
  },
  {
   "cell_type": "code",
   "execution_count": 11,
   "metadata": {},
   "outputs": [
    {
     "data": {
      "text/plain": [
       "[{'width': 1024,\n",
       "  'height': 1024,\n",
       "  'file_name': 'train/0061.jpg',\n",
       "  'license': 0,\n",
       "  'flickr_url': None,\n",
       "  'coco_url': None,\n",
       "  'date_captured': '2020-12-27 16:38:42',\n",
       "  'id': 61},\n",
       " {'width': 1024,\n",
       "  'height': 1024,\n",
       "  'file_name': 'train/0062.jpg',\n",
       "  'license': 0,\n",
       "  'flickr_url': None,\n",
       "  'coco_url': None,\n",
       "  'date_captured': '2021-01-04 17:20:05',\n",
       "  'id': 62},\n",
       " {'width': 1024,\n",
       "  'height': 1024,\n",
       "  'file_name': 'train/0063.jpg',\n",
       "  'license': 0,\n",
       "  'flickr_url': None,\n",
       "  'coco_url': None,\n",
       "  'date_captured': '2020-12-26 14:32:24',\n",
       "  'id': 63}]"
      ]
     },
     "execution_count": 11,
     "metadata": {},
     "output_type": "execute_result"
    }
   ],
   "source": [
    "coco_json['images'][61:64]  # image 원본 데이터 id = 62번 데이터 존재."
   ]
  },
  {
   "cell_type": "code",
   "execution_count": 12,
   "metadata": {},
   "outputs": [
    {
     "data": {
      "text/plain": [
       "[{'image_id': 61,\n",
       "  'category_id': 3,\n",
       "  'area': 251336.47,\n",
       "  'bbox': [265.4, 332.9, 535.1, 469.7],\n",
       "  'iscrowd': 0,\n",
       "  'id': 290},\n",
       " {'image_id': 62,\n",
       "  'category_id': 7,\n",
       "  'area': 164740.8,\n",
       "  'bbox': [308.8, 164.3, 490.3, 336.0],\n",
       "  'iscrowd': 0,\n",
       "  'id': 291},\n",
       " {'image_id': 62,\n",
       "  'category_id': 7,\n",
       "  'area': 98912.58,\n",
       "  'bbox': [94.5, 337.8, 360.6, 274.3],\n",
       "  'iscrowd': 0,\n",
       "  'id': 292},\n",
       " {'image_id': 62,\n",
       "  'category_id': 1,\n",
       "  'area': 154521.43,\n",
       "  'bbox': [406.3, 426.2, 490.7, 314.9],\n",
       "  'iscrowd': 0,\n",
       "  'id': 293}]"
      ]
     },
     "execution_count": 12,
     "metadata": {},
     "output_type": "execute_result"
    }
   ],
   "source": [
    "coco_json['annotations'][290:294] # annotation 원본 데이터 image_id = 62번 데이터 존재."
   ]
  },
  {
   "cell_type": "code",
   "execution_count": 13,
   "metadata": {},
   "outputs": [],
   "source": [
    "coco_info = coco_json['info']\n",
    "coco_licenses = coco_json['licenses']\n",
    "coco_images = [ i for i in coco_json['images'] if i['id'] not in removed_name ]\n",
    "coco_categories = coco_json['categories']\n",
    "coco_annotations = [ i for i in coco_json['annotations'] if i['image_id'] not in removed_name ]"
   ]
  },
  {
   "cell_type": "code",
   "execution_count": 14,
   "metadata": {},
   "outputs": [
    {
     "data": {
      "text/plain": [
       "[{'width': 1024,\n",
       "  'height': 1024,\n",
       "  'file_name': 'train/0061.jpg',\n",
       "  'license': 0,\n",
       "  'flickr_url': None,\n",
       "  'coco_url': None,\n",
       "  'date_captured': '2020-12-27 16:38:42',\n",
       "  'id': 61},\n",
       " {'width': 1024,\n",
       "  'height': 1024,\n",
       "  'file_name': 'train/0062.jpg',\n",
       "  'license': 0,\n",
       "  'flickr_url': None,\n",
       "  'coco_url': None,\n",
       "  'date_captured': '2021-01-04 17:20:05',\n",
       "  'id': 62},\n",
       " {'width': 1024,\n",
       "  'height': 1024,\n",
       "  'file_name': 'train/0063.jpg',\n",
       "  'license': 0,\n",
       "  'flickr_url': None,\n",
       "  'coco_url': None,\n",
       "  'date_captured': '2020-12-26 14:32:24',\n",
       "  'id': 63}]"
      ]
     },
     "execution_count": 14,
     "metadata": {},
     "output_type": "execute_result"
    }
   ],
   "source": [
    "coco_images[61:64] # id : 0062.jpg 데이터 누락"
   ]
  },
  {
   "cell_type": "code",
   "execution_count": 15,
   "metadata": {},
   "outputs": [
    {
     "data": {
      "text/plain": [
       "[{'image_id': 61,\n",
       "  'category_id': 3,\n",
       "  'area': 251336.47,\n",
       "  'bbox': [265.4, 332.9, 535.1, 469.7],\n",
       "  'iscrowd': 0,\n",
       "  'id': 290},\n",
       " {'image_id': 62,\n",
       "  'category_id': 7,\n",
       "  'area': 164740.8,\n",
       "  'bbox': [308.8, 164.3, 490.3, 336.0],\n",
       "  'iscrowd': 0,\n",
       "  'id': 291},\n",
       " {'image_id': 62,\n",
       "  'category_id': 7,\n",
       "  'area': 98912.58,\n",
       "  'bbox': [94.5, 337.8, 360.6, 274.3],\n",
       "  'iscrowd': 0,\n",
       "  'id': 292},\n",
       " {'image_id': 62,\n",
       "  'category_id': 1,\n",
       "  'area': 154521.43,\n",
       "  'bbox': [406.3, 426.2, 490.7, 314.9],\n",
       "  'iscrowd': 0,\n",
       "  'id': 293}]"
      ]
     },
     "execution_count": 15,
     "metadata": {},
     "output_type": "execute_result"
    }
   ],
   "source": [
    "coco_annotations[290:294] # image_id : 0062.jpg 데이터 누락"
   ]
  },
  {
   "cell_type": "code",
   "execution_count": 16,
   "metadata": {},
   "outputs": [],
   "source": [
    "new_data = {\n",
    "    'info': coco_info,\n",
    "    'licenses': coco_licenses,\n",
    "    'images': coco_images,\n",
    "    'categories': coco_categories,\n",
    "    'annotations': coco_annotations\n",
    "}"
   ]
  },
  {
   "cell_type": "code",
   "execution_count": 17,
   "metadata": {},
   "outputs": [
    {
     "data": {
      "text/plain": [
       "dict_keys(['info', 'licenses', 'images', 'categories', 'annotations'])"
      ]
     },
     "execution_count": 17,
     "metadata": {},
     "output_type": "execute_result"
    }
   ],
   "source": [
    "new_data.keys()"
   ]
  },
  {
   "cell_type": "code",
   "execution_count": 18,
   "metadata": {},
   "outputs": [],
   "source": [
    "# 새 파일 생성\n",
    "root = '../../dataset/'\n",
    "file_name = 'train.json'\n",
    "save_name = 'updated_train.json'\n",
    "train_df = pd.DataFrame\n",
    "output_path = os.path.join(root,save_name)\n",
    "\n",
    "with open(output_path,'w') as f:\n",
    "    json.dump(new_data, f, indent=2)"
   ]
  },
  {
   "cell_type": "code",
   "execution_count": null,
   "metadata": {},
   "outputs": [],
   "source": []
  }
 ],
 "metadata": {
  "kernelspec": {
   "display_name": "base",
   "language": "python",
   "name": "python3"
  },
  "language_info": {
   "codemirror_mode": {
    "name": "ipython",
    "version": 3
   },
   "file_extension": ".py",
   "mimetype": "text/x-python",
   "name": "python",
   "nbconvert_exporter": "python",
   "pygments_lexer": "ipython3",
   "version": "3.10.13"
  }
 },
 "nbformat": 4,
 "nbformat_minor": 2
}
